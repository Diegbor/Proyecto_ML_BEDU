{
  "cells": [
    {
      "cell_type": "markdown",
      "metadata": {
        "id": "CyU1yzEptaks"
      },
      "source": [
        "![BEDU logo](https://drive.google.com/uc?id=1GERI1OgKL5MPNdf89PWnYiU1PQ20LJld)"
      ]
    },
    {
      "cell_type": "markdown",
      "metadata": {
        "id": "xKha8PT8rmME"
      },
      "source": [
        "<center> Módulo 4   \n"
      ]
    },
    {
      "cell_type": "markdown",
      "metadata": {
        "id": "vRms7BO39yGK"
      },
      "source": [
        "# <center> Proyecto Machine Learning\n",
        "# <center> Detección de Fraudes en Tarjetas de Crédito"
      ]
    },
    {
      "cell_type": "markdown",
      "metadata": {
        "id": "tOkGbW6BeNm6"
      },
      "source": [
        "\n",
        "__Equipo 24__\n",
        "\n",
        "Integrantes:\n",
        "* Diego\n",
        "* Carlos\n",
        "* Jorge\n",
        "* Pedro\n",
        "* Alexis\n",
        "* Taryn"
      ]
    },
    {
      "cell_type": "markdown",
      "metadata": {
        "id": "Bpfl-v4Ur9Mc"
      },
      "source": [
        "## Objetivo\n",
        "\n"
      ]
    },
    {
      "cell_type": "markdown",
      "metadata": {
        "id": "tffK1zOE06bt"
      },
      "source": [
        "### Descripción del Problema\n",
        "\n",
        "Es importante que las compañías bancarias y crediticias sean capaces de reconocer transacciones fraudulentas en trajetas de crédito para que los tarjetahabientes no reciban cargos deconocidos.  \n",
        "\n"
      ]
    },
    {
      "cell_type": "markdown",
      "metadata": {
        "id": "eJ2wSeD_097p"
      },
      "source": [
        "### Descripción del conjunto de datos\n",
        "\n",
        "\n",
        "El conjunto de datos contiene transacciones realizadas con tarjetas de crédito en septiembre de 2013 por titulares de tarjetas europeos.\n",
        "Este conjunto de datos presenta transacciones que ocurrieron en dos días, donde tenemos 492 fraudes de 284,807 transacciones. __El conjunto de datos está fuertemente desequilibrado: la clase positiva (fraudes) representa el 0.172% de todas las transacciones__.\n",
        "\n",
        "El dataset contiene variables numéricas que son el resultado de una transformación PCA. Lamentablemente, debido a cuestiones de confidencialidad, no podemos proporcionar las características originales ni más información general sobre los datos. Las características V1, V2,… V28 son los componentes principales obtenidos con PCA. Las únicas características que no se han transformado con PCA son 'Time' y 'Amount'.   \n",
        "La característica 'Tiempo' contiene los segundos transcurridos entre cada transacción y la primera transacción en el conjunto de datos.   \n",
        "La característica 'Monto' es el monto de la transacción, esta característica se puede utilizar para dependant cost-sensitive learning.  \n",
        "La característica 'Clase' es la variable de respuesta y toma el valor 1 en caso de fraude y 0 en caso contrario.\n",
        "\n",
        "Dado el __índice de desequilibrio de clases__, recomendamos medir la __precisión utilizando el área bajo la curva de recuperación de precisión (AUPRC)__. La precisión de la matriz de confusión no es significativa para una clasificación desequilibrada.\n",
        "\n",
        "https://www.kaggle.com/datasets/mlg-ulb/creditcardfraud"
      ]
    },
    {
      "cell_type": "markdown",
      "metadata": {
        "id": "znZIkzRZsBqK"
      },
      "source": [
        "## Problema a Resolver y Métodos\n",
        "\n",
        "\n",
        "__Problema__: Utilizar varios modelos predictivos para ver qué tan precisos son para detectar si una transacción es un pago normal o un fraude."
      ]
    },
    {
      "cell_type": "markdown",
      "metadata": {
        "id": "3aUVkoFvDjok"
      },
      "source": [
        "__Modelos__\n",
        "\n",
        "- __Árbol de decisión__: Es un tipo de algoritmo de machine learning algorithm que usa un modelo similar a un árbol para hacer prediciones basadas en las relaciones entre las características del dataset. Trabaja dividiendo los datos en conjuntos más perqueños basados en los valores de las características hasta que alcance una decisión acerca de la variable objetivo para cada grupo.\n",
        "\n",
        "- __Logistic Regression__: Es un tipo de algoritmo de  type of machine learning que es unsado para la clasificación de tareas y modela la probabilidad de que una muestra pertenezca a cierta clase usando una fonción lo´gistica."
      ]
    },
    {
      "cell_type": "markdown",
      "metadata": {
        "id": "D9mOugWKkfJG"
      },
      "source": [
        "Modelo Supervisado de Clasificación:\n",
        "- Probaremos modelos sobre la variable objetivo Class.\n",
        "- El problema principal del dataset es que está desbalanceado, por lo que se usarán técnicas de balanceo de datos (undersampling, oversampling)."
      ]
    },
    {
      "cell_type": "markdown",
      "metadata": {
        "id": "FDinnczn2UNg"
      },
      "source": [
        "### Importando los módulos"
      ]
    },
    {
      "cell_type": "code",
      "execution_count": 1,
      "metadata": {
        "id": "bENEzPGq2TZK"
      },
      "outputs": [],
      "source": [
        "# Para exploración y análisis de datos\n",
        "\n",
        "import pandas as pd  # Para procesamiento de datos, csv, dataframes.\n",
        "import numpy as np  # Para funciones de álgebra lineal y otras funciones matemáticas\n",
        "import seaborn as sns  # Para gráficos\n",
        "import matplotlib.pyplot as plt # Para gráficos\n",
        "import warnings\n",
        "warnings.filterwarnings('ignore')\n",
        "#%matplotlib inline"
      ]
    },
    {
      "cell_type": "markdown",
      "metadata": {
        "id": "7ozLP8ph_e9G"
      },
      "source": [
        "### Leyendo Los datos\n",
        "\n"
      ]
    },
    {
      "cell_type": "markdown",
      "metadata": {},
      "source": [
        "#### APPI Kaggle"
      ]
    },
    {
      "cell_type": "markdown",
      "metadata": {
        "id": "kVyk0YxPC2jn"
      },
      "source": [
        "Usando la metodología de las siguientes páginas para no descargar el archivo localmente, sino extraerlo de la API de Kaggle:\n",
        "* [ Platzi](https://platzi.com/tutoriales/1794-pandas/6926-usando-la-api-de-kaggle-con-google-colab-para-carga-y-descarga-de-datasets/?&gad_source=1&gclid=Cj0KCQiApOyqBhDlARIsAGfnyMr0UeMtsnpiqBIjzxbIBeJ6-zhVZLMzf6CMzPXU1igSDv7E23wc-hYaAoDpEALw_wcB&gclsrc=aw.ds\n",
        ")\n",
        "* [Analyticsvidhya](https://www.analyticsvidhya.com/blog/2021/06/how-to-load-kaggle-datasets-directly-into-google-colab/)"
      ]
    },
    {
      "cell_type": "code",
      "execution_count": 2,
      "metadata": {
        "id": "pVZqCQAB9iFY"
      },
      "outputs": [],
      "source": [
        "# Instalar la librería de Kaggle\n",
        "! pip install -q kaggle"
      ]
    },
    {
      "cell_type": "code",
      "execution_count": 3,
      "metadata": {
        "id": "KrBJdcw7g3zc"
      },
      "outputs": [
        {
          "ename": "ModuleNotFoundError",
          "evalue": "No module named 'google'",
          "output_type": "error",
          "traceback": [
            "\u001b[1;31m---------------------------------------------------------------------------\u001b[0m",
            "\u001b[1;31mModuleNotFoundError\u001b[0m                       Traceback (most recent call last)",
            "Cell \u001b[1;32mIn[3], line 2\u001b[0m\n\u001b[0;32m      1\u001b[0m \u001b[38;5;66;03m# Importar el módulo del sistema de archivos de Google Colab\u001b[39;00m\n\u001b[1;32m----> 2\u001b[0m \u001b[38;5;28;01mfrom\u001b[39;00m \u001b[38;5;21;01mgoogle\u001b[39;00m\u001b[38;5;21;01m.\u001b[39;00m\u001b[38;5;21;01mcolab\u001b[39;00m \u001b[38;5;28;01mimport\u001b[39;00m files\n",
            "\u001b[1;31mModuleNotFoundError\u001b[0m: No module named 'google'"
          ]
        }
      ],
      "source": [
        "# Importar el módulo del sistema de archivos de Google Colab\n",
        "from google.colab import files"
      ]
    },
    {
      "cell_type": "markdown",
      "metadata": {
        "id": "uEaUJG_49WPd"
      },
      "source": [
        "Descargar la API key de la página de Kaggle: Settings-> Account-> API -> Create New API Token -> Guardar el archivo kaggle.json"
      ]
    },
    {
      "cell_type": "code",
      "execution_count": 4,
      "metadata": {
        "colab": {
          "base_uri": "https://localhost:8080/",
          "height": 90
        },
        "id": "fn4g5Ib4-9lw",
        "outputId": "39a6c37d-eac2-4db4-b7c6-4bc4324ae495"
      },
      "outputs": [
        {
          "ename": "NameError",
          "evalue": "name 'files' is not defined",
          "output_type": "error",
          "traceback": [
            "\u001b[1;31m---------------------------------------------------------------------------\u001b[0m",
            "\u001b[1;31mNameError\u001b[0m                                 Traceback (most recent call last)",
            "Cell \u001b[1;32mIn[4], line 2\u001b[0m\n\u001b[0;32m      1\u001b[0m \u001b[38;5;66;03m# Usar el comando de files.upload() para cargar el archivo en el sistema local.\u001b[39;00m\n\u001b[1;32m----> 2\u001b[0m \u001b[43mfiles\u001b[49m\u001b[38;5;241m.\u001b[39mupload()\n",
            "\u001b[1;31mNameError\u001b[0m: name 'files' is not defined"
          ]
        }
      ],
      "source": [
        "# Usar el comando de files.upload() para cargar el archivo en el sistema local.\n",
        "files.upload()"
      ]
    },
    {
      "cell_type": "code",
      "execution_count": 5,
      "metadata": {
        "colab": {
          "base_uri": "https://localhost:8080/"
        },
        "id": "uQEECVj9_MDB",
        "outputId": "1006b515-2039-4ba1-d655-70726760c5b3"
      },
      "outputs": [
        {
          "name": "stdout",
          "output_type": "stream",
          "text": [
            "ref                                                                  title                                               size  lastUpdated          downloadCount  voteCount  usabilityRating  \n",
            "-------------------------------------------------------------------  -------------------------------------------------  -----  -------------------  -------------  ---------  ---------------  \n",
            "thedrcat/daigt-v2-train-dataset                                      DAIGT V2 Train Dataset                              29MB  2023-11-16 01:38:36           1487        153  1.0              \n",
            "muhammadbinimran/housing-price-prediction-data                       Housing Price Prediction Data                      763KB  2023-11-21 17:56:32           6645        119  1.0              \n",
            "thedevastator/netflix-imdb-scores                                    Netflix IMDB Scores                                699KB  2023-12-03 14:10:34           2041         35  1.0              \n",
            "henryshan/starbucks                                                  Starbucks                                            5KB  2023-12-06 03:07:49           1092         35  1.0              \n",
            "thedevastator/summer-products-sales-performance                      Summer Products Sales Performance                  426KB  2023-12-04 18:21:02            960         29  1.0              \n",
            "andreinovikov/olympic-games                                          Olympic games                                       13KB  2023-11-15 18:28:55           1160         22  1.0              \n",
            "khanghunhnguyntrng/football-players-transfer-fee-prediction-dataset  Football Players' Transfer Fee Prediction Dataset  549KB  2023-11-30 07:16:24            836         26  1.0              \n",
            "fatihilhan/global-superstore-dataset                                 Global Superstore Dataset                            3MB  2023-11-16 11:58:36           2039         35  1.0              \n",
            "joebeachcapital/30000-spotify-songs                                  30000 Spotify Songs                                  3MB  2023-11-01 06:06:43          11096        233  1.0              \n",
            "thedevastator/spotify-tracks-genre-dataset                           Spotify Tracks Genre                                 8MB  2023-11-30 04:25:48           1734         49  1.0              \n",
            "thedrcat/daigt-proper-train-dataset                                  DAIGT Proper Train Dataset                         119MB  2023-11-05 14:03:25           1605        143  1.0              \n",
            "ddosad/auto-sales-data                                               Automobile Sales data                               79KB  2023-11-18 12:36:41           4726         78  1.0              \n",
            "carlmcbrideellis/llm-7-prompt-training-dataset                       LLM: 7 prompt training dataset                      41MB  2023-11-15 07:32:56           1590        119  1.0              \n",
            "fatihilhan/electric-vehicle-specifications-and-prices                Electric Vehicle Specifications and Prices          10KB  2023-11-28 08:39:43           1214         27  1.0              \n",
            "chaudharyanshul/airline-reviews                                      Airline Reviews                                      1MB  2023-11-23 01:44:49           1081         29  1.0              \n",
            "adampq/air-quality-index-by-state-1980-2022                          Air Quality Index by State 1980 - 2022             155KB  2023-12-04 17:57:10            740         22  1.0              \n",
            "nelgiriyewithana/world-educational-data                              World Educational Data                               9KB  2023-11-04 06:10:17           8815        172  1.0              \n",
            "mittvin/anime-dataset                                                Anime Dataset                                       22KB  2023-12-05 00:26:43            475         22  1.0              \n",
            "prajwaldongre/microsoft-stock-price2000-2023                         Microsoft Stock Price(2000-2023)                   127KB  2023-11-23 13:35:46            839         29  0.9411765        \n",
            "henryshan/apple-stock-price                                          Apple Stock Price                                  215KB  2023-12-06 12:00:48            585         31  1.0              \n",
            "Downloading creditcardfraud.zip to /content\n",
            "100% 66.0M/66.0M [00:00<00:00, 83.6MB/s]\n",
            "100% 66.0M/66.0M [00:00<00:00, 89.7MB/s]\n",
            "Archive:  creditcardfraud.zip\n",
            "  inflating: creditcard.csv          \n"
          ]
        }
      ],
      "source": [
        "# Crear un directorio llamado kaggle\n",
        "! mkdir ~/.kaggle\n",
        "\n",
        "# Copiar el archivo 'kaggle.json' que se\n",
        "! cp kaggle.json ~/.kaggle/\n",
        "\n",
        "# !cp /content/drive/MyDrive/kaggle.json ~/.kaggle/kaggle.json\n",
        "\n",
        "# Con el código 600 se otorga los permisos de lectura para las credenciales.\n",
        "!chmod 600 ~/.kaggle/kaggle.json\n",
        "\n",
        "# Probar la conexión a la API de Kaggle. Va a salir una lista de los datasets que tenemos disponibles para consulta.\n",
        "! kaggle datasets list\n",
        "\n",
        "# Descargar el dataset de creditcardfraud. https://www.kaggle.com/datasets/mlg-ulb/creditcardfraud\n",
        "! kaggle datasets download -d mlg-ulb/creditcardfraud\n",
        "\n",
        "# Descomprimir el archivo que se descarga.\n",
        "!unzip creditcardfraud.zip\n"
      ]
    },
    {
      "cell_type": "code",
      "execution_count": null,
      "metadata": {},
      "outputs": [],
      "source": [
        "# Leer el archivo csv cen un dataframe con pandas.\n",
        "df = pd.read_csv('/content/creditcard.csv')\n",
        "df.head()"
      ]
    },
    {
      "cell_type": "markdown",
      "metadata": {},
      "source": [
        "#### CSV local"
      ]
    },
    {
      "cell_type": "code",
      "execution_count": 2,
      "metadata": {
        "colab": {
          "base_uri": "https://localhost:8080/",
          "height": 255
        },
        "id": "iDVMUMnmHm2C",
        "outputId": "31ef642b-f0f5-4a06-b96d-2f8cb211dcdc"
      },
      "outputs": [
        {
          "data": {
            "text/html": [
              "<div>\n",
              "<style scoped>\n",
              "    .dataframe tbody tr th:only-of-type {\n",
              "        vertical-align: middle;\n",
              "    }\n",
              "\n",
              "    .dataframe tbody tr th {\n",
              "        vertical-align: top;\n",
              "    }\n",
              "\n",
              "    .dataframe thead th {\n",
              "        text-align: right;\n",
              "    }\n",
              "</style>\n",
              "<table border=\"1\" class=\"dataframe\">\n",
              "  <thead>\n",
              "    <tr style=\"text-align: right;\">\n",
              "      <th></th>\n",
              "      <th>Time</th>\n",
              "      <th>V1</th>\n",
              "      <th>V2</th>\n",
              "      <th>V3</th>\n",
              "      <th>V4</th>\n",
              "      <th>V5</th>\n",
              "      <th>V6</th>\n",
              "      <th>V7</th>\n",
              "      <th>V8</th>\n",
              "      <th>V9</th>\n",
              "      <th>...</th>\n",
              "      <th>V21</th>\n",
              "      <th>V22</th>\n",
              "      <th>V23</th>\n",
              "      <th>V24</th>\n",
              "      <th>V25</th>\n",
              "      <th>V26</th>\n",
              "      <th>V27</th>\n",
              "      <th>V28</th>\n",
              "      <th>Amount</th>\n",
              "      <th>Class</th>\n",
              "    </tr>\n",
              "  </thead>\n",
              "  <tbody>\n",
              "    <tr>\n",
              "      <th>0</th>\n",
              "      <td>0.0</td>\n",
              "      <td>-1.359807</td>\n",
              "      <td>-0.072781</td>\n",
              "      <td>2.536347</td>\n",
              "      <td>1.378155</td>\n",
              "      <td>-0.338321</td>\n",
              "      <td>0.462388</td>\n",
              "      <td>0.239599</td>\n",
              "      <td>0.098698</td>\n",
              "      <td>0.363787</td>\n",
              "      <td>...</td>\n",
              "      <td>-0.018307</td>\n",
              "      <td>0.277838</td>\n",
              "      <td>-0.110474</td>\n",
              "      <td>0.066928</td>\n",
              "      <td>0.128539</td>\n",
              "      <td>-0.189115</td>\n",
              "      <td>0.133558</td>\n",
              "      <td>-0.021053</td>\n",
              "      <td>149.62</td>\n",
              "      <td>0</td>\n",
              "    </tr>\n",
              "    <tr>\n",
              "      <th>1</th>\n",
              "      <td>0.0</td>\n",
              "      <td>1.191857</td>\n",
              "      <td>0.266151</td>\n",
              "      <td>0.166480</td>\n",
              "      <td>0.448154</td>\n",
              "      <td>0.060018</td>\n",
              "      <td>-0.082361</td>\n",
              "      <td>-0.078803</td>\n",
              "      <td>0.085102</td>\n",
              "      <td>-0.255425</td>\n",
              "      <td>...</td>\n",
              "      <td>-0.225775</td>\n",
              "      <td>-0.638672</td>\n",
              "      <td>0.101288</td>\n",
              "      <td>-0.339846</td>\n",
              "      <td>0.167170</td>\n",
              "      <td>0.125895</td>\n",
              "      <td>-0.008983</td>\n",
              "      <td>0.014724</td>\n",
              "      <td>2.69</td>\n",
              "      <td>0</td>\n",
              "    </tr>\n",
              "    <tr>\n",
              "      <th>2</th>\n",
              "      <td>1.0</td>\n",
              "      <td>-1.358354</td>\n",
              "      <td>-1.340163</td>\n",
              "      <td>1.773209</td>\n",
              "      <td>0.379780</td>\n",
              "      <td>-0.503198</td>\n",
              "      <td>1.800499</td>\n",
              "      <td>0.791461</td>\n",
              "      <td>0.247676</td>\n",
              "      <td>-1.514654</td>\n",
              "      <td>...</td>\n",
              "      <td>0.247998</td>\n",
              "      <td>0.771679</td>\n",
              "      <td>0.909412</td>\n",
              "      <td>-0.689281</td>\n",
              "      <td>-0.327642</td>\n",
              "      <td>-0.139097</td>\n",
              "      <td>-0.055353</td>\n",
              "      <td>-0.059752</td>\n",
              "      <td>378.66</td>\n",
              "      <td>0</td>\n",
              "    </tr>\n",
              "    <tr>\n",
              "      <th>3</th>\n",
              "      <td>1.0</td>\n",
              "      <td>-0.966272</td>\n",
              "      <td>-0.185226</td>\n",
              "      <td>1.792993</td>\n",
              "      <td>-0.863291</td>\n",
              "      <td>-0.010309</td>\n",
              "      <td>1.247203</td>\n",
              "      <td>0.237609</td>\n",
              "      <td>0.377436</td>\n",
              "      <td>-1.387024</td>\n",
              "      <td>...</td>\n",
              "      <td>-0.108300</td>\n",
              "      <td>0.005274</td>\n",
              "      <td>-0.190321</td>\n",
              "      <td>-1.175575</td>\n",
              "      <td>0.647376</td>\n",
              "      <td>-0.221929</td>\n",
              "      <td>0.062723</td>\n",
              "      <td>0.061458</td>\n",
              "      <td>123.50</td>\n",
              "      <td>0</td>\n",
              "    </tr>\n",
              "    <tr>\n",
              "      <th>4</th>\n",
              "      <td>2.0</td>\n",
              "      <td>-1.158233</td>\n",
              "      <td>0.877737</td>\n",
              "      <td>1.548718</td>\n",
              "      <td>0.403034</td>\n",
              "      <td>-0.407193</td>\n",
              "      <td>0.095921</td>\n",
              "      <td>0.592941</td>\n",
              "      <td>-0.270533</td>\n",
              "      <td>0.817739</td>\n",
              "      <td>...</td>\n",
              "      <td>-0.009431</td>\n",
              "      <td>0.798278</td>\n",
              "      <td>-0.137458</td>\n",
              "      <td>0.141267</td>\n",
              "      <td>-0.206010</td>\n",
              "      <td>0.502292</td>\n",
              "      <td>0.219422</td>\n",
              "      <td>0.215153</td>\n",
              "      <td>69.99</td>\n",
              "      <td>0</td>\n",
              "    </tr>\n",
              "  </tbody>\n",
              "</table>\n",
              "<p>5 rows × 31 columns</p>\n",
              "</div>"
            ],
            "text/plain": [
              "   Time        V1        V2        V3        V4        V5        V6        V7  \\\n",
              "0   0.0 -1.359807 -0.072781  2.536347  1.378155 -0.338321  0.462388  0.239599   \n",
              "1   0.0  1.191857  0.266151  0.166480  0.448154  0.060018 -0.082361 -0.078803   \n",
              "2   1.0 -1.358354 -1.340163  1.773209  0.379780 -0.503198  1.800499  0.791461   \n",
              "3   1.0 -0.966272 -0.185226  1.792993 -0.863291 -0.010309  1.247203  0.237609   \n",
              "4   2.0 -1.158233  0.877737  1.548718  0.403034 -0.407193  0.095921  0.592941   \n",
              "\n",
              "         V8        V9  ...       V21       V22       V23       V24       V25  \\\n",
              "0  0.098698  0.363787  ... -0.018307  0.277838 -0.110474  0.066928  0.128539   \n",
              "1  0.085102 -0.255425  ... -0.225775 -0.638672  0.101288 -0.339846  0.167170   \n",
              "2  0.247676 -1.514654  ...  0.247998  0.771679  0.909412 -0.689281 -0.327642   \n",
              "3  0.377436 -1.387024  ... -0.108300  0.005274 -0.190321 -1.175575  0.647376   \n",
              "4 -0.270533  0.817739  ... -0.009431  0.798278 -0.137458  0.141267 -0.206010   \n",
              "\n",
              "        V26       V27       V28  Amount  Class  \n",
              "0 -0.189115  0.133558 -0.021053  149.62      0  \n",
              "1  0.125895 -0.008983  0.014724    2.69      0  \n",
              "2 -0.139097 -0.055353 -0.059752  378.66      0  \n",
              "3 -0.221929  0.062723  0.061458  123.50      0  \n",
              "4  0.502292  0.219422  0.215153   69.99      0  \n",
              "\n",
              "[5 rows x 31 columns]"
            ]
          },
          "execution_count": 2,
          "metadata": {},
          "output_type": "execute_result"
        }
      ],
      "source": [
        "# Leer el archivo csv cen un dataframe con pandas.\n",
        "df = pd.read_csv(\"E:\\BEDU\\Curso 4\\Proyecto\\Datos\\creditcard.csv\")\n",
        "df.head()"
      ]
    },
    {
      "cell_type": "markdown",
      "metadata": {
        "id": "qj71ka7DsX91"
      },
      "source": [
        "## 1. Pandas y Análisis Exploratorio de Datos\n",
        "- Crear Series y DataFrames y aprovecharlas a la perfección\n",
        "- Usa conceptos estadísticos para realizar un análisis exploratorio datasets para entender sus datos antes de realizar cualquier manipulación\n",
        "\n"
      ]
    },
    {
      "cell_type": "markdown",
      "metadata": {
        "id": "TcOq_JrSMN3r"
      },
      "source": [
        "##### **Análisis descriptivo**"
      ]
    },
    {
      "cell_type": "code",
      "execution_count": null,
      "metadata": {
        "id": "T5ECTnks3EkK"
      },
      "outputs": [],
      "source": [
        "# Revisando los datos.\n",
        "df.head()"
      ]
    },
    {
      "cell_type": "markdown",
      "metadata": {
        "id": "JYSLdLcz35nw"
      },
      "source": [
        "- __Time__: segundos entre transacciones. Dos días del mes de Septiembre de 2013.\n",
        "- __Amount__: Monto de la transacción en Euros.\n",
        "- __Class__: 0 No- Fraudulenta, 1 Fraudulenta.\n",
        "- __V1 to V28__: Son el resultado de una transformación PCA debido a privacidad de la información.\n",
        "\n"
      ]
    },
    {
      "cell_type": "code",
      "execution_count": null,
      "metadata": {
        "id": "p6DvreR637eE"
      },
      "outputs": [],
      "source": [
        "# Información Estadística: Count, mean, std, min, 25%, 50%, 75%, max.\n",
        "df.describe()"
      ]
    },
    {
      "cell_type": "code",
      "execution_count": null,
      "metadata": {
        "id": "wt-k9Pj43_5Z"
      },
      "outputs": [],
      "source": [
        "# Información del dataframe: rango de datos, número de columnas, nombre de las columnas, valores nulos, tipos de datos\n",
        "df.info()"
      ]
    },
    {
      "cell_type": "markdown",
      "metadata": {
        "id": "I0RHCUR60jU5"
      },
      "source": [
        "- Las columnas __V1 a V28__ ya han sido escaladas, las únicas columnas que no han sido escaladas son __'Time', 'Amount', 'Class'__.   \n",
        "- El número de transacciones es relativamente pequeño.   \n",
        "- Podemos observar que en la columna de __Amount__, o el monto de las transacciones, la media es de __88 euros__, pero tenemos valores que llegan a más __25,000 euros__.\n",
        "- En la columna __Tiempo__, también existe una gran varianza de los datos.\n"
      ]
    },
    {
      "cell_type": "markdown",
      "metadata": {
        "id": "zZaYTkY_-t7B"
      },
      "source": [
        "#### L**impiando el Dataset**\n",
        "\n"
      ]
    },
    {
      "cell_type": "code",
      "execution_count": null,
      "metadata": {
        "id": "RkCCp_V0-ske"
      },
      "outputs": [],
      "source": [
        "# Analizar si existen valores nulos en el df y determinar si es necesario un reemplazo.\n",
        "df.isnull().sum()"
      ]
    },
    {
      "cell_type": "markdown",
      "metadata": {
        "id": "NHVj52KL8Pfu"
      },
      "source": [
        "**No existen valores nulos, por lo que no es necesario reemplazar valores.**"
      ]
    },
    {
      "cell_type": "code",
      "execution_count": 40,
      "metadata": {
        "id": "JGN_kbmQFGFu"
      },
      "outputs": [
        {
          "name": "stdout",
          "output_type": "stream",
          "text": [
            "Duplicados de transacciones con fraude: 19\n",
            "Duplicados de transacciones con fraude: 1062\n",
            "Total de duplicados: 1081\n"
          ]
        }
      ],
      "source": [
        "# Duplicados\n",
        "\n",
        "# Duplicados en la clase de transacciones fraudulentas\n",
        "transacciones_con_fraude = df['Class'] == 1\n",
        "\n",
        "df_fraude = df[transacciones_con_fraude]\n",
        "df_fraude.shape\n",
        "\n",
        "duplicados_fraude = df_fraude.duplicated().sum()\n",
        "\n",
        "# Duplicados en la clase de transacciones no fraudulentas\n",
        "transacciones_sin_fraude = df['Class'] == 0\n",
        "\n",
        "df_sin_fraude = df[transacciones_sin_fraude]\n",
        "df_sin_fraude.shape\n",
        "\n",
        "duplicados_sin_fraude = df_sin_fraude.duplicated().sum()\n",
        "\n",
        "print(f'Duplicados de transacciones con fraude: {duplicados_fraude}')\n",
        "print(f'Duplicados de transacciones con fraude: {duplicados_sin_fraude}')\n",
        "print(f'Total de duplicados: {duplicados_fraude + duplicados_sin_fraude}')"
      ]
    },
    {
      "cell_type": "code",
      "execution_count": 47,
      "metadata": {},
      "outputs": [
        {
          "name": "stdout",
          "output_type": "stream",
          "text": [
            "Total de datos originales: 284807, Total de datos duplicados: 1081\n",
            "Datos sin duplicados: 283726\n"
          ]
        },
        {
          "data": {
            "text/html": [
              "<div>\n",
              "<style scoped>\n",
              "    .dataframe tbody tr th:only-of-type {\n",
              "        vertical-align: middle;\n",
              "    }\n",
              "\n",
              "    .dataframe tbody tr th {\n",
              "        vertical-align: top;\n",
              "    }\n",
              "\n",
              "    .dataframe thead th {\n",
              "        text-align: right;\n",
              "    }\n",
              "</style>\n",
              "<table border=\"1\" class=\"dataframe\">\n",
              "  <thead>\n",
              "    <tr style=\"text-align: right;\">\n",
              "      <th></th>\n",
              "      <th>Time</th>\n",
              "      <th>V1</th>\n",
              "      <th>V2</th>\n",
              "      <th>V3</th>\n",
              "      <th>V4</th>\n",
              "      <th>V5</th>\n",
              "      <th>V6</th>\n",
              "      <th>V7</th>\n",
              "      <th>V8</th>\n",
              "      <th>V9</th>\n",
              "      <th>...</th>\n",
              "      <th>V21</th>\n",
              "      <th>V22</th>\n",
              "      <th>V23</th>\n",
              "      <th>V24</th>\n",
              "      <th>V25</th>\n",
              "      <th>V26</th>\n",
              "      <th>V27</th>\n",
              "      <th>V28</th>\n",
              "      <th>Amount</th>\n",
              "      <th>Class</th>\n",
              "    </tr>\n",
              "  </thead>\n",
              "  <tbody>\n",
              "    <tr>\n",
              "      <th>0</th>\n",
              "      <td>0.0</td>\n",
              "      <td>-1.359807</td>\n",
              "      <td>-0.072781</td>\n",
              "      <td>2.536347</td>\n",
              "      <td>1.378155</td>\n",
              "      <td>-0.338321</td>\n",
              "      <td>0.462388</td>\n",
              "      <td>0.239599</td>\n",
              "      <td>0.098698</td>\n",
              "      <td>0.363787</td>\n",
              "      <td>...</td>\n",
              "      <td>-0.018307</td>\n",
              "      <td>0.277838</td>\n",
              "      <td>-0.110474</td>\n",
              "      <td>0.066928</td>\n",
              "      <td>0.128539</td>\n",
              "      <td>-0.189115</td>\n",
              "      <td>0.133558</td>\n",
              "      <td>-0.021053</td>\n",
              "      <td>149.62</td>\n",
              "      <td>0</td>\n",
              "    </tr>\n",
              "    <tr>\n",
              "      <th>1</th>\n",
              "      <td>0.0</td>\n",
              "      <td>1.191857</td>\n",
              "      <td>0.266151</td>\n",
              "      <td>0.166480</td>\n",
              "      <td>0.448154</td>\n",
              "      <td>0.060018</td>\n",
              "      <td>-0.082361</td>\n",
              "      <td>-0.078803</td>\n",
              "      <td>0.085102</td>\n",
              "      <td>-0.255425</td>\n",
              "      <td>...</td>\n",
              "      <td>-0.225775</td>\n",
              "      <td>-0.638672</td>\n",
              "      <td>0.101288</td>\n",
              "      <td>-0.339846</td>\n",
              "      <td>0.167170</td>\n",
              "      <td>0.125895</td>\n",
              "      <td>-0.008983</td>\n",
              "      <td>0.014724</td>\n",
              "      <td>2.69</td>\n",
              "      <td>0</td>\n",
              "    </tr>\n",
              "    <tr>\n",
              "      <th>2</th>\n",
              "      <td>1.0</td>\n",
              "      <td>-1.358354</td>\n",
              "      <td>-1.340163</td>\n",
              "      <td>1.773209</td>\n",
              "      <td>0.379780</td>\n",
              "      <td>-0.503198</td>\n",
              "      <td>1.800499</td>\n",
              "      <td>0.791461</td>\n",
              "      <td>0.247676</td>\n",
              "      <td>-1.514654</td>\n",
              "      <td>...</td>\n",
              "      <td>0.247998</td>\n",
              "      <td>0.771679</td>\n",
              "      <td>0.909412</td>\n",
              "      <td>-0.689281</td>\n",
              "      <td>-0.327642</td>\n",
              "      <td>-0.139097</td>\n",
              "      <td>-0.055353</td>\n",
              "      <td>-0.059752</td>\n",
              "      <td>378.66</td>\n",
              "      <td>0</td>\n",
              "    </tr>\n",
              "    <tr>\n",
              "      <th>3</th>\n",
              "      <td>1.0</td>\n",
              "      <td>-0.966272</td>\n",
              "      <td>-0.185226</td>\n",
              "      <td>1.792993</td>\n",
              "      <td>-0.863291</td>\n",
              "      <td>-0.010309</td>\n",
              "      <td>1.247203</td>\n",
              "      <td>0.237609</td>\n",
              "      <td>0.377436</td>\n",
              "      <td>-1.387024</td>\n",
              "      <td>...</td>\n",
              "      <td>-0.108300</td>\n",
              "      <td>0.005274</td>\n",
              "      <td>-0.190321</td>\n",
              "      <td>-1.175575</td>\n",
              "      <td>0.647376</td>\n",
              "      <td>-0.221929</td>\n",
              "      <td>0.062723</td>\n",
              "      <td>0.061458</td>\n",
              "      <td>123.50</td>\n",
              "      <td>0</td>\n",
              "    </tr>\n",
              "    <tr>\n",
              "      <th>4</th>\n",
              "      <td>2.0</td>\n",
              "      <td>-1.158233</td>\n",
              "      <td>0.877737</td>\n",
              "      <td>1.548718</td>\n",
              "      <td>0.403034</td>\n",
              "      <td>-0.407193</td>\n",
              "      <td>0.095921</td>\n",
              "      <td>0.592941</td>\n",
              "      <td>-0.270533</td>\n",
              "      <td>0.817739</td>\n",
              "      <td>...</td>\n",
              "      <td>-0.009431</td>\n",
              "      <td>0.798278</td>\n",
              "      <td>-0.137458</td>\n",
              "      <td>0.141267</td>\n",
              "      <td>-0.206010</td>\n",
              "      <td>0.502292</td>\n",
              "      <td>0.219422</td>\n",
              "      <td>0.215153</td>\n",
              "      <td>69.99</td>\n",
              "      <td>0</td>\n",
              "    </tr>\n",
              "    <tr>\n",
              "      <th>...</th>\n",
              "      <td>...</td>\n",
              "      <td>...</td>\n",
              "      <td>...</td>\n",
              "      <td>...</td>\n",
              "      <td>...</td>\n",
              "      <td>...</td>\n",
              "      <td>...</td>\n",
              "      <td>...</td>\n",
              "      <td>...</td>\n",
              "      <td>...</td>\n",
              "      <td>...</td>\n",
              "      <td>...</td>\n",
              "      <td>...</td>\n",
              "      <td>...</td>\n",
              "      <td>...</td>\n",
              "      <td>...</td>\n",
              "      <td>...</td>\n",
              "      <td>...</td>\n",
              "      <td>...</td>\n",
              "      <td>...</td>\n",
              "      <td>...</td>\n",
              "    </tr>\n",
              "    <tr>\n",
              "      <th>284802</th>\n",
              "      <td>172786.0</td>\n",
              "      <td>-11.881118</td>\n",
              "      <td>10.071785</td>\n",
              "      <td>-9.834783</td>\n",
              "      <td>-2.066656</td>\n",
              "      <td>-5.364473</td>\n",
              "      <td>-2.606837</td>\n",
              "      <td>-4.918215</td>\n",
              "      <td>7.305334</td>\n",
              "      <td>1.914428</td>\n",
              "      <td>...</td>\n",
              "      <td>0.213454</td>\n",
              "      <td>0.111864</td>\n",
              "      <td>1.014480</td>\n",
              "      <td>-0.509348</td>\n",
              "      <td>1.436807</td>\n",
              "      <td>0.250034</td>\n",
              "      <td>0.943651</td>\n",
              "      <td>0.823731</td>\n",
              "      <td>0.77</td>\n",
              "      <td>0</td>\n",
              "    </tr>\n",
              "    <tr>\n",
              "      <th>284803</th>\n",
              "      <td>172787.0</td>\n",
              "      <td>-0.732789</td>\n",
              "      <td>-0.055080</td>\n",
              "      <td>2.035030</td>\n",
              "      <td>-0.738589</td>\n",
              "      <td>0.868229</td>\n",
              "      <td>1.058415</td>\n",
              "      <td>0.024330</td>\n",
              "      <td>0.294869</td>\n",
              "      <td>0.584800</td>\n",
              "      <td>...</td>\n",
              "      <td>0.214205</td>\n",
              "      <td>0.924384</td>\n",
              "      <td>0.012463</td>\n",
              "      <td>-1.016226</td>\n",
              "      <td>-0.606624</td>\n",
              "      <td>-0.395255</td>\n",
              "      <td>0.068472</td>\n",
              "      <td>-0.053527</td>\n",
              "      <td>24.79</td>\n",
              "      <td>0</td>\n",
              "    </tr>\n",
              "    <tr>\n",
              "      <th>284804</th>\n",
              "      <td>172788.0</td>\n",
              "      <td>1.919565</td>\n",
              "      <td>-0.301254</td>\n",
              "      <td>-3.249640</td>\n",
              "      <td>-0.557828</td>\n",
              "      <td>2.630515</td>\n",
              "      <td>3.031260</td>\n",
              "      <td>-0.296827</td>\n",
              "      <td>0.708417</td>\n",
              "      <td>0.432454</td>\n",
              "      <td>...</td>\n",
              "      <td>0.232045</td>\n",
              "      <td>0.578229</td>\n",
              "      <td>-0.037501</td>\n",
              "      <td>0.640134</td>\n",
              "      <td>0.265745</td>\n",
              "      <td>-0.087371</td>\n",
              "      <td>0.004455</td>\n",
              "      <td>-0.026561</td>\n",
              "      <td>67.88</td>\n",
              "      <td>0</td>\n",
              "    </tr>\n",
              "    <tr>\n",
              "      <th>284805</th>\n",
              "      <td>172788.0</td>\n",
              "      <td>-0.240440</td>\n",
              "      <td>0.530483</td>\n",
              "      <td>0.702510</td>\n",
              "      <td>0.689799</td>\n",
              "      <td>-0.377961</td>\n",
              "      <td>0.623708</td>\n",
              "      <td>-0.686180</td>\n",
              "      <td>0.679145</td>\n",
              "      <td>0.392087</td>\n",
              "      <td>...</td>\n",
              "      <td>0.265245</td>\n",
              "      <td>0.800049</td>\n",
              "      <td>-0.163298</td>\n",
              "      <td>0.123205</td>\n",
              "      <td>-0.569159</td>\n",
              "      <td>0.546668</td>\n",
              "      <td>0.108821</td>\n",
              "      <td>0.104533</td>\n",
              "      <td>10.00</td>\n",
              "      <td>0</td>\n",
              "    </tr>\n",
              "    <tr>\n",
              "      <th>284806</th>\n",
              "      <td>172792.0</td>\n",
              "      <td>-0.533413</td>\n",
              "      <td>-0.189733</td>\n",
              "      <td>0.703337</td>\n",
              "      <td>-0.506271</td>\n",
              "      <td>-0.012546</td>\n",
              "      <td>-0.649617</td>\n",
              "      <td>1.577006</td>\n",
              "      <td>-0.414650</td>\n",
              "      <td>0.486180</td>\n",
              "      <td>...</td>\n",
              "      <td>0.261057</td>\n",
              "      <td>0.643078</td>\n",
              "      <td>0.376777</td>\n",
              "      <td>0.008797</td>\n",
              "      <td>-0.473649</td>\n",
              "      <td>-0.818267</td>\n",
              "      <td>-0.002415</td>\n",
              "      <td>0.013649</td>\n",
              "      <td>217.00</td>\n",
              "      <td>0</td>\n",
              "    </tr>\n",
              "  </tbody>\n",
              "</table>\n",
              "<p>283726 rows × 31 columns</p>\n",
              "</div>"
            ],
            "text/plain": [
              "            Time         V1         V2        V3        V4        V5  \\\n",
              "0            0.0  -1.359807  -0.072781  2.536347  1.378155 -0.338321   \n",
              "1            0.0   1.191857   0.266151  0.166480  0.448154  0.060018   \n",
              "2            1.0  -1.358354  -1.340163  1.773209  0.379780 -0.503198   \n",
              "3            1.0  -0.966272  -0.185226  1.792993 -0.863291 -0.010309   \n",
              "4            2.0  -1.158233   0.877737  1.548718  0.403034 -0.407193   \n",
              "...          ...        ...        ...       ...       ...       ...   \n",
              "284802  172786.0 -11.881118  10.071785 -9.834783 -2.066656 -5.364473   \n",
              "284803  172787.0  -0.732789  -0.055080  2.035030 -0.738589  0.868229   \n",
              "284804  172788.0   1.919565  -0.301254 -3.249640 -0.557828  2.630515   \n",
              "284805  172788.0  -0.240440   0.530483  0.702510  0.689799 -0.377961   \n",
              "284806  172792.0  -0.533413  -0.189733  0.703337 -0.506271 -0.012546   \n",
              "\n",
              "              V6        V7        V8        V9  ...       V21       V22  \\\n",
              "0       0.462388  0.239599  0.098698  0.363787  ... -0.018307  0.277838   \n",
              "1      -0.082361 -0.078803  0.085102 -0.255425  ... -0.225775 -0.638672   \n",
              "2       1.800499  0.791461  0.247676 -1.514654  ...  0.247998  0.771679   \n",
              "3       1.247203  0.237609  0.377436 -1.387024  ... -0.108300  0.005274   \n",
              "4       0.095921  0.592941 -0.270533  0.817739  ... -0.009431  0.798278   \n",
              "...          ...       ...       ...       ...  ...       ...       ...   \n",
              "284802 -2.606837 -4.918215  7.305334  1.914428  ...  0.213454  0.111864   \n",
              "284803  1.058415  0.024330  0.294869  0.584800  ...  0.214205  0.924384   \n",
              "284804  3.031260 -0.296827  0.708417  0.432454  ...  0.232045  0.578229   \n",
              "284805  0.623708 -0.686180  0.679145  0.392087  ...  0.265245  0.800049   \n",
              "284806 -0.649617  1.577006 -0.414650  0.486180  ...  0.261057  0.643078   \n",
              "\n",
              "             V23       V24       V25       V26       V27       V28  Amount  \\\n",
              "0      -0.110474  0.066928  0.128539 -0.189115  0.133558 -0.021053  149.62   \n",
              "1       0.101288 -0.339846  0.167170  0.125895 -0.008983  0.014724    2.69   \n",
              "2       0.909412 -0.689281 -0.327642 -0.139097 -0.055353 -0.059752  378.66   \n",
              "3      -0.190321 -1.175575  0.647376 -0.221929  0.062723  0.061458  123.50   \n",
              "4      -0.137458  0.141267 -0.206010  0.502292  0.219422  0.215153   69.99   \n",
              "...          ...       ...       ...       ...       ...       ...     ...   \n",
              "284802  1.014480 -0.509348  1.436807  0.250034  0.943651  0.823731    0.77   \n",
              "284803  0.012463 -1.016226 -0.606624 -0.395255  0.068472 -0.053527   24.79   \n",
              "284804 -0.037501  0.640134  0.265745 -0.087371  0.004455 -0.026561   67.88   \n",
              "284805 -0.163298  0.123205 -0.569159  0.546668  0.108821  0.104533   10.00   \n",
              "284806  0.376777  0.008797 -0.473649 -0.818267 -0.002415  0.013649  217.00   \n",
              "\n",
              "        Class  \n",
              "0           0  \n",
              "1           0  \n",
              "2           0  \n",
              "3           0  \n",
              "4           0  \n",
              "...       ...  \n",
              "284802      0  \n",
              "284803      0  \n",
              "284804      0  \n",
              "284805      0  \n",
              "284806      0  \n",
              "\n",
              "[283726 rows x 31 columns]"
            ]
          },
          "execution_count": 47,
          "metadata": {},
          "output_type": "execute_result"
        }
      ],
      "source": [
        "# Duplicados Totales\n",
        "\n",
        "df_duplicados = df.duplicated().sum()\n",
        "\n",
        "# Eliminar duplicados\n",
        "\n",
        "df_sin_duplicados = df.drop_duplicates()\n",
        "\n",
        "print(f'Total de datos originales: {df.shape[0]}, Total de datos duplicados: {df_duplicados}')\n",
        "print(f'Datos sin duplicados: {df.shape[0] - df_duplicados}')\n",
        "\n",
        "df_sin_duplicados"
      ]
    },
    {
      "cell_type": "markdown",
      "metadata": {
        "id": "ruiKmnq1Czx9"
      },
      "source": [
        "#### **Análisis Exploratorio**"
      ]
    },
    {
      "cell_type": "markdown",
      "metadata": {
        "id": "cmrsmbOkpiDv"
      },
      "source": [
        "##### **Analizando la columna 'Class'**"
      ]
    },
    {
      "cell_type": "code",
      "execution_count": null,
      "metadata": {
        "id": "6BLDFJp1XtfM"
      },
      "outputs": [],
      "source": [
        "# Determinar el número de transacciones Fraudulentas o No Fraudulentas\n",
        "\n",
        "transacciones_con_fraude = (df['Class'] == 1).sum()\n",
        "transacciones_sin_fraude = (df['Class'] == 0).sum()\n",
        "\n",
        "print(f'Transacciones con Fraude: {transacciones_con_fraude} \\nTransacciones sin fraude: {transacciones_sin_fraude}')"
      ]
    },
    {
      "cell_type": "code",
      "execution_count": null,
      "metadata": {
        "id": "g-5td118C6Kr"
      },
      "outputs": [],
      "source": [
        "# Gráfico de Barras para el conteo de transacciones\n",
        "\n",
        "sns.countplot(df, x = \"Class\")\n",
        "plt.title('Class: \\n (0: No Fraud || 1: Fraud)');"
      ]
    },
    {
      "cell_type": "code",
      "execution_count": null,
      "metadata": {
        "id": "1QD2uVZl2VRi"
      },
      "outputs": [],
      "source": [
        "# Determinar el porcentaje de transacciones fraudulentas vs porcentaje de transacciones no fraudulentas.\n",
        "\n",
        "porcentaje_con_fraude = (df['Class'] == 1).sum() / len(df['Class'])\n",
        "porcentaje_sin_fraude = (df['Class'] == 0).sum() / len(df['Class'])\n",
        "\n",
        "print(f'Porcentaje de Transacciones con Fraude: {porcentaje_con_fraude:.2%} \\nPorcentaje de Transacciones sin fraude: {porcentaje_sin_fraude:.2%}')"
      ]
    },
    {
      "cell_type": "code",
      "execution_count": null,
      "metadata": {
        "id": "yxMpIeX3CffU"
      },
      "outputs": [],
      "source": [
        "\n",
        "# df_fraude = df['Class'].value_counts()\n",
        "df_fraude = df[[\"Class\", \"Time\"]].groupby(\"Class\")[[\"Time\"]].count().reset_index()\n",
        "\n",
        "df_fraude"
      ]
    },
    {
      "cell_type": "code",
      "execution_count": null,
      "metadata": {
        "id": "Zh_0ItV-6BJP"
      },
      "outputs": [],
      "source": [
        "# Gráfico de pie de porcentajes\n",
        "porcentajes = df_fraude[\"Time\"] / df_fraude[\"Time\"].sum() * 100\n",
        "\n",
        "nombres = ['No Fraudulentas', 'Fraudulentas']\n",
        "\n",
        "desfase =(0,0.2)\n",
        "plt.pie(porcentajes, labels=nombres, autopct='%1.1f%%', startangle=45, explode=desfase)\n",
        "plt.axis('equal') # Se usa para que se vea como un círculo\n",
        "plt.title('Porcentaje de transacciones fraudulentas y no fraudulentas');"
      ]
    },
    {
      "cell_type": "markdown",
      "metadata": {
        "id": "nPtVhtw8eN43"
      },
      "source": [
        "Los datos están altamente **desbalanceados**, el porcentaje de transacciones clasificados sin fraude es de __99.83%__, mientras el porcentaje de transacciones clasificadas sin fraude es de __0.17%__ y,  por lo tanto, debemos hacer alguna transformación o nuestro modelo de aprendizaje solo predecirá casos no fraudulentos. Nuestro objetivo es que el modelo detecte patrones que nos den señales de fraude."
      ]
    },
    {
      "cell_type": "markdown",
      "metadata": {
        "id": "NtQeSVNIpqTM"
      },
      "source": [
        "##### **Analizando las columnas V1 - V28**\n",
        "\n"
      ]
    },
    {
      "cell_type": "markdown",
      "metadata": {
        "id": "pI8amf57Ffey"
      },
      "source": [
        "Las columnas V1-28 ya han sido transformadas por PCA, por lo que ya han sido escaladas."
      ]
    },
    {
      "cell_type": "code",
      "execution_count": null,
      "metadata": {
        "id": "tZFBp5a5NzWG"
      },
      "outputs": [],
      "source": [
        "df_temp = df.copy()\n",
        "cols = list(df_temp.columns.values)\n",
        "\n",
        "no_frauds = df_temp.Class == 0\n",
        "with_frauds = df_temp.Class == 1\n",
        "\n"
      ]
    },
    {
      "cell_type": "code",
      "execution_count": null,
      "metadata": {
        "id": "0cWtNeAQepXz"
      },
      "outputs": [],
      "source": [
        "# Crear las gráficas para ver las distribuciones.\n",
        "\n",
        "plt.figure(figsize=(20,60))\n",
        "\n",
        "for n, col in enumerate(cols):\n",
        "  plt.subplot(11,3,n+1)\n",
        "  sns.distplot(df_temp[col][no_frauds], color='green')\n",
        "  sns.distplot(df_temp[col][with_frauds], color='red')\n",
        "  plt.title(col, fontsize=17)\n",
        "\n",
        "plt.show()\n"
      ]
    },
    {
      "cell_type": "markdown",
      "metadata": {
        "id": "_oNCqhmuzXVJ"
      },
      "source": [
        "Comentarios: Se puede observar que las distribuciones de V1-V28 tienen una distribución más parecida a una normal."
      ]
    },
    {
      "cell_type": "markdown",
      "metadata": {
        "id": "e3u64MpcGdt0"
      },
      "source": [
        "##### **Analizando la columna Time y Amount**"
      ]
    },
    {
      "cell_type": "code",
      "execution_count": null,
      "metadata": {
        "id": "UlD2VmeeIHTt"
      },
      "outputs": [],
      "source": [
        "# Gráfico de distribución de la columna Time\n",
        "\n",
        "sns.distplot(df['Time']).set(title=\"Distribución de Tiempo de Transacción\");"
      ]
    },
    {
      "cell_type": "code",
      "execution_count": null,
      "metadata": {
        "id": "7fJQ4FsPH8g9"
      },
      "outputs": [],
      "source": [
        "# Gráfica de distribución de la columna Amount\n",
        "\n",
        "sns.distplot(df['Amount']).set(title=\"Distribución de Monto de la Transacción\");"
      ]
    },
    {
      "cell_type": "markdown",
      "metadata": {
        "id": "50KA8YGtISkq"
      },
      "source": [
        "Se puede observar que los datos están sesgados y tienen muchos outliers, por eso es necesario escalar la información, lo cual podría hacerse con un escalamiento robusto (robust scaling) o un escalamiento min-max.\n",
        "\n",
        "\n",
        "> *El escalamiento robusto es menos sensible a los valores atípicos en los datos. Escala las características de entrada en función de su mediana y rango intercuartílico (IQR). El IQR es el rango entre el primer cuartil (percentil 25) y el tercer cuartil (percentil 75) de los datos. El escalamiento robusto es particularmente útil para datos con valores atípicos significativos o distribuciones no gaussianas.*\n",
        "\n",
        "\n",
        "\n",
        "> *El escalamiento min-max, también conocido como normalización, escala las características de entrada a un rango específico, generalmente entre 0 y 1. Esto se logra restando el valor mínimo de la característica a cada punto de datos y dividiendo el resultado por el rango de la característica. Es especialmente útil para datos con distribuciones sesgadas o cuando los algoritmos requieren que las características de entrada estén dentro de un rango específico.*\n",
        "\n"
      ]
    },
    {
      "cell_type": "markdown",
      "metadata": {
        "id": "Eh1ywoEe0BG4"
      },
      "source": [
        "Referencias:\n",
        "- Escalamiento: https://ts2.space/es/escalamiento-de-caracteristicas-en-aprendizaje-automatico/#gsc.tab=0"
      ]
    },
    {
      "cell_type": "markdown",
      "metadata": {
        "id": "lUJPdC5hIj48"
      },
      "source": [
        "##### __Matriz de Correlaciones__"
      ]
    },
    {
      "cell_type": "code",
      "execution_count": null,
      "metadata": {
        "id": "LtS0L5SN6d8X"
      },
      "outputs": [],
      "source": [
        "# Matriz de correlaciones\n",
        "corr = df.corr()\n"
      ]
    },
    {
      "cell_type": "code",
      "execution_count": null,
      "metadata": {
        "id": "Ieb6vXc5lImv"
      },
      "outputs": [],
      "source": [
        "# Mapa de calor\n",
        "sns.heatmap(corr, cmap=\"Blues\");\n"
      ]
    },
    {
      "cell_type": "markdown",
      "metadata": {
        "id": "mtDT3obQzK4h"
      },
      "source": [
        "##### **Conclusiones**  \n",
        "1. Los datos están altamente desbalanceados (oversampling, undersampling), lo cual nos generará problemas con nuestros modelos de machine learning.  \n",
        "2. La columna Amount tiene valores atípicos (outliers) muy grandes, lo que puede crear un problema en el modelo. Debido a eso es necesario escalar los datos.\n",
        "3. No se puede observar una correlación entre las variables"
      ]
    },
    {
      "cell_type": "markdown",
      "metadata": {
        "id": "vBR-kRjQ2w1l"
      },
      "source": [
        "### **Escalamiento de las columnas Time y Amount**"
      ]
    },
    {
      "cell_type": "markdown",
      "metadata": {
        "id": "m9AtmLGs3HwE"
      },
      "source": [
        "Se hará un escalamiento de la columna Amount y Time con la librería StandardScaler\n",
        "\n"
      ]
    },
    {
      "cell_type": "code",
      "execution_count": 3,
      "metadata": {
        "id": "Qm357diz2_6Y"
      },
      "outputs": [],
      "source": [
        "# Importar la librería Preprocessing de sklearn\n",
        "from sklearn.preprocessing import StandardScaler"
      ]
    },
    {
      "cell_type": "code",
      "execution_count": 4,
      "metadata": {
        "id": "ubzAyjyb38Ts"
      },
      "outputs": [],
      "source": [
        "# Aplicamos escalamiento a la columna Amount\n",
        "# fit_transform ajusta los datos después los transforma, se le pasa la columna Amount convertida a un numpy de dos dimensiones.\n",
        "# Reshape (-1,1) significa: -1 cualquier cantidad de filas, 1 una columna\n",
        "\n",
        "df['Amount'] = StandardScaler().fit_transform(df['Amount'].to_numpy().reshape(-1,1))\n",
        "\n",
        "# df['Amount'].hist();"
      ]
    },
    {
      "cell_type": "code",
      "execution_count": 5,
      "metadata": {
        "id": "PucNLyvr7qd4"
      },
      "outputs": [
        {
          "data": {
            "text/plain": [
              "count    2.848070e+05\n",
              "mean     2.913952e-17\n",
              "std      1.000002e+00\n",
              "min     -3.532294e-01\n",
              "25%     -3.308401e-01\n",
              "50%     -2.652715e-01\n",
              "75%     -4.471707e-02\n",
              "max      1.023622e+02\n",
              "Name: Amount, dtype: float64"
            ]
          },
          "execution_count": 5,
          "metadata": {},
          "output_type": "execute_result"
        }
      ],
      "source": [
        "df['Amount'].describe()"
      ]
    },
    {
      "cell_type": "code",
      "execution_count": 5,
      "metadata": {
        "id": "wFnqU5a-3dP9"
      },
      "outputs": [],
      "source": [
        "# Aplicamos escalamiento a la columna Amount\n",
        "# fit_transform ajusta los datos después los transforma, se le pasa la columna Amount convertida a un numpy de dos dimensiones.\n",
        "# Reshape (-1,1) significa: -1 cualquier cantidad de filas, 1 una columna\n",
        "\n",
        "df['Time'] = StandardScaler().fit_transform(df['Time'].to_numpy().reshape(-1,1))\n",
        "\n",
        "# df['Time'].hist();"
      ]
    },
    {
      "cell_type": "code",
      "execution_count": 52,
      "metadata": {
        "id": "Ck93v_g_3j_S"
      },
      "outputs": [
        {
          "data": {
            "text/html": [
              "<div>\n",
              "<style scoped>\n",
              "    .dataframe tbody tr th:only-of-type {\n",
              "        vertical-align: middle;\n",
              "    }\n",
              "\n",
              "    .dataframe tbody tr th {\n",
              "        vertical-align: top;\n",
              "    }\n",
              "\n",
              "    .dataframe thead th {\n",
              "        text-align: right;\n",
              "    }\n",
              "</style>\n",
              "<table border=\"1\" class=\"dataframe\">\n",
              "  <thead>\n",
              "    <tr style=\"text-align: right;\">\n",
              "      <th></th>\n",
              "      <th>Time</th>\n",
              "      <th>V1</th>\n",
              "      <th>V2</th>\n",
              "      <th>V3</th>\n",
              "      <th>V4</th>\n",
              "      <th>V5</th>\n",
              "      <th>V6</th>\n",
              "      <th>V7</th>\n",
              "      <th>V8</th>\n",
              "      <th>V9</th>\n",
              "      <th>...</th>\n",
              "      <th>V21</th>\n",
              "      <th>V22</th>\n",
              "      <th>V23</th>\n",
              "      <th>V24</th>\n",
              "      <th>V25</th>\n",
              "      <th>V26</th>\n",
              "      <th>V27</th>\n",
              "      <th>V28</th>\n",
              "      <th>Amount</th>\n",
              "      <th>Class</th>\n",
              "    </tr>\n",
              "  </thead>\n",
              "  <tbody>\n",
              "    <tr>\n",
              "      <th>count</th>\n",
              "      <td>2.848070e+05</td>\n",
              "      <td>2.848070e+05</td>\n",
              "      <td>2.848070e+05</td>\n",
              "      <td>2.848070e+05</td>\n",
              "      <td>2.848070e+05</td>\n",
              "      <td>2.848070e+05</td>\n",
              "      <td>2.848070e+05</td>\n",
              "      <td>2.848070e+05</td>\n",
              "      <td>2.848070e+05</td>\n",
              "      <td>2.848070e+05</td>\n",
              "      <td>...</td>\n",
              "      <td>2.848070e+05</td>\n",
              "      <td>2.848070e+05</td>\n",
              "      <td>2.848070e+05</td>\n",
              "      <td>2.848070e+05</td>\n",
              "      <td>2.848070e+05</td>\n",
              "      <td>2.848070e+05</td>\n",
              "      <td>2.848070e+05</td>\n",
              "      <td>2.848070e+05</td>\n",
              "      <td>2.848070e+05</td>\n",
              "      <td>284807.000000</td>\n",
              "    </tr>\n",
              "    <tr>\n",
              "      <th>mean</th>\n",
              "      <td>-3.065637e-16</td>\n",
              "      <td>1.168375e-15</td>\n",
              "      <td>3.416908e-16</td>\n",
              "      <td>-1.379537e-15</td>\n",
              "      <td>2.074095e-15</td>\n",
              "      <td>9.604066e-16</td>\n",
              "      <td>1.487313e-15</td>\n",
              "      <td>-5.556467e-16</td>\n",
              "      <td>1.213481e-16</td>\n",
              "      <td>-2.406331e-15</td>\n",
              "      <td>...</td>\n",
              "      <td>1.654067e-16</td>\n",
              "      <td>-3.568593e-16</td>\n",
              "      <td>2.578648e-16</td>\n",
              "      <td>4.473266e-15</td>\n",
              "      <td>5.340915e-16</td>\n",
              "      <td>1.683437e-15</td>\n",
              "      <td>-3.660091e-16</td>\n",
              "      <td>-1.227390e-16</td>\n",
              "      <td>2.913952e-17</td>\n",
              "      <td>0.001727</td>\n",
              "    </tr>\n",
              "    <tr>\n",
              "      <th>std</th>\n",
              "      <td>1.000002e+00</td>\n",
              "      <td>1.958696e+00</td>\n",
              "      <td>1.651309e+00</td>\n",
              "      <td>1.516255e+00</td>\n",
              "      <td>1.415869e+00</td>\n",
              "      <td>1.380247e+00</td>\n",
              "      <td>1.332271e+00</td>\n",
              "      <td>1.237094e+00</td>\n",
              "      <td>1.194353e+00</td>\n",
              "      <td>1.098632e+00</td>\n",
              "      <td>...</td>\n",
              "      <td>7.345240e-01</td>\n",
              "      <td>7.257016e-01</td>\n",
              "      <td>6.244603e-01</td>\n",
              "      <td>6.056471e-01</td>\n",
              "      <td>5.212781e-01</td>\n",
              "      <td>4.822270e-01</td>\n",
              "      <td>4.036325e-01</td>\n",
              "      <td>3.300833e-01</td>\n",
              "      <td>1.000002e+00</td>\n",
              "      <td>0.041527</td>\n",
              "    </tr>\n",
              "    <tr>\n",
              "      <th>min</th>\n",
              "      <td>-1.996583e+00</td>\n",
              "      <td>-5.640751e+01</td>\n",
              "      <td>-7.271573e+01</td>\n",
              "      <td>-4.832559e+01</td>\n",
              "      <td>-5.683171e+00</td>\n",
              "      <td>-1.137433e+02</td>\n",
              "      <td>-2.616051e+01</td>\n",
              "      <td>-4.355724e+01</td>\n",
              "      <td>-7.321672e+01</td>\n",
              "      <td>-1.343407e+01</td>\n",
              "      <td>...</td>\n",
              "      <td>-3.483038e+01</td>\n",
              "      <td>-1.093314e+01</td>\n",
              "      <td>-4.480774e+01</td>\n",
              "      <td>-2.836627e+00</td>\n",
              "      <td>-1.029540e+01</td>\n",
              "      <td>-2.604551e+00</td>\n",
              "      <td>-2.256568e+01</td>\n",
              "      <td>-1.543008e+01</td>\n",
              "      <td>-3.532294e-01</td>\n",
              "      <td>0.000000</td>\n",
              "    </tr>\n",
              "    <tr>\n",
              "      <th>25%</th>\n",
              "      <td>-8.552120e-01</td>\n",
              "      <td>-9.203734e-01</td>\n",
              "      <td>-5.985499e-01</td>\n",
              "      <td>-8.903648e-01</td>\n",
              "      <td>-8.486401e-01</td>\n",
              "      <td>-6.915971e-01</td>\n",
              "      <td>-7.682956e-01</td>\n",
              "      <td>-5.540759e-01</td>\n",
              "      <td>-2.086297e-01</td>\n",
              "      <td>-6.430976e-01</td>\n",
              "      <td>...</td>\n",
              "      <td>-2.283949e-01</td>\n",
              "      <td>-5.423504e-01</td>\n",
              "      <td>-1.618463e-01</td>\n",
              "      <td>-3.545861e-01</td>\n",
              "      <td>-3.171451e-01</td>\n",
              "      <td>-3.269839e-01</td>\n",
              "      <td>-7.083953e-02</td>\n",
              "      <td>-5.295979e-02</td>\n",
              "      <td>-3.308401e-01</td>\n",
              "      <td>0.000000</td>\n",
              "    </tr>\n",
              "    <tr>\n",
              "      <th>50%</th>\n",
              "      <td>-2.131453e-01</td>\n",
              "      <td>1.810880e-02</td>\n",
              "      <td>6.548556e-02</td>\n",
              "      <td>1.798463e-01</td>\n",
              "      <td>-1.984653e-02</td>\n",
              "      <td>-5.433583e-02</td>\n",
              "      <td>-2.741871e-01</td>\n",
              "      <td>4.010308e-02</td>\n",
              "      <td>2.235804e-02</td>\n",
              "      <td>-5.142873e-02</td>\n",
              "      <td>...</td>\n",
              "      <td>-2.945017e-02</td>\n",
              "      <td>6.781943e-03</td>\n",
              "      <td>-1.119293e-02</td>\n",
              "      <td>4.097606e-02</td>\n",
              "      <td>1.659350e-02</td>\n",
              "      <td>-5.213911e-02</td>\n",
              "      <td>1.342146e-03</td>\n",
              "      <td>1.124383e-02</td>\n",
              "      <td>-2.652715e-01</td>\n",
              "      <td>0.000000</td>\n",
              "    </tr>\n",
              "    <tr>\n",
              "      <th>75%</th>\n",
              "      <td>9.372174e-01</td>\n",
              "      <td>1.315642e+00</td>\n",
              "      <td>8.037239e-01</td>\n",
              "      <td>1.027196e+00</td>\n",
              "      <td>7.433413e-01</td>\n",
              "      <td>6.119264e-01</td>\n",
              "      <td>3.985649e-01</td>\n",
              "      <td>5.704361e-01</td>\n",
              "      <td>3.273459e-01</td>\n",
              "      <td>5.971390e-01</td>\n",
              "      <td>...</td>\n",
              "      <td>1.863772e-01</td>\n",
              "      <td>5.285536e-01</td>\n",
              "      <td>1.476421e-01</td>\n",
              "      <td>4.395266e-01</td>\n",
              "      <td>3.507156e-01</td>\n",
              "      <td>2.409522e-01</td>\n",
              "      <td>9.104512e-02</td>\n",
              "      <td>7.827995e-02</td>\n",
              "      <td>-4.471707e-02</td>\n",
              "      <td>0.000000</td>\n",
              "    </tr>\n",
              "    <tr>\n",
              "      <th>max</th>\n",
              "      <td>1.642058e+00</td>\n",
              "      <td>2.454930e+00</td>\n",
              "      <td>2.205773e+01</td>\n",
              "      <td>9.382558e+00</td>\n",
              "      <td>1.687534e+01</td>\n",
              "      <td>3.480167e+01</td>\n",
              "      <td>7.330163e+01</td>\n",
              "      <td>1.205895e+02</td>\n",
              "      <td>2.000721e+01</td>\n",
              "      <td>1.559499e+01</td>\n",
              "      <td>...</td>\n",
              "      <td>2.720284e+01</td>\n",
              "      <td>1.050309e+01</td>\n",
              "      <td>2.252841e+01</td>\n",
              "      <td>4.584549e+00</td>\n",
              "      <td>7.519589e+00</td>\n",
              "      <td>3.517346e+00</td>\n",
              "      <td>3.161220e+01</td>\n",
              "      <td>3.384781e+01</td>\n",
              "      <td>1.023622e+02</td>\n",
              "      <td>1.000000</td>\n",
              "    </tr>\n",
              "  </tbody>\n",
              "</table>\n",
              "<p>8 rows × 31 columns</p>\n",
              "</div>"
            ],
            "text/plain": [
              "               Time            V1            V2            V3            V4  \\\n",
              "count  2.848070e+05  2.848070e+05  2.848070e+05  2.848070e+05  2.848070e+05   \n",
              "mean  -3.065637e-16  1.168375e-15  3.416908e-16 -1.379537e-15  2.074095e-15   \n",
              "std    1.000002e+00  1.958696e+00  1.651309e+00  1.516255e+00  1.415869e+00   \n",
              "min   -1.996583e+00 -5.640751e+01 -7.271573e+01 -4.832559e+01 -5.683171e+00   \n",
              "25%   -8.552120e-01 -9.203734e-01 -5.985499e-01 -8.903648e-01 -8.486401e-01   \n",
              "50%   -2.131453e-01  1.810880e-02  6.548556e-02  1.798463e-01 -1.984653e-02   \n",
              "75%    9.372174e-01  1.315642e+00  8.037239e-01  1.027196e+00  7.433413e-01   \n",
              "max    1.642058e+00  2.454930e+00  2.205773e+01  9.382558e+00  1.687534e+01   \n",
              "\n",
              "                 V5            V6            V7            V8            V9  \\\n",
              "count  2.848070e+05  2.848070e+05  2.848070e+05  2.848070e+05  2.848070e+05   \n",
              "mean   9.604066e-16  1.487313e-15 -5.556467e-16  1.213481e-16 -2.406331e-15   \n",
              "std    1.380247e+00  1.332271e+00  1.237094e+00  1.194353e+00  1.098632e+00   \n",
              "min   -1.137433e+02 -2.616051e+01 -4.355724e+01 -7.321672e+01 -1.343407e+01   \n",
              "25%   -6.915971e-01 -7.682956e-01 -5.540759e-01 -2.086297e-01 -6.430976e-01   \n",
              "50%   -5.433583e-02 -2.741871e-01  4.010308e-02  2.235804e-02 -5.142873e-02   \n",
              "75%    6.119264e-01  3.985649e-01  5.704361e-01  3.273459e-01  5.971390e-01   \n",
              "max    3.480167e+01  7.330163e+01  1.205895e+02  2.000721e+01  1.559499e+01   \n",
              "\n",
              "       ...           V21           V22           V23           V24  \\\n",
              "count  ...  2.848070e+05  2.848070e+05  2.848070e+05  2.848070e+05   \n",
              "mean   ...  1.654067e-16 -3.568593e-16  2.578648e-16  4.473266e-15   \n",
              "std    ...  7.345240e-01  7.257016e-01  6.244603e-01  6.056471e-01   \n",
              "min    ... -3.483038e+01 -1.093314e+01 -4.480774e+01 -2.836627e+00   \n",
              "25%    ... -2.283949e-01 -5.423504e-01 -1.618463e-01 -3.545861e-01   \n",
              "50%    ... -2.945017e-02  6.781943e-03 -1.119293e-02  4.097606e-02   \n",
              "75%    ...  1.863772e-01  5.285536e-01  1.476421e-01  4.395266e-01   \n",
              "max    ...  2.720284e+01  1.050309e+01  2.252841e+01  4.584549e+00   \n",
              "\n",
              "                V25           V26           V27           V28        Amount  \\\n",
              "count  2.848070e+05  2.848070e+05  2.848070e+05  2.848070e+05  2.848070e+05   \n",
              "mean   5.340915e-16  1.683437e-15 -3.660091e-16 -1.227390e-16  2.913952e-17   \n",
              "std    5.212781e-01  4.822270e-01  4.036325e-01  3.300833e-01  1.000002e+00   \n",
              "min   -1.029540e+01 -2.604551e+00 -2.256568e+01 -1.543008e+01 -3.532294e-01   \n",
              "25%   -3.171451e-01 -3.269839e-01 -7.083953e-02 -5.295979e-02 -3.308401e-01   \n",
              "50%    1.659350e-02 -5.213911e-02  1.342146e-03  1.124383e-02 -2.652715e-01   \n",
              "75%    3.507156e-01  2.409522e-01  9.104512e-02  7.827995e-02 -4.471707e-02   \n",
              "max    7.519589e+00  3.517346e+00  3.161220e+01  3.384781e+01  1.023622e+02   \n",
              "\n",
              "               Class  \n",
              "count  284807.000000  \n",
              "mean        0.001727  \n",
              "std         0.041527  \n",
              "min         0.000000  \n",
              "25%         0.000000  \n",
              "50%         0.000000  \n",
              "75%         0.000000  \n",
              "max         1.000000  \n",
              "\n",
              "[8 rows x 31 columns]"
            ]
          },
          "execution_count": 52,
          "metadata": {},
          "output_type": "execute_result"
        }
      ],
      "source": [
        "df.describe()"
      ]
    },
    {
      "cell_type": "markdown",
      "metadata": {
        "id": "WyrJ6cnpXbTg"
      },
      "source": [
        "### Escogiendo Variables  - Carlos\n",
        "\n",
        "**Significancia de las variables**"
      ]
    },
    {
      "cell_type": "markdown",
      "metadata": {
        "id": "A4GHTeTfXqOM"
      },
      "source": [
        "### Seleccionando Muestras Balanceadas"
      ]
    },
    {
      "cell_type": "markdown",
      "metadata": {
        "id": "KBibiFj1jmqK"
      },
      "source": [
        "Necesitamos una submuestra del dataframe que contenga un monto igual de casos fraudulentos como no fraudulentos.\n",
        "\n",
        "El objetivo es permitir que nuestro modelo de aprendizaje pueda entender mejor los patrones que determinan si una transacción es fraudulenta o no.\n",
        "\n",
        "Debido al desbalance de los datos originales, no se puede observar las correlaciones verdaderas entre la variable objetivo y las demás características.\n",
        "\n",
        "\n",
        "\n",
        "\n",
        "Referencias:\n",
        "- https://www.kaggle.com/code/janiobachmann/credit-fraud-dealing-with-imbalanced-datasets"
      ]
    },
    {
      "cell_type": "code",
      "execution_count": null,
      "metadata": {},
      "outputs": [],
      "source": [
        "'''\n",
        "#Dado que la mayoría de nuestros datos ya han sido escalados,\n",
        "#debemos escalar las columnas que quedan por escalar (Cantidad y Tiempo)\n",
        "from sklearn.preprocessing import StandardScaler, RobustScaler\n",
        "\n",
        "# RobustScaler es menos propenso a valores atípicos.\n",
        "\n",
        "std_scaler = StandardScaler()\n",
        "rob_scaler = RobustScaler()\n",
        "\n",
        "df['scaled_monto'] = rob_scaler.fit_transform(df['Amount'].values.reshape(-1,1))\n",
        "df['scaled_tiempo'] = rob_scaler.fit_transform(df['Time'].values.reshape(-1,1))\n",
        "\n",
        "df.drop(['Time','Amount'], axis=1, inplace=True)\n",
        "\n",
        "scaled_amount = df['scaled_amount']\n",
        "scaled_time = df['scaled_time']\n",
        "\n",
        "df.drop(['scaled_amount', 'scaled_time'], axis=1, inplace=True)\n",
        "df.insert(0, 'scaled_amount', scaled_amount)\n",
        "df.insert(1, 'scaled_time', scaled_time)\n",
        "\n",
        "# Monto y Tiempo estan escaladas\n",
        "\n",
        "df.head()\n",
        "\n",
        "'''"
      ]
    },
    {
      "cell_type": "code",
      "execution_count": null,
      "metadata": {},
      "outputs": [],
      "source": [
        "'''\n",
        "\n",
        "#Lo que entendí de esta celda es que hace la comparación de resultados de pruebas del dataset original con el dataset escalado\n",
        "#En realidad veo inecesaria esta prueba por lo que creo que es mejor no hacerla\n",
        "\n",
        "from sklearn.model_selection import train_test_split\n",
        "from sklearn.model_selection import StratifiedShuffleSplit, StratifiedKFold\n",
        "\n",
        "print('No Frauds', round(df['Class'].value_counts()[0]/len(df) * 100,2), '% of the dataset')\n",
        "print('Frauds', round(df['Class'].value_counts()[1]/len(df) * 100,2), '% of the dataset')\n",
        "\n",
        "X = df.drop('Class', axis=1)\n",
        "y = df['Class']\n",
        "\n",
        "sss = StratifiedKFold(n_splits=5, random_state=None, shuffle=False)\n",
        "\n",
        "for train_index, test_index in sss.split(X, y):\n",
        "    print(\"Train:\", train_index, \"Test:\", test_index)\n",
        "    original_Xtrain, original_Xtest = X.iloc[train_index], X.iloc[test_index]\n",
        "    original_ytrain, original_ytest = y.iloc[train_index], y.iloc[test_index]\n",
        "\n",
        "original_Xtrain = original_Xtrain.values\n",
        "original_Xtest = original_Xtest.values\n",
        "original_ytrain = original_ytrain.values\n",
        "original_ytest = original_ytest.values\n",
        "\n",
        "\n",
        "train_unique_label, train_counts_label = np.unique(original_ytrain, return_counts=True)\n",
        "test_unique_label, test_counts_label = np.unique(original_ytest, return_counts=True)\n",
        "print('-' * 100)\n",
        "\n",
        "print('Label Distributions: \\n')\n",
        "print(train_counts_label/ len(original_ytrain))\n",
        "print(test_counts_label/ len(original_ytest))\n",
        "'''"
      ]
    },
    {
      "cell_type": "code",
      "execution_count": null,
      "metadata": {},
      "outputs": [
        {
          "data": {
            "text/html": [
              "<div>\n",
              "<style scoped>\n",
              "    .dataframe tbody tr th:only-of-type {\n",
              "        vertical-align: middle;\n",
              "    }\n",
              "\n",
              "    .dataframe tbody tr th {\n",
              "        vertical-align: top;\n",
              "    }\n",
              "\n",
              "    .dataframe thead th {\n",
              "        text-align: right;\n",
              "    }\n",
              "</style>\n",
              "<table border=\"1\" class=\"dataframe\">\n",
              "  <thead>\n",
              "    <tr style=\"text-align: right;\">\n",
              "      <th></th>\n",
              "      <th>Time</th>\n",
              "      <th>V1</th>\n",
              "      <th>V2</th>\n",
              "      <th>V3</th>\n",
              "      <th>V4</th>\n",
              "      <th>V5</th>\n",
              "      <th>V6</th>\n",
              "      <th>V7</th>\n",
              "      <th>V8</th>\n",
              "      <th>V9</th>\n",
              "      <th>...</th>\n",
              "      <th>V21</th>\n",
              "      <th>V22</th>\n",
              "      <th>V23</th>\n",
              "      <th>V24</th>\n",
              "      <th>V25</th>\n",
              "      <th>V26</th>\n",
              "      <th>V27</th>\n",
              "      <th>V28</th>\n",
              "      <th>Amount</th>\n",
              "      <th>Class</th>\n",
              "    </tr>\n",
              "  </thead>\n",
              "  <tbody>\n",
              "    <tr>\n",
              "      <th>244619</th>\n",
              "      <td>1.21</td>\n",
              "      <td>0.10</td>\n",
              "      <td>1.02</td>\n",
              "      <td>-0.32</td>\n",
              "      <td>-0.63</td>\n",
              "      <td>0.93</td>\n",
              "      <td>-0.59</td>\n",
              "      <td>0.89</td>\n",
              "      <td>0.01</td>\n",
              "      <td>-0.35</td>\n",
              "      <td>...</td>\n",
              "      <td>-0.28</td>\n",
              "      <td>-0.68</td>\n",
              "      <td>0.09</td>\n",
              "      <td>0.67</td>\n",
              "      <td>-0.46</td>\n",
              "      <td>0.09</td>\n",
              "      <td>0.22</td>\n",
              "      <td>0.08</td>\n",
              "      <td>-0.35</td>\n",
              "      <td>0</td>\n",
              "    </tr>\n",
              "    <tr>\n",
              "      <th>42009</th>\n",
              "      <td>-1.13</td>\n",
              "      <td>-2.74</td>\n",
              "      <td>3.66</td>\n",
              "      <td>-4.11</td>\n",
              "      <td>5.34</td>\n",
              "      <td>-2.67</td>\n",
              "      <td>-0.09</td>\n",
              "      <td>-4.39</td>\n",
              "      <td>-0.28</td>\n",
              "      <td>-2.82</td>\n",
              "      <td>...</td>\n",
              "      <td>2.42</td>\n",
              "      <td>-0.10</td>\n",
              "      <td>0.38</td>\n",
              "      <td>-0.15</td>\n",
              "      <td>-0.40</td>\n",
              "      <td>0.28</td>\n",
              "      <td>0.83</td>\n",
              "      <td>0.22</td>\n",
              "      <td>0.10</td>\n",
              "      <td>1</td>\n",
              "    </tr>\n",
              "    <tr>\n",
              "      <th>231023</th>\n",
              "      <td>1.09</td>\n",
              "      <td>1.94</td>\n",
              "      <td>-0.40</td>\n",
              "      <td>-1.07</td>\n",
              "      <td>0.29</td>\n",
              "      <td>-0.30</td>\n",
              "      <td>-0.93</td>\n",
              "      <td>0.09</td>\n",
              "      <td>-0.26</td>\n",
              "      <td>1.09</td>\n",
              "      <td>...</td>\n",
              "      <td>-0.13</td>\n",
              "      <td>-0.23</td>\n",
              "      <td>0.17</td>\n",
              "      <td>-0.07</td>\n",
              "      <td>-0.09</td>\n",
              "      <td>-0.09</td>\n",
              "      <td>-0.03</td>\n",
              "      <td>-0.05</td>\n",
              "      <td>-0.12</td>\n",
              "      <td>0</td>\n",
              "    </tr>\n",
              "    <tr>\n",
              "      <th>276864</th>\n",
              "      <td>1.53</td>\n",
              "      <td>-1.37</td>\n",
              "      <td>2.79</td>\n",
              "      <td>-4.35</td>\n",
              "      <td>2.40</td>\n",
              "      <td>-1.69</td>\n",
              "      <td>0.11</td>\n",
              "      <td>-0.92</td>\n",
              "      <td>-2.15</td>\n",
              "      <td>-2.03</td>\n",
              "      <td>...</td>\n",
              "      <td>-0.87</td>\n",
              "      <td>0.50</td>\n",
              "      <td>0.14</td>\n",
              "      <td>0.37</td>\n",
              "      <td>0.10</td>\n",
              "      <td>-0.41</td>\n",
              "      <td>0.45</td>\n",
              "      <td>0.10</td>\n",
              "      <td>1.04</td>\n",
              "      <td>1</td>\n",
              "    </tr>\n",
              "    <tr>\n",
              "      <th>153885</th>\n",
              "      <td>0.12</td>\n",
              "      <td>-6.99</td>\n",
              "      <td>5.15</td>\n",
              "      <td>-4.60</td>\n",
              "      <td>4.53</td>\n",
              "      <td>0.85</td>\n",
              "      <td>-0.21</td>\n",
              "      <td>-4.43</td>\n",
              "      <td>-5.13</td>\n",
              "      <td>0.07</td>\n",
              "      <td>...</td>\n",
              "      <td>5.45</td>\n",
              "      <td>-2.06</td>\n",
              "      <td>-0.28</td>\n",
              "      <td>0.12</td>\n",
              "      <td>0.57</td>\n",
              "      <td>0.15</td>\n",
              "      <td>0.30</td>\n",
              "      <td>1.78</td>\n",
              "      <td>-0.35</td>\n",
              "      <td>1</td>\n",
              "    </tr>\n",
              "  </tbody>\n",
              "</table>\n",
              "<p>5 rows × 31 columns</p>\n",
              "</div>"
            ],
            "text/plain": [
              "        Time    V1    V2    V3    V4    V5    V6    V7    V8    V9  ...   V21  \\\n",
              "244619  1.21  0.10  1.02 -0.32 -0.63  0.93 -0.59  0.89  0.01 -0.35  ... -0.28   \n",
              "42009  -1.13 -2.74  3.66 -4.11  5.34 -2.67 -0.09 -4.39 -0.28 -2.82  ...  2.42   \n",
              "231023  1.09  1.94 -0.40 -1.07  0.29 -0.30 -0.93  0.09 -0.26  1.09  ... -0.13   \n",
              "276864  1.53 -1.37  2.79 -4.35  2.40 -1.69  0.11 -0.92 -2.15 -2.03  ... -0.87   \n",
              "153885  0.12 -6.99  5.15 -4.60  4.53  0.85 -0.21 -4.43 -5.13  0.07  ...  5.45   \n",
              "\n",
              "         V22   V23   V24   V25   V26   V27   V28  Amount  Class  \n",
              "244619 -0.68  0.09  0.67 -0.46  0.09  0.22  0.08   -0.35      0  \n",
              "42009  -0.10  0.38 -0.15 -0.40  0.28  0.83  0.22    0.10      1  \n",
              "231023 -0.23  0.17 -0.07 -0.09 -0.09 -0.03 -0.05   -0.12      0  \n",
              "276864  0.50  0.14  0.37  0.10 -0.41  0.45  0.10    1.04      1  \n",
              "153885 -2.06 -0.28  0.12  0.57  0.15  0.30  1.78   -0.35      1  \n",
              "\n",
              "[5 rows x 31 columns]"
            ]
          },
          "metadata": {},
          "output_type": "display_data"
        }
      ],
      "source": [
        "#Vamos a mezclar los datos antes de crear las submuestras.\n",
        "df = df.sample(frac=1)\n",
        "\n",
        "# Obtenemos 492 fraudes y 492 no fraudes\n",
        "fraude_df = df.loc[df['Class'] == 1]\n",
        "no_fraude_df = df.loc[df['Class'] == 0][:492]\n",
        "\n",
        "#Juntamos los dos dataframes\n",
        "distribucion_df = pd.concat([fraude_df, no_fraude_df])\n",
        "\n",
        "# Revolvemos las filas del dataframe\n",
        "df_ff = distribucion_df.sample(frac=1, random_state=42)\n",
        "\n",
        "df_ff.head()"
      ]
    },
    {
      "cell_type": "code",
      "execution_count": null,
      "metadata": {},
      "outputs": [
        {
          "data": {
            "text/plain": [
              "(984, 31)"
            ]
          },
          "metadata": {},
          "output_type": "display_data"
        }
      ],
      "source": [
        "df_ff.shape"
      ]
    },
    {
      "cell_type": "code",
      "execution_count": null,
      "metadata": {},
      "outputs": [
        {
          "name": "stdout",
          "output_type": "stream",
          "text": [
            "Distribución de las clases en el conjunto de datos de la submuestra\n",
            "Class\n",
            "0   0.50\n",
            "1   0.50\n",
            "Name: count, dtype: float64\n"
          ]
        },
        {
          "data": {
            "image/png": "[encoded data removed]",
            "text/plain": [
              "<Figure size 640x480 with 1 Axes>"
            ]
          },
          "metadata": {},
          "output_type": "display_data"
        }
      ],
      "source": [
        "print('Distribución de las clases en el conjunto de datos de la submuestra')\n",
        "print(df_ff['Class'].value_counts()/len(df_ff))\n",
        "\n",
        "\n",
        "sns.countplot(data=df_ff, x='Class')\n",
        "plt.title('Distribución de Equivalencia de clases', fontsize=14)\n",
        "plt.show()"
      ]
    },
    {
      "cell_type": "markdown",
      "metadata": {
        "id": "UiXHFalksI_1"
      },
      "source": [
        "## 2. ¿Por qué el problema amerita ser solucionado por Machine Leaning?"
      ]
    },
    {
      "cell_type": "markdown",
      "metadata": {
        "id": "Mc6xD6oKqATp"
      },
      "source": [
        "Nuestro problema amerita ser resuelto con una técnica de machine learning debido a que nuestro objetivo es entrenar el algoritmo para reconocer patrones de casos fraudulentos a partir de la información que obtenemos de una transacción. Es decir, queremos identificar anomalías en los datos que podrían indicar un problema en una transacción.  [[1]](https://www.elastic.co/es/what-is/machine-learning#:~:text=La%20detecci%C3%B3n%20de%20anomal%C3%ADas%20es,Conoce%20m%C3%A1s%20sobre%20AIOps.)\n",
        "\n",
        "\n",
        "En particular, creemos que podemos usar un modelo suvervisado de clasificación y también de regresión, debido a las características de nuestro dataset. La variable objetivo 'Class' funciona como una etiqueta donde el valor 1 indica que una transacción es fraudulenta y un 0 indica que no es fraudulenta."
      ]
    },
    {
      "cell_type": "markdown",
      "metadata": {
        "id": "5tWvktaTC1tC"
      },
      "source": [
        "# Modelo de Clasificación"
      ]
    },
    {
      "cell_type": "markdown",
      "metadata": {
        "id": "TGyekzRCsoBi"
      },
      "source": [
        "## División de Datasets\n",
        "Los datasets se encuentran divididos en entrenamiento y prueba, o entrenamiento, validación y prueba, de manera aleatoria, con proporciones adecuadas.  [[2]](https://builtin.com/data-science/train-test-split)"
      ]
    },
    {
      "cell_type": "code",
      "execution_count": 6,
      "metadata": {
        "colab": {
          "base_uri": "https://localhost:8080/"
        },
        "id": "xGJzopEZGbdY",
        "outputId": "0b0889b7-484a-4731-f7b1-2dfb81fd8b79"
      },
      "outputs": [
        {
          "name": "stdout",
          "output_type": "stream",
          "text": [
            "Tamaño del conjunto de entrenamiento: 213605\n",
            "Tamaño del conjunto de prueba: 71202\n"
          ]
        }
      ],
      "source": [
        "# Importando Módulos\n",
        "from sklearn.model_selection import train_test_split\n",
        "\n",
        "# Dividiendo los datos en entrenamiento X, y prueba y.\n",
        "X = df.drop('Class', axis=1) # Atributos\n",
        "y = df.Class  # Etiquetas\n",
        "\n",
        "# Dividiendo los conjuntos de datos en entrenamiento y prueba\n",
        "# Test size =  25%\n",
        "# Train size = 75%\n",
        "# (semilla) random_state = 42\n",
        "\n",
        "X_train, X_test, y_train, y_test = train_test_split(X, y, test_size=0.25, random_state=42)\n",
        "\n",
        "# Imprimir las longitudes de los conjuntos de datos para verificar\n",
        "print(\"Tamaño del conjunto de entrenamiento:\", len(X_train))\n",
        "print(\"Tamaño del conjunto de prueba:\", len(X_test))"
      ]
    },
    {
      "cell_type": "code",
      "execution_count": 54,
      "metadata": {
        "id": "LTzmFLpXXsdT"
      },
      "outputs": [
        {
          "data": {
            "image/png": "[encoded data removed]",
            "text/plain": [
              "<Figure size 640x480 with 1 Axes>"
            ]
          },
          "metadata": {},
          "output_type": "display_data"
        }
      ],
      "source": [
        "# Distribución del conjunto de datos de entrenamiento y_train\n",
        "y_muestra_train = pd.DataFrame(y_train)\n",
        "sns.countplot(y_muestra_train, x =\"Class\");"
      ]
    },
    {
      "cell_type": "markdown",
      "metadata": {
        "id": "WDH-27w7sv06"
      },
      "source": [
        "## Validación por K-Fold o LOOCV y Métricas de Desempeño\n",
        "\n",
        "Las pruebas de validación cruzada se aplican adecuadamente en conjunto con los algoritmos, de tal manera que no hay datos favoritos o fácilmente clasificables en el dataset de pruebas\n"
      ]
    },
    {
      "cell_type": "markdown",
      "metadata": {
        "id": "FS7Nsz0cU00F"
      },
      "source": [
        "### Validación Cruzada K-Fold"
      ]
    },
    {
      "cell_type": "markdown",
      "metadata": {},
      "source": [
        "* La validación cruzada (K-fold) es una técnica para evaluar el rendimiento de un modelo de forma robusta.   \n",
        "* Divide los datos en conjuntos de entrenamiento y prueba múltiples veces.   \n",
        "* Permite una evaluación más precisa de cómo el modelo generaliza a datos no vistos.   \n",
        "* Ayuda a evitar el sobreajuste (overfitting) y proporciona una medida más fiable del rendimiento del modelo.\n",
        "[[Sesion 2]](https://github.com/alemora24/C1-Machine-Learning-MASIVO/blob/main/Sesion-02/Ejemplo02.ipynb\n",
        ")\n"
      ]
    },
    {
      "cell_type": "code",
      "execution_count": 7,
      "metadata": {},
      "outputs": [],
      "source": [
        "\n",
        "def validacion_cruzada(modelo, X, y):\n",
        "    # Importando bibliotecas\n",
        "    import numpy as np\n",
        "    from sklearn.model_selection import KFold, cross_val_score\n",
        "\n",
        "    # Definir el número de pliegues para la validación cruzada\n",
        "    num_pliegues = 5\n",
        "\n",
        "    # Crear un objeto KFold para dividir los datos en pliegues\n",
        "    kf = KFold(n_splits=num_pliegues, shuffle=True, random_state=42)\n",
        "\n",
        "    resultados = cross_val_score(modelo, X, y, cv= 5 )\n",
        "\n",
        "    #Ver el promedio de los resultados\n",
        "    promedio = resultados.mean()\n",
        "\n",
        "    #Validacion cruzada\n",
        "    return print(f'Precisión de validación cruzada: Promedio {promedio:.2f} (+/- {resultados.std() * 2:.2f})')"
      ]
    },
    {
      "cell_type": "markdown",
      "metadata": {},
      "source": [
        "### Métricas de Desempeño"
      ]
    },
    {
      "cell_type": "markdown",
      "metadata": {},
      "source": [
        "**Matriz de Confusión**  \n",
        "* Una matriz de confusión nos ayuda a describir el desempeño de un modelo de clasificación sobre un conjunto de datos de prueba para los cuales se conocen los valores verdaderos.   \n",
        "* Muestra cuántos casos se clasificaron correctamente (verdaderos positivos y verdaderos negativos) y ls que se clasificaron incorrectamente (falsos positivos y falsos negativos).   \n",
        "* Nos ayuda a evaluar la precisión y el rendimiento del modelo.\n",
        " [[Ref]](https://www.analyticsvidhya.com/blog/2020/04/confusion-matrix-machine-learning/#:~:text=A%20confusion%20matrix%20is%20a%20performance%20evaluation%20tool%20in%20machine,false%20positives%2C%20and%20false%20negatives.)"
      ]
    },
    {
      "cell_type": "markdown",
      "metadata": {},
      "source": [
        "![image.png](data:image/png;base64,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)"
      ]
    },
    {
      "cell_type": "code",
      "execution_count": 8,
      "metadata": {},
      "outputs": [],
      "source": [
        "# Matriz de Confusión\n",
        "\n",
        "def matriz_de_confusion(y_test, y_pred):\n",
        "    # Importar módulo\n",
        "    from sklearn import metrics\n",
        "\n",
        "    # Crea la matriz\n",
        "    cnf_matrix = metrics.confusion_matrix(y_test, y_pred)\n",
        "\n",
        "    # Visualización\n",
        "    class_names=[0,1] # name  of classes\n",
        "    fig, ax = plt.subplots(figsize=(6, 6))\n",
        "    tick_marks = np.arange(len(class_names))\n",
        "    plt.xticks(tick_marks, class_names)\n",
        "    plt.yticks(tick_marks, class_names)\n",
        "\n",
        "    # Heatmap\n",
        "    sns.heatmap(pd.DataFrame(cnf_matrix), annot=True, cmap=\"Blues\", fmt='g', cbar=False, annot_kws={\"size\": 20})\n",
        "    ax.xaxis.set_label_position(\"top\")\n",
        "    plt.tight_layout()\n",
        "    plt.ylabel('Realidad', fontsize=15, y=0.5)\n",
        "    plt.xlabel('Estimado por el modelo', fontsize=15);\n",
        "\n",
        "    # Métricas\n",
        "    tn, fp, fn, tp = cnf_matrix.ravel()\n",
        "\n",
        "    print(\"Precision:\",metrics.precision_score(y_test, y_pred))\n",
        "    print(\"Exactitud:\",metrics.accuracy_score(y_test, y_pred))\n",
        "    print(\"Sensibilidad:\",metrics.recall_score(y_test, y_pred))\n",
        "    print(\"Especificidad:\", tn / (tn + fp))\n"
      ]
    },
    {
      "cell_type": "markdown",
      "metadata": {},
      "source": [
        "**Curva ROC / AUC**"
      ]
    },
    {
      "cell_type": "code",
      "execution_count": 9,
      "metadata": {},
      "outputs": [],
      "source": [
        "# El primer valor es la probabilidad de que el valor sea negativo.\n",
        "# El segundo valor es la probabilidad de que el valor sea positivo.\n",
        "# Necesitamos los resultados de esta manera para poder modificar el umbral y\n",
        "# obtener los puntos necesarios para generar la curva ROC.\n",
        "\n",
        "def roc_acu(modelo, X_test, y_test):\n",
        "    y_pred_proba = modelo.predict_proba(X_test)\n",
        "\n",
        "    y_pred_proba[:10,:]\n",
        "\n",
        "    # Importar módulos de la ROC curve\n",
        "    from sklearn.metrics import roc_curve, roc_auc_score\n",
        "\n",
        "    fpr, tpr, _ = roc_curve(y_test, y_pred_proba[:, 1])\n",
        "    roc_auc = roc_auc_score(y_test, y_pred_proba[:, 1])\n",
        "\n",
        "    # Visualización\n",
        "\n",
        "    plt.figure()\n",
        "    plt.plot(fpr, tpr, color='darkorange',\n",
        "            label='ROC curve (area = %0.2f)' % roc_auc)\n",
        "    plt.plot([0, 1], [0, 1], color='navy', linestyle='--')\n",
        "    plt.xlim([0.0, 1.0])\n",
        "    plt.ylim([0.0, 1.05])\n",
        "    plt.xlabel('Proporción Positivos False')\n",
        "    plt.ylabel('Proporción Positivos Verdaderos')\n",
        "    plt.title('Curva ROC / AUC')\n",
        "    plt.legend(loc=\"lower right\")\n",
        "    plt.show()\n"
      ]
    },
    {
      "cell_type": "markdown",
      "metadata": {},
      "source": [
        "**Reportes de Clasificación**\n",
        "\n"
      ]
    },
    {
      "cell_type": "markdown",
      "metadata": {},
      "source": [
        "El reporte de clasificación consiste en presentar métricas que evalúen el desempeño del modelo. Dichas métricas pueden ser:\n",
        "- Precisión\n",
        "- Sensibilidad\n",
        "- Especificidad\n",
        "- F1-Score\n",
        "- AUC - ROC\n",
        "- Error Cudrático Medio (MSE)\n",
        "- Coeficiente de Determinación (R^2)\n",
        "\n",
        "**Precisión :**  \n",
        "Mide la proporción de predicciones correctas sobre el total de predicciones.  \n",
        "Fórmula: Verdaderos Positivos / (Verdaderos Positivos + Falsos Positivos)\n"
      ]
    },
    {
      "cell_type": "markdown",
      "metadata": {},
      "source": [
        "__Sensibilidad o Recuperación (Recall):__  \n",
        "Mide la proporcion de verdaderos positivos respecto a todos los casos positivos reales. \n",
        "Fórmula:\n",
        "\n",
        "\n"
      ]
    },
    {
      "cell_type": "markdown",
      "metadata": {},
      "source": [
        "__F1-Score:__  \n",
        "Combina las métricas de precisión y recuperación o sensibilidad en una sola métrica. Es útil cuando existe un desequilibrio de clases. \n"
      ]
    },
    {
      "cell_type": "markdown",
      "metadata": {},
      "source": [
        "__AUC-ROC__  \n",
        "Representa la capacidad del modelo para discriminar entre clases\n",
        "\n",
        "\n"
      ]
    },
    {
      "cell_type": "markdown",
      "metadata": {
        "id": "hwTy29_ptMms"
      },
      "source": [
        "## Algoritmo de Clasificación con Todo el Dataset \n",
        "\n",
        "Las métricas presentadas son claras y se interpretan adecuadamente. El algoritmo de clasificación elegido sobrepasa al resto de los algoritmos en eficacia."
      ]
    },
    {
      "cell_type": "markdown",
      "metadata": {
        "id": "Krw9Qgmp_b9a"
      },
      "source": [
        "**LazyPredict**"
      ]
    },
    {
      "cell_type": "code",
      "execution_count": null,
      "metadata": {
        "colab": {
          "base_uri": "https://localhost:8080/"
        },
        "id": "xgllaKNEP5Im",
        "outputId": "c1fa1b21-824e-4d1a-e143-f731f8c74628"
      },
      "outputs": [],
      "source": [
        "!pip install lazypredict"
      ]
    },
    {
      "cell_type": "code",
      "execution_count": 30,
      "metadata": {
        "colab": {
          "base_uri": "https://localhost:8080/"
        },
        "id": "OHeqIZ0f92T2",
        "outputId": "11547a7c-b356-474f-a35d-9ecec9cfea62"
      },
      "outputs": [
        {
          "name": "stderr",
          "output_type": "stream",
          "text": [
            " 97%|█████████▋| 28/29 [22:26<00:51, 51.69s/it]  "
          ]
        },
        {
          "name": "stdout",
          "output_type": "stream",
          "text": [
            "[LightGBM] [Info] Number of positive: 379, number of negative: 213226\n",
            "[LightGBM] [Info] Auto-choosing col-wise multi-threading, the overhead of testing was 0.032999 seconds.\n",
            "You can set `force_col_wise=true` to remove the overhead.\n",
            "[LightGBM] [Info] Total Bins 7650\n",
            "[LightGBM] [Info] Number of data points in the train set: 213605, number of used features: 30\n",
            "[LightGBM] [Info] [binary:BoostFromScore]: pavg=0.001774 -> initscore=-6.332572\n",
            "[LightGBM] [Info] Start training from score -6.332572\n"
          ]
        },
        {
          "name": "stderr",
          "output_type": "stream",
          "text": [
            "100%|██████████| 29/29 [22:29<00:00, 46.54s/it]"
          ]
        },
        {
          "name": "stdout",
          "output_type": "stream",
          "text": [
            "                               Accuracy  Balanced Accuracy  ROC AUC  F1 Score  \\\n",
            "Model                                                                           \n",
            "QuadraticDiscriminantAnalysis      0.98               0.93     0.93      0.99   \n",
            "GaussianNB                         0.98               0.90     0.90      0.99   \n",
            "RandomForestClassifier             1.00               0.90     0.90      1.00   \n",
            "BaggingClassifier                  1.00               0.90     0.90      1.00   \n",
            "ExtraTreesClassifier               1.00               0.89     0.89      1.00   \n",
            "XGBClassifier                      1.00               0.89     0.89      1.00   \n",
            "LinearSVC                          1.00               0.89     0.89      1.00   \n",
            "NearestCentroid                    1.00               0.89     0.89      1.00   \n",
            "LinearDiscriminantAnalysis         1.00               0.88     0.88      1.00   \n",
            "DecisionTreeClassifier             1.00               0.88     0.88      1.00   \n",
            "KNeighborsClassifier               1.00               0.88     0.88      1.00   \n",
            "ExtraTreeClassifier                1.00               0.88     0.88      1.00   \n",
            "PassiveAggressiveClassifier        1.00               0.88     0.88      1.00   \n",
            "AdaBoostClassifier                 1.00               0.86     0.86      1.00   \n",
            "Perceptron                         1.00               0.85     0.85      1.00   \n",
            "BernoulliNB                        1.00               0.83     0.83      1.00   \n",
            "SVC                                1.00               0.81     0.81      1.00   \n",
            "LogisticRegression                 1.00               0.80     0.80      1.00   \n",
            "CalibratedClassifierCV             1.00               0.80     0.80      1.00   \n",
            "SGDClassifier                      1.00               0.77     0.77      1.00   \n",
            "RidgeClassifier                    1.00               0.73     0.73      1.00   \n",
            "RidgeClassifierCV                  1.00               0.73     0.73      1.00   \n",
            "LGBMClassifier                     0.97               0.63     0.63      0.98   \n",
            "DummyClassifier                    1.00               0.50     0.50      1.00   \n",
            "\n",
            "                               Time Taken  \n",
            "Model                                      \n",
            "QuadraticDiscriminantAnalysis        1.95  \n",
            "GaussianNB                           0.70  \n",
            "RandomForestClassifier             542.34  \n",
            "BaggingClassifier                  280.84  \n",
            "ExtraTreesClassifier                21.37  \n",
            "XGBClassifier                        3.65  \n",
            "LinearSVC                           69.97  \n",
            "NearestCentroid                      0.65  \n",
            "LinearDiscriminantAnalysis           2.45  \n",
            "DecisionTreeClassifier              42.61  \n",
            "KNeighborsClassifier                58.98  \n",
            "ExtraTreeClassifier                  0.61  \n",
            "PassiveAggressiveClassifier          0.87  \n",
            "AdaBoostClassifier                 125.00  \n",
            "Perceptron                           1.24  \n",
            "BernoulliNB                          0.87  \n",
            "SVC                                180.60  \n",
            "LogisticRegression                   2.11  \n",
            "CalibratedClassifierCV               5.25  \n",
            "SGDClassifier                        0.85  \n",
            "RidgeClassifier                      0.55  \n",
            "RidgeClassifierCV                    1.24  \n",
            "LGBMClassifier                       2.79  \n",
            "DummyClassifier                      0.42  \n"
          ]
        },
        {
          "name": "stderr",
          "output_type": "stream",
          "text": [
            "\n"
          ]
        }
      ],
      "source": [
        "#Importando bibliotecas\n",
        "from lazypredict.Supervised import LazyClassifier\n",
        "\n",
        "#Definir variables\n",
        "X = df.drop('Class', axis=1)\n",
        "y = df.Class\n",
        "\n",
        "#Datos de entrenamiento y de prueba\n",
        "X_train, X_test, y_train, y_test = train_test_split(X, y, test_size=0.25, random_state=42)\n",
        "\n",
        "#LazyClassifier\n",
        "clf = LazyClassifier(predictions=True, verbose=0, ignore_warnings=True, custom_metric=None)\n",
        "\n",
        "#Ajuste de modelo\n",
        "models, predictions = clf.fit(X_train, X_test, y_train, y_test)\n",
        "\n",
        "#Resultado\n",
        "print(models)"
      ]
    },
    {
      "cell_type": "code",
      "execution_count": 32,
      "metadata": {},
      "outputs": [
        {
          "data": {
            "text/html": [
              "<div>\n",
              "<style scoped>\n",
              "    .dataframe tbody tr th:only-of-type {\n",
              "        vertical-align: middle;\n",
              "    }\n",
              "\n",
              "    .dataframe tbody tr th {\n",
              "        vertical-align: top;\n",
              "    }\n",
              "\n",
              "    .dataframe thead th {\n",
              "        text-align: right;\n",
              "    }\n",
              "</style>\n",
              "<table border=\"1\" class=\"dataframe\">\n",
              "  <thead>\n",
              "    <tr style=\"text-align: right;\">\n",
              "      <th></th>\n",
              "      <th>Accuracy</th>\n",
              "      <th>Balanced Accuracy</th>\n",
              "      <th>ROC AUC</th>\n",
              "      <th>F1 Score</th>\n",
              "      <th>Time Taken</th>\n",
              "    </tr>\n",
              "    <tr>\n",
              "      <th>Model</th>\n",
              "      <th></th>\n",
              "      <th></th>\n",
              "      <th></th>\n",
              "      <th></th>\n",
              "      <th></th>\n",
              "    </tr>\n",
              "  </thead>\n",
              "  <tbody>\n",
              "    <tr>\n",
              "      <th>QuadraticDiscriminantAnalysis</th>\n",
              "      <td>0.98</td>\n",
              "      <td>0.93</td>\n",
              "      <td>0.93</td>\n",
              "      <td>0.99</td>\n",
              "      <td>1.95</td>\n",
              "    </tr>\n",
              "    <tr>\n",
              "      <th>GaussianNB</th>\n",
              "      <td>0.98</td>\n",
              "      <td>0.90</td>\n",
              "      <td>0.90</td>\n",
              "      <td>0.99</td>\n",
              "      <td>0.70</td>\n",
              "    </tr>\n",
              "    <tr>\n",
              "      <th>RandomForestClassifier</th>\n",
              "      <td>1.00</td>\n",
              "      <td>0.90</td>\n",
              "      <td>0.90</td>\n",
              "      <td>1.00</td>\n",
              "      <td>542.34</td>\n",
              "    </tr>\n",
              "    <tr>\n",
              "      <th>BaggingClassifier</th>\n",
              "      <td>1.00</td>\n",
              "      <td>0.90</td>\n",
              "      <td>0.90</td>\n",
              "      <td>1.00</td>\n",
              "      <td>280.84</td>\n",
              "    </tr>\n",
              "    <tr>\n",
              "      <th>ExtraTreesClassifier</th>\n",
              "      <td>1.00</td>\n",
              "      <td>0.89</td>\n",
              "      <td>0.89</td>\n",
              "      <td>1.00</td>\n",
              "      <td>21.37</td>\n",
              "    </tr>\n",
              "    <tr>\n",
              "      <th>XGBClassifier</th>\n",
              "      <td>1.00</td>\n",
              "      <td>0.89</td>\n",
              "      <td>0.89</td>\n",
              "      <td>1.00</td>\n",
              "      <td>3.65</td>\n",
              "    </tr>\n",
              "    <tr>\n",
              "      <th>LinearSVC</th>\n",
              "      <td>1.00</td>\n",
              "      <td>0.89</td>\n",
              "      <td>0.89</td>\n",
              "      <td>1.00</td>\n",
              "      <td>69.97</td>\n",
              "    </tr>\n",
              "    <tr>\n",
              "      <th>NearestCentroid</th>\n",
              "      <td>1.00</td>\n",
              "      <td>0.89</td>\n",
              "      <td>0.89</td>\n",
              "      <td>1.00</td>\n",
              "      <td>0.65</td>\n",
              "    </tr>\n",
              "    <tr>\n",
              "      <th>LinearDiscriminantAnalysis</th>\n",
              "      <td>1.00</td>\n",
              "      <td>0.88</td>\n",
              "      <td>0.88</td>\n",
              "      <td>1.00</td>\n",
              "      <td>2.45</td>\n",
              "    </tr>\n",
              "    <tr>\n",
              "      <th>DecisionTreeClassifier</th>\n",
              "      <td>1.00</td>\n",
              "      <td>0.88</td>\n",
              "      <td>0.88</td>\n",
              "      <td>1.00</td>\n",
              "      <td>42.61</td>\n",
              "    </tr>\n",
              "    <tr>\n",
              "      <th>KNeighborsClassifier</th>\n",
              "      <td>1.00</td>\n",
              "      <td>0.88</td>\n",
              "      <td>0.88</td>\n",
              "      <td>1.00</td>\n",
              "      <td>58.98</td>\n",
              "    </tr>\n",
              "    <tr>\n",
              "      <th>ExtraTreeClassifier</th>\n",
              "      <td>1.00</td>\n",
              "      <td>0.88</td>\n",
              "      <td>0.88</td>\n",
              "      <td>1.00</td>\n",
              "      <td>0.61</td>\n",
              "    </tr>\n",
              "    <tr>\n",
              "      <th>PassiveAggressiveClassifier</th>\n",
              "      <td>1.00</td>\n",
              "      <td>0.88</td>\n",
              "      <td>0.88</td>\n",
              "      <td>1.00</td>\n",
              "      <td>0.87</td>\n",
              "    </tr>\n",
              "    <tr>\n",
              "      <th>AdaBoostClassifier</th>\n",
              "      <td>1.00</td>\n",
              "      <td>0.86</td>\n",
              "      <td>0.86</td>\n",
              "      <td>1.00</td>\n",
              "      <td>125.00</td>\n",
              "    </tr>\n",
              "    <tr>\n",
              "      <th>Perceptron</th>\n",
              "      <td>1.00</td>\n",
              "      <td>0.85</td>\n",
              "      <td>0.85</td>\n",
              "      <td>1.00</td>\n",
              "      <td>1.24</td>\n",
              "    </tr>\n",
              "    <tr>\n",
              "      <th>BernoulliNB</th>\n",
              "      <td>1.00</td>\n",
              "      <td>0.83</td>\n",
              "      <td>0.83</td>\n",
              "      <td>1.00</td>\n",
              "      <td>0.87</td>\n",
              "    </tr>\n",
              "    <tr>\n",
              "      <th>SVC</th>\n",
              "      <td>1.00</td>\n",
              "      <td>0.81</td>\n",
              "      <td>0.81</td>\n",
              "      <td>1.00</td>\n",
              "      <td>180.60</td>\n",
              "    </tr>\n",
              "    <tr>\n",
              "      <th>LogisticRegression</th>\n",
              "      <td>1.00</td>\n",
              "      <td>0.80</td>\n",
              "      <td>0.80</td>\n",
              "      <td>1.00</td>\n",
              "      <td>2.11</td>\n",
              "    </tr>\n",
              "    <tr>\n",
              "      <th>CalibratedClassifierCV</th>\n",
              "      <td>1.00</td>\n",
              "      <td>0.80</td>\n",
              "      <td>0.80</td>\n",
              "      <td>1.00</td>\n",
              "      <td>5.25</td>\n",
              "    </tr>\n",
              "    <tr>\n",
              "      <th>SGDClassifier</th>\n",
              "      <td>1.00</td>\n",
              "      <td>0.77</td>\n",
              "      <td>0.77</td>\n",
              "      <td>1.00</td>\n",
              "      <td>0.85</td>\n",
              "    </tr>\n",
              "    <tr>\n",
              "      <th>RidgeClassifier</th>\n",
              "      <td>1.00</td>\n",
              "      <td>0.73</td>\n",
              "      <td>0.73</td>\n",
              "      <td>1.00</td>\n",
              "      <td>0.55</td>\n",
              "    </tr>\n",
              "    <tr>\n",
              "      <th>RidgeClassifierCV</th>\n",
              "      <td>1.00</td>\n",
              "      <td>0.73</td>\n",
              "      <td>0.73</td>\n",
              "      <td>1.00</td>\n",
              "      <td>1.24</td>\n",
              "    </tr>\n",
              "    <tr>\n",
              "      <th>LGBMClassifier</th>\n",
              "      <td>0.97</td>\n",
              "      <td>0.63</td>\n",
              "      <td>0.63</td>\n",
              "      <td>0.98</td>\n",
              "      <td>2.79</td>\n",
              "    </tr>\n",
              "    <tr>\n",
              "      <th>DummyClassifier</th>\n",
              "      <td>1.00</td>\n",
              "      <td>0.50</td>\n",
              "      <td>0.50</td>\n",
              "      <td>1.00</td>\n",
              "      <td>0.42</td>\n",
              "    </tr>\n",
              "  </tbody>\n",
              "</table>\n",
              "</div>"
            ],
            "text/plain": [
              "                               Accuracy  Balanced Accuracy  ROC AUC  F1 Score  \\\n",
              "Model                                                                           \n",
              "QuadraticDiscriminantAnalysis      0.98               0.93     0.93      0.99   \n",
              "GaussianNB                         0.98               0.90     0.90      0.99   \n",
              "RandomForestClassifier             1.00               0.90     0.90      1.00   \n",
              "BaggingClassifier                  1.00               0.90     0.90      1.00   \n",
              "ExtraTreesClassifier               1.00               0.89     0.89      1.00   \n",
              "XGBClassifier                      1.00               0.89     0.89      1.00   \n",
              "LinearSVC                          1.00               0.89     0.89      1.00   \n",
              "NearestCentroid                    1.00               0.89     0.89      1.00   \n",
              "LinearDiscriminantAnalysis         1.00               0.88     0.88      1.00   \n",
              "DecisionTreeClassifier             1.00               0.88     0.88      1.00   \n",
              "KNeighborsClassifier               1.00               0.88     0.88      1.00   \n",
              "ExtraTreeClassifier                1.00               0.88     0.88      1.00   \n",
              "PassiveAggressiveClassifier        1.00               0.88     0.88      1.00   \n",
              "AdaBoostClassifier                 1.00               0.86     0.86      1.00   \n",
              "Perceptron                         1.00               0.85     0.85      1.00   \n",
              "BernoulliNB                        1.00               0.83     0.83      1.00   \n",
              "SVC                                1.00               0.81     0.81      1.00   \n",
              "LogisticRegression                 1.00               0.80     0.80      1.00   \n",
              "CalibratedClassifierCV             1.00               0.80     0.80      1.00   \n",
              "SGDClassifier                      1.00               0.77     0.77      1.00   \n",
              "RidgeClassifier                    1.00               0.73     0.73      1.00   \n",
              "RidgeClassifierCV                  1.00               0.73     0.73      1.00   \n",
              "LGBMClassifier                     0.97               0.63     0.63      0.98   \n",
              "DummyClassifier                    1.00               0.50     0.50      1.00   \n",
              "\n",
              "                               Time Taken  \n",
              "Model                                      \n",
              "QuadraticDiscriminantAnalysis        1.95  \n",
              "GaussianNB                           0.70  \n",
              "RandomForestClassifier             542.34  \n",
              "BaggingClassifier                  280.84  \n",
              "ExtraTreesClassifier                21.37  \n",
              "XGBClassifier                        3.65  \n",
              "LinearSVC                           69.97  \n",
              "NearestCentroid                      0.65  \n",
              "LinearDiscriminantAnalysis           2.45  \n",
              "DecisionTreeClassifier              42.61  \n",
              "KNeighborsClassifier                58.98  \n",
              "ExtraTreeClassifier                  0.61  \n",
              "PassiveAggressiveClassifier          0.87  \n",
              "AdaBoostClassifier                 125.00  \n",
              "Perceptron                           1.24  \n",
              "BernoulliNB                          0.87  \n",
              "SVC                                180.60  \n",
              "LogisticRegression                   2.11  \n",
              "CalibratedClassifierCV               5.25  \n",
              "SGDClassifier                        0.85  \n",
              "RidgeClassifier                      0.55  \n",
              "RidgeClassifierCV                    1.24  \n",
              "LGBMClassifier                       2.79  \n",
              "DummyClassifier                      0.42  "
            ]
          },
          "execution_count": 32,
          "metadata": {},
          "output_type": "execute_result"
        }
      ],
      "source": [
        "pd.DataFrame(models[:29])"
      ]
    },
    {
      "cell_type": "code",
      "execution_count": 34,
      "metadata": {},
      "outputs": [
        {
          "data": {
            "image/png": "[encoded data removed]",
            "text/plain": [
              "<Figure size 640x480 with 1 Axes>"
            ]
          },
          "metadata": {},
          "output_type": "display_data"
        }
      ],
      "source": [
        "# Visualizar el resultado mejor\n",
        "\n",
        "sns.set_theme(style='whitegrid')\n",
        "ax=sns.barplot(y = models.index, x ='ROC AUC', data=models)"
      ]
    },
    {
      "cell_type": "markdown",
      "metadata": {
        "id": "y77kl-E6Xj0k"
      },
      "source": [
        "**Modelo Regresión Logística**  \n",
        "- Modelo de Aprendizaje Supervisado\n",
        "- Se usa para predecir la variable categórica dependiente (en este caso es 'Class') usando un conjunto de variables independientes."
      ]
    },
    {
      "cell_type": "code",
      "execution_count": 58,
      "metadata": {
        "id": "248FhUrsXfyS"
      },
      "outputs": [],
      "source": [
        "# Regresión Logística\n",
        "\n",
        "from sklearn.linear_model import LogisticRegression\n",
        "from sklearn.metrics import classification_report, f1_score\n",
        "\n",
        "model = LogisticRegression(max_iter=10000)\n",
        "\n",
        "# Entrenamiento\n",
        "model.fit(X_train, y_train)\n",
        "\n",
        "# Predicción\n",
        "y_pred = model.predict(X_test)\n"
      ]
    },
    {
      "cell_type": "code",
      "execution_count": 59,
      "metadata": {},
      "outputs": [
        {
          "name": "stdout",
          "output_type": "stream",
          "text": [
            "              precision    recall  f1-score   support\n",
            "\n",
            "           0       1.00      1.00      1.00     71089\n",
            "           1       0.85      0.60      0.70       113\n",
            "\n",
            "    accuracy                           1.00     71202\n",
            "   macro avg       0.92      0.80      0.85     71202\n",
            "weighted avg       1.00      1.00      1.00     71202\n",
            "\n",
            "F1 Score: 0.7046632124352332\n",
            "Media 0.9991362569134072\n"
          ]
        }
      ],
      "source": [
        "# K-fold y medidas de desempeño\n",
        "\n",
        "# Reporte de Clasificación\n",
        "print(classification_report(y_test, y_pred))\n",
        "\n",
        "# F1 Score\n",
        "print(\"F1 Score:\", f1_score(y_test, y_pred))\n",
        "\n",
        "import numpy as np\n",
        "from sklearn.model_selection import KFold, cross_val_score\n",
        "\n",
        "resultados = cross_val_score(model, X, y, cv=5 )\n",
        "\n",
        "print(f'Media {resultados.mean()}')"
      ]
    },
    {
      "cell_type": "code",
      "execution_count": 63,
      "metadata": {},
      "outputs": [
        {
          "name": "stdout",
          "output_type": "stream",
          "text": [
            "Precisión de validación cruzada: Promedio 1.00 (+/- 0.00)\n"
          ]
        }
      ],
      "source": [
        "# Validación Cruzada \n",
        "validacion_cruzada(model, X, y)"
      ]
    },
    {
      "cell_type": "code",
      "execution_count": 60,
      "metadata": {},
      "outputs": [
        {
          "name": "stdout",
          "output_type": "stream",
          "text": [
            "Precision: 0.85\n",
            "Exactitud: 0.9991994606893064\n",
            "Sensibilidad: 0.6017699115044248\n",
            "Especificidad: 0.9998311975129767\n"
          ]
        },
        {
          "data": {
            "image/png": "[encoded data removed]",
            "text/plain": [
              "<Figure size 600x600 with 1 Axes>"
            ]
          },
          "metadata": {},
          "output_type": "display_data"
        }
      ],
      "source": [
        "# Matriz de Confusión \n",
        "matriz_de_confusion(y_test, y_pred)"
      ]
    },
    {
      "cell_type": "code",
      "execution_count": 61,
      "metadata": {},
      "outputs": [
        {
          "data": {
            "image/png": "[encoded data removed]",
            "text/plain": [
              "<Figure size 640x480 with 1 Axes>"
            ]
          },
          "metadata": {},
          "output_type": "display_data"
        }
      ],
      "source": [
        "# ROC / AUC\n",
        "roc_acu(model, X_test, y_test)"
      ]
    },
    {
      "cell_type": "markdown",
      "metadata": {
        "id": "EHqyfCuS45yl"
      },
      "source": [
        " Referencias:\n",
        " - [Regresión Logística](https://aws.amazon.com/es/what-is/logistic-regression/#:~:text=La%20regresi%C3%B3n%20log%C3%ADstica%20es%20una%20t%C3%A9cnica%20importante%20en%20el%20campo,de%20datos%20sin%20intervenci%C3%B3n%20humana.)"
      ]
    },
    {
      "cell_type": "markdown",
      "metadata": {
        "id": "RHU-hRPI52TL"
      },
      "source": [
        "__Árbol de Decisión__\n",
        "- Modelo de Aprendizaje Supervisado.\n",
        "- Se puede usar para problemas de clasificación y regresión.\n",
        "- Es un clasificador de tres estructuras, donde los nodos interiores representan las características del dataset, y las ramas representan las reglas de decisión donde cada hoja representa un outcome.\n"
      ]
    },
    {
      "cell_type": "code",
      "execution_count": 10,
      "metadata": {
        "id": "Fa_IWiQR-dCY"
      },
      "outputs": [],
      "source": [
        "# Árbol de Decisión\n",
        "\n",
        "from sklearn.tree import DecisionTreeClassifier\n",
        "from sklearn.metrics import classification_report, f1_score\n",
        "\n",
        "#Modelo de arbol de desición\n",
        "modelo_arbol = DecisionTreeClassifier(random_state=42)\n",
        "\n",
        "# Entrenamiento\n",
        "modelo_arbol.fit(X_train, y_train)\n",
        "\n",
        "# Predicciones\n",
        "predicciones = modelo_arbol.predict(X_test)\n"
      ]
    },
    {
      "cell_type": "code",
      "execution_count": 12,
      "metadata": {},
      "outputs": [
        {
          "name": "stdout",
          "output_type": "stream",
          "text": [
            "Precisión del modelo en el conjunto de prueba: 1.00\n",
            "              precision    recall  f1-score   support\n",
            "\n",
            "           0       1.00      1.00      1.00     71089\n",
            "           1       0.69      0.77      0.73       113\n",
            "\n",
            "    accuracy                           1.00     71202\n",
            "   macro avg       0.85      0.88      0.86     71202\n",
            "weighted avg       1.00      1.00      1.00     71202\n",
            "\n",
            "F1 Score: 0.7280334728033474\n",
            "Media 0.7995294834719185\n"
          ]
        }
      ],
      "source": [
        "# K-fold y medidas de desempeño\n",
        "\n",
        "#Precision del modelo\n",
        "precision = np.mean(predicciones == y_test)\n",
        "print(f'Precisión del modelo en el conjunto de prueba: {precision:.2f}')\n",
        "\n",
        "# Reporte de Clasificación\n",
        "print(classification_report(y_test, predicciones))\n",
        "\n",
        "# F1 Score\n",
        "print(\"F1 Score:\", f1_score(y_test, predicciones))\n",
        "\n",
        "import numpy as np\n",
        "from sklearn.model_selection import KFold, cross_val_score\n",
        "\n",
        "resultados = cross_val_score(modelo_arbol, X, y, cv=5 )\n",
        "\n",
        "print(f'Media {resultados.mean()}')"
      ]
    },
    {
      "cell_type": "code",
      "execution_count": 14,
      "metadata": {},
      "outputs": [],
      "source": [
        "# Validación Cruzada \n",
        "validacion_cruzada(modelo_arbol, X, y)"
      ]
    },
    {
      "cell_type": "code",
      "execution_count": 13,
      "metadata": {},
      "outputs": [
        {
          "name": "stdout",
          "output_type": "stream",
          "text": [
            "Precision: 0.6904761904761905\n",
            "Exactitud: 0.9990871042948232\n",
            "Sensibilidad: 0.7699115044247787\n",
            "Especificidad: 0.9994513919171742\n"
          ]
        },
        {
          "data": {
            "image/png": "[encoded data removed]",
            "text/plain": [
              "<Figure size 600x600 with 1 Axes>"
            ]
          },
          "metadata": {},
          "output_type": "display_data"
        }
      ],
      "source": [
        "# Matriz de Confusión \n",
        "matriz_de_confusion(y_test, predicciones)"
      ]
    },
    {
      "cell_type": "code",
      "execution_count": 14,
      "metadata": {},
      "outputs": [
        {
          "data": {
            "image/png": "[encoded data removed]",
            "text/plain": [
              "<Figure size 640x480 with 1 Axes>"
            ]
          },
          "metadata": {},
          "output_type": "display_data"
        }
      ],
      "source": [
        "# ROC / AUC\n",
        "roc_acu(modelo_arbol, X_test, y_test)"
      ]
    },
    {
      "cell_type": "markdown",
      "metadata": {
        "id": "3ERcBSTeTpMk"
      },
      "source": [
        "__Random Forest__\n"
      ]
    },
    {
      "cell_type": "code",
      "execution_count": null,
      "metadata": {
        "id": "UyBE4hGFTuBI"
      },
      "outputs": [],
      "source": [
        "# Random Forest\n",
        "\n",
        "from sklearn.ensemble import RandomForestClassifier\n",
        "from sklearn.metrics import classification_report, f1_score\n",
        "\n",
        "model = RandomForestClassifier()\n",
        "\n",
        "# Entrenamiento\n",
        "model.fit(X_train, y_train)\n",
        "\n",
        "# Predicción\n",
        "y_pred = model.predict(X_test)\n",
        "\n",
        "# Reporte de Clasificación\n",
        "print(classification_report(y_test, y_pred))\n",
        "\n",
        "# F1 Score\n",
        "print(\"F1 Score:\", f1_score(y_test, y_pred))"
      ]
    },
    {
      "cell_type": "code",
      "execution_count": null,
      "metadata": {},
      "outputs": [],
      "source": [
        "# K-fold y medidas de desempeño\n",
        "\n",
        "# Reporte de Clasificación\n",
        "print(classification_report(y_test, y_pred))\n",
        "\n",
        "# F1 Score\n",
        "print(\"F1 Score:\", f1_score(y_test, y_pred))\n",
        "\n",
        "# Validación Cruzada \n",
        "validacion_cruzada(model, X, y)\n",
        "\n",
        "# Matriz de Confusión \n",
        "matriz_de_confusion(y_test, y_pred)\n",
        "\n",
        "# ROC / AUC\n",
        "roc_acu(model, X_test, y_test)"
      ]
    },
    {
      "cell_type": "markdown",
      "metadata": {
        "id": "SpOXmAptSJ4K"
      },
      "source": [
        "# Referencias"
      ]
    },
    {
      "cell_type": "markdown",
      "metadata": {
        "id": "PIfP_m83zqtD"
      },
      "source": [
        "- https://www.elastic.co/es/what-is/machine-learning\n",
        "\n",
        "- https://www.geeksforgeeks.org/getting-started-machine-learning/?ref=lbp\n",
        "\n",
        "- https://www.youtube.com/watch?v=M_Cu7r9gik4&list=TLPQMDExMjIwMjMvG_hqJzTdLg&index=2\n",
        "\n",
        "- https://www.youtube.com/watch?v=NCgjcHLFNDg&t=540s\n",
        "\n",
        "- https://www.youtube.com/watch?v=sq5BYW4COwA\n",
        "\n",
        "- https://www.youtube.com/watch?v=v14ydtOuOr4\n",
        "\n",
        "- https://www.youtube.com/watch?v=v14ydtOuOr4\n",
        "\n",
        "- https://www.youtube.com/watch?v=M_Cu7r9gik4&list=TLPQMDExMjIwMjMvG_hqJzTdLg&index=2\n",
        "\n",
        "- https://www.youtube.com/watch?v=pohp5AZrp3I&list=PLrR_uxt9l8PvDQan0_QMB5oS3OwWoCiYk\n",
        "\n",
        "- https://www.analyticslane.com/2021/03/01/uso-de-las-f-string-de-python-para-mejorar-el-formato-de-textos/\n",
        "\n",
        "- https://www.kaggle.com/code/angelicarico/analysis-credit-card-fraud"
      ]
    }
  ],
  "metadata": {
    "colab": {
      "collapsed_sections": [
        "lUJPdC5hIj48"
      ],
      "provenance": []
    },
    "kernelspec": {
      "display_name": "Python 3",
      "name": "python3"
    },
    "language_info": {
      "codemirror_mode": {
        "name": "ipython",
        "version": 3
      },
      "file_extension": ".py",
      "mimetype": "text/x-python",
      "name": "python",
      "nbconvert_exporter": "python",
      "pygments_lexer": "ipython3",
      "version": "3.8.1"
    }
  },
  "nbformat": 4,
  "nbformat_minor": 0
}
