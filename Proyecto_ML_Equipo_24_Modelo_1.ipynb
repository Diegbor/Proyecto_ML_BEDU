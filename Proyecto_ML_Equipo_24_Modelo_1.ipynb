{
  "cells": [
    {
      "cell_type": "markdown",
      "metadata": {
        "id": "CyU1yzEptaks"
      },
      "source": [
        "![BEDU logo](https://drive.google.com/uc?id=1GERI1OgKL5MPNdf89PWnYiU1PQ20LJld)"
      ]
    },
    {
      "cell_type": "markdown",
      "metadata": {
        "id": "xKha8PT8rmME"
      },
      "source": [
        "\n",
        "<center> Módulo 4   \n"
      ]
    },
    {
      "cell_type": "markdown",
      "metadata": {
        "id": "vRms7BO39yGK"
      },
      "source": [
        "# <center> Proyecto Machine Learning\n",
        "# <center> Detección de Fraudes en Tarjetas de Crédito"
      ]
    },
    {
      "cell_type": "markdown",
      "metadata": {
        "id": "tOkGbW6BeNm6"
      },
      "source": [
        "\n",
        "__Equipo 24__\n",
        "\n",
        "Integrantes:\n",
        "* Diego\n",
        "* Carlos\n",
        "* Jorge\n",
        "* Pedro\n",
        "* Alexis\n",
        "* Taryn"
      ]
    },
    {
      "cell_type": "markdown",
      "metadata": {
        "id": "Bpfl-v4Ur9Mc"
      },
      "source": [
        "## Objetivo\n",
        "\n"
      ]
    },
    {
      "cell_type": "markdown",
      "metadata": {
        "id": "tffK1zOE06bt"
      },
      "source": [
        "### Descripción del Problema\n",
        "\n",
        "It is important that credit card companies are able to recognize fraudulent credit card transactions so that customers are not charged for items that they did not purchase.\n",
        "\n",
        " Compañías de tarjetas de crédito necesitan poder reconocer transacciones fraudulentas con tarjetas de crédito para que a sus clientes no se les cobre por artículos que no compraron."
      ]
    },
    {
      "cell_type": "markdown",
      "metadata": {
        "id": "eJ2wSeD_097p"
      },
      "source": [
        "### Descripción del conjunto de datos\n",
        "\n",
        "The dataset contains transactions made by credit cards in September 2013 by European cardholders.\n",
        "This dataset presents transactions that occurred in two days, where __we have 492 frauds out of 284,807 transactions. The dataset is highly unbalanced, the positive class (frauds) account for 0.172% of all transactions__.\n",
        "\n",
        "It contains only numerical input variables which are the result of a PCA transformation. Unfortunately, due to confidentiality issues, we cannot provide the original features and more background information about the data. Features V1, V2, … V28 are the principal components obtained with PCA, the only features which have not been transformed with PCA are 'Time' and 'Amount'. Feature 'Time' contains the seconds elapsed between each transaction and the first transaction in the dataset. __The feature 'Amount' is the transaction Amount, this feature can be used for example-dependant cost-sensitive learning.__ Feature __'Class' is the response variable and it takes value 1 in case of fraud and 0 otherwise__.\n",
        "\n",
        "Given the __class imbalance ratio__, we recommend measuring the __accuracy using the Area Under the Precision-Recall Curve (AUPRC)__. Confusion matrix accuracy is not meaningful for unbalanced classification.\n",
        "\n",
        "El conjunto de datos contiene transacciones realizadas con tarjetas de crédito en septiembre de 2013 por titulares de tarjetas europeos.\n",
        "Este conjunto de datos presenta transacciones que ocurrieron en dos días, donde tenemos 492 fraudes de 284,807 transacciones. __El conjunto de datos está fuertemente desequilibrado: la clase positiva (fraudes) representa el 0.172% de todas las transacciones__.\n",
        "\n",
        "El dataset contiene variables numéricas que son el resultado de una transformación PCA. Lamentablemente, debido a cuestiones de confidencialidad, no podemos proporcionar las características originales ni más información general sobre los datos. Las características V1, V2,… V28 son los componentes principales obtenidos con PCA. Las únicas características que no se han transformado con PCA son 'Time' y 'Amount'.   \n",
        "La característica 'Tiempo' contiene los segundos transcurridos entre cada transacción y la primera transacción en el conjunto de datos.   \n",
        "La característica 'Monto' es el monto de la transacción, esta característica se puede utilizar para dependant cost-sensitive learning.  \n",
        "La característica 'Clase' es la variable de respuesta y toma el valor 1 en caso de fraude y 0 en caso contrario.\n",
        "\n",
        "Dado el __índice de desequilibrio de clases__, recomendamos medir la __precisión utilizando el área bajo la curva de recuperación de precisión (AUPRC)__. La precisión de la matriz de confusión no es significativa para una clasificación desequilibrada.\n",
        "\n",
        "https://www.kaggle.com/datasets/mlg-ulb/creditcardfraud"
      ]
    },
    {
      "cell_type": "markdown",
      "metadata": {
        "id": "znZIkzRZsBqK"
      },
      "source": [
        "## Problema a Resolver y Métodos\n",
        "\n",
        "__Problem__: Use various predictive models to see how accurate they are in detecting wheter a transaction is a normal payment or a fraud.\n",
        "\n",
        "__Problema__: Utilizar varios modelos predictivos para ver qué tan precisos son para detectar si una transacción es un pago normal o un fraude."
      ]
    },
    {
      "cell_type": "markdown",
      "metadata": {
        "id": "3aUVkoFvDjok"
      },
      "source": [
        "__Models__\n",
        "\n",
        "- __Decision Tree__: It is a type of machine learning algorithm that uses a tree-like model to make predictions based on the relationships between the features in a dataset. It works by dividing the data into smaller and smaller groups based on the values of the features, until it reaches a decision about the target variable for each group.\n",
        "\n",
        "- __Logistic Regression__: It is a type of machine learning algorithm that is used for classsification tasks, and models the probability that a sample belongs to a certain class using a logistic function."
      ]
    },
    {
      "cell_type": "markdown",
      "metadata": {
        "id": "D9mOugWKkfJG"
      },
      "source": [
        "Modelo Supervisado de Clasificación:\n",
        "- Probaremos modelos sobre la variable objetivo Class.\n",
        "- El problema principal del dataset es que está desbalanceado, por lo que se usarán técnicas de balanceo de datos (undersampling, oversampling)."
      ]
    },
    {
      "cell_type": "markdown",
      "metadata": {
        "id": "FDinnczn2UNg"
      },
      "source": [
        "### Importando los módulos"
      ]
    },
    {
      "cell_type": "code",
      "execution_count": null,
      "metadata": {
        "id": "bENEzPGq2TZK"
      },
      "outputs": [],
      "source": [
        "# Para exploración y análisis de datos\n",
        "\n",
        "import pandas as pd  # Para procesamiento de datos, csv, dataframes.\n",
        "import numpy as np  # Para funciones de álgebra lineal y otras funciones matemáticas\n",
        "import seaborn as sns  # Para gráficos\n",
        "import matplotlib.pyplot as plt # Para gráficos\n",
        "import warnings\n",
        "warnings.filterwarnings('ignore')\n",
        "#%matplotlib inline"
      ]
    },
    {
      "cell_type": "markdown",
      "metadata": {
        "id": "7ozLP8ph_e9G"
      },
      "source": [
        "### Leyendo Los datos\n",
        "\n"
      ]
    },
    {
      "cell_type": "markdown",
      "metadata": {
        "id": "kVyk0YxPC2jn"
      },
      "source": [
        "Usando la metodología de las siguientes páginas para no descargar el archivo localmente, sino extraerlo de la API de Kaggle:\n",
        "* [ Platzi](https://platzi.com/tutoriales/1794-pandas/6926-usando-la-api-de-kaggle-con-google-colab-para-carga-y-descarga-de-datasets/?&gad_source=1&gclid=Cj0KCQiApOyqBhDlARIsAGfnyMr0UeMtsnpiqBIjzxbIBeJ6-zhVZLMzf6CMzPXU1igSDv7E23wc-hYaAoDpEALw_wcB&gclsrc=aw.ds\n",
        ")\n",
        "* [Analyticsvidhya](https://www.analyticsvidhya.com/blog/2021/06/how-to-load-kaggle-datasets-directly-into-google-colab/)"
      ]
    },
    {
      "cell_type": "code",
      "execution_count": null,
      "metadata": {
        "id": "pVZqCQAB9iFY"
      },
      "outputs": [],
      "source": [
        "# Instalar la librería de Kaggle\n",
        "! pip install -q kaggle"
      ]
    },
    {
      "cell_type": "code",
      "execution_count": null,
      "metadata": {
        "id": "KrBJdcw7g3zc"
      },
      "outputs": [],
      "source": [
        "# Importar el módulo del sistema de archivos de Google Colab\n",
        "from google.colab import files"
      ]
    },
    {
      "cell_type": "markdown",
      "metadata": {
        "id": "uEaUJG_49WPd"
      },
      "source": [
        "Descargar la API key de la página de Kaggle: Settings-> Account-> API -> Create New API Token -> Guardar el archivo kaggle.json"
      ]
    },
    {
      "cell_type": "code",
      "execution_count": null,
      "metadata": {
        "colab": {
          "background_save": true,
          "base_uri": "https://localhost:8080/",
          "height": 37
        },
        "id": "fn4g5Ib4-9lw",
        "outputId": "8d3656b1-6f0f-4cc2-febd-2768b93eab48"
      },
      "outputs": [
        {
          "data": {
            "text/html": [
              "\n",
              "     <input type=\"file\" id=\"files-783a6ebb-e457-42a8-a5c9-8e77f9455024\" name=\"files[]\" multiple disabled\n",
              "        style=\"border:none\" />\n",
              "     <output id=\"result-783a6ebb-e457-42a8-a5c9-8e77f9455024\">\n",
              "      Upload widget is only available when the cell has been executed in the\n",
              "      current browser session. Please rerun this cell to enable.\n",
              "      </output>\n",
              "      <script>// Copyright 2017 Google LLC\n",
              "//\n",
              "// Licensed under the Apache License, Version 2.0 (the \"License\");\n",
              "// you may not use this file except in compliance with the License.\n",
              "// You may obtain a copy of the License at\n",
              "//\n",
              "//      http://www.apache.org/licenses/LICENSE-2.0\n",
              "//\n",
              "// Unless required by applicable law or agreed to in writing, software\n",
              "// distributed under the License is distributed on an \"AS IS\" BASIS,\n",
              "// WITHOUT WARRANTIES OR CONDITIONS OF ANY KIND, either express or implied.\n",
              "// See the License for the specific language governing permissions and\n",
              "// limitations under the License.\n",
              "\n",
              "/**\n",
              " * @fileoverview Helpers for google.colab Python module.\n",
              " */\n",
              "(function(scope) {\n",
              "function span(text, styleAttributes = {}) {\n",
              "  const element = document.createElement('span');\n",
              "  element.textContent = text;\n",
              "  for (const key of Object.keys(styleAttributes)) {\n",
              "    element.style[key] = styleAttributes[key];\n",
              "  }\n",
              "  return element;\n",
              "}\n",
              "\n",
              "// Max number of bytes which will be uploaded at a time.\n",
              "const MAX_PAYLOAD_SIZE = 100 * 1024;\n",
              "\n",
              "function _uploadFiles(inputId, outputId) {\n",
              "  const steps = uploadFilesStep(inputId, outputId);\n",
              "  const outputElement = document.getElementById(outputId);\n",
              "  // Cache steps on the outputElement to make it available for the next call\n",
              "  // to uploadFilesContinue from Python.\n",
              "  outputElement.steps = steps;\n",
              "\n",
              "  return _uploadFilesContinue(outputId);\n",
              "}\n",
              "\n",
              "// This is roughly an async generator (not supported in the browser yet),\n",
              "// where there are multiple asynchronous steps and the Python side is going\n",
              "// to poll for completion of each step.\n",
              "// This uses a Promise to block the python side on completion of each step,\n",
              "// then passes the result of the previous step as the input to the next step.\n",
              "function _uploadFilesContinue(outputId) {\n",
              "  const outputElement = document.getElementById(outputId);\n",
              "  const steps = outputElement.steps;\n",
              "\n",
              "  const next = steps.next(outputElement.lastPromiseValue);\n",
              "  return Promise.resolve(next.value.promise).then((value) => {\n",
              "    // Cache the last promise value to make it available to the next\n",
              "    // step of the generator.\n",
              "    outputElement.lastPromiseValue = value;\n",
              "    return next.value.response;\n",
              "  });\n",
              "}\n",
              "\n",
              "/**\n",
              " * Generator function which is called between each async step of the upload\n",
              " * process.\n",
              " * @param {string} inputId Element ID of the input file picker element.\n",
              " * @param {string} outputId Element ID of the output display.\n",
              " * @return {!Iterable<!Object>} Iterable of next steps.\n",
              " */\n",
              "function* uploadFilesStep(inputId, outputId) {\n",
              "  const inputElement = document.getElementById(inputId);\n",
              "  inputElement.disabled = false;\n",
              "\n",
              "  const outputElement = document.getElementById(outputId);\n",
              "  outputElement.innerHTML = '';\n",
              "\n",
              "  const pickedPromise = new Promise((resolve) => {\n",
              "    inputElement.addEventListener('change', (e) => {\n",
              "      resolve(e.target.files);\n",
              "    });\n",
              "  });\n",
              "\n",
              "  const cancel = document.createElement('button');\n",
              "  inputElement.parentElement.appendChild(cancel);\n",
              "  cancel.textContent = 'Cancel upload';\n",
              "  const cancelPromise = new Promise((resolve) => {\n",
              "    cancel.onclick = () => {\n",
              "      resolve(null);\n",
              "    };\n",
              "  });\n",
              "\n",
              "  // Wait for the user to pick the files.\n",
              "  const files = yield {\n",
              "    promise: Promise.race([pickedPromise, cancelPromise]),\n",
              "    response: {\n",
              "      action: 'starting',\n",
              "    }\n",
              "  };\n",
              "\n",
              "  cancel.remove();\n",
              "\n",
              "  // Disable the input element since further picks are not allowed.\n",
              "  inputElement.disabled = true;\n",
              "\n",
              "  if (!files) {\n",
              "    return {\n",
              "      response: {\n",
              "        action: 'complete',\n",
              "      }\n",
              "    };\n",
              "  }\n",
              "\n",
              "  for (const file of files) {\n",
              "    const li = document.createElement('li');\n",
              "    li.append(span(file.name, {fontWeight: 'bold'}));\n",
              "    li.append(span(\n",
              "        `(${file.type || 'n/a'}) - ${file.size} bytes, ` +\n",
              "        `last modified: ${\n",
              "            file.lastModifiedDate ? file.lastModifiedDate.toLocaleDateString() :\n",
              "                                    'n/a'} - `));\n",
              "    const percent = span('0% done');\n",
              "    li.appendChild(percent);\n",
              "\n",
              "    outputElement.appendChild(li);\n",
              "\n",
              "    const fileDataPromise = new Promise((resolve) => {\n",
              "      const reader = new FileReader();\n",
              "      reader.onload = (e) => {\n",
              "        resolve(e.target.result);\n",
              "      };\n",
              "      reader.readAsArrayBuffer(file);\n",
              "    });\n",
              "    // Wait for the data to be ready.\n",
              "    let fileData = yield {\n",
              "      promise: fileDataPromise,\n",
              "      response: {\n",
              "        action: 'continue',\n",
              "      }\n",
              "    };\n",
              "\n",
              "    // Use a chunked sending to avoid message size limits. See b/62115660.\n",
              "    let position = 0;\n",
              "    do {\n",
              "      const length = Math.min(fileData.byteLength - position, MAX_PAYLOAD_SIZE);\n",
              "      const chunk = new Uint8Array(fileData, position, length);\n",
              "      position += length;\n",
              "\n",
              "      const base64 = btoa(String.fromCharCode.apply(null, chunk));\n",
              "      yield {\n",
              "        response: {\n",
              "          action: 'append',\n",
              "          file: file.name,\n",
              "          data: base64,\n",
              "        },\n",
              "      };\n",
              "\n",
              "      let percentDone = fileData.byteLength === 0 ?\n",
              "          100 :\n",
              "          Math.round((position / fileData.byteLength) * 100);\n",
              "      percent.textContent = `${percentDone}% done`;\n",
              "\n",
              "    } while (position < fileData.byteLength);\n",
              "  }\n",
              "\n",
              "  // All done.\n",
              "  yield {\n",
              "    response: {\n",
              "      action: 'complete',\n",
              "    }\n",
              "  };\n",
              "}\n",
              "\n",
              "scope.google = scope.google || {};\n",
              "scope.google.colab = scope.google.colab || {};\n",
              "scope.google.colab._files = {\n",
              "  _uploadFiles,\n",
              "  _uploadFilesContinue,\n",
              "};\n",
              "})(self);\n",
              "</script> "
            ],
            "text/plain": [
              "<IPython.core.display.HTML object>"
            ]
          },
          "metadata": {},
          "output_type": "display_data"
        }
      ],
      "source": [
        "# Usar el comando de files.upload() para cargar el archivo en el sistema local.\n",
        "files.upload()"
      ]
    },
    {
      "cell_type": "code",
      "execution_count": null,
      "metadata": {
        "colab": {
          "base_uri": "https://localhost:8080/"
        },
        "id": "uQEECVj9_MDB",
        "outputId": "7c868162-d35a-4890-9067-00d232189a61"
      },
      "outputs": [
        {
          "name": "stdout",
          "output_type": "stream",
          "text": [
            "cp: cannot stat 'kaggle.json': No such file or directory\n",
            "chmod: cannot access '/root/.kaggle/kaggle.json': No such file or directory\n",
            "Traceback (most recent call last):\n",
            "  File \"/usr/local/bin/kaggle\", line 5, in <module>\n",
            "    from kaggle.cli import main\n",
            "  File \"/usr/local/lib/python3.10/dist-packages/kaggle/__init__.py\", line 23, in <module>\n",
            "    api.authenticate()\n",
            "  File \"/usr/local/lib/python3.10/dist-packages/kaggle/api/kaggle_api_extended.py\", line 403, in authenticate\n",
            "    raise IOError('Could not find {}. Make sure it\\'s located in'\n",
            "OSError: Could not find kaggle.json. Make sure it's located in /root/.kaggle. Or use the environment method.\n",
            "Traceback (most recent call last):\n",
            "  File \"/usr/local/bin/kaggle\", line 5, in <module>\n",
            "    from kaggle.cli import main\n",
            "  File \"/usr/local/lib/python3.10/dist-packages/kaggle/__init__.py\", line 23, in <module>\n",
            "    api.authenticate()\n",
            "  File \"/usr/local/lib/python3.10/dist-packages/kaggle/api/kaggle_api_extended.py\", line 403, in authenticate\n",
            "    raise IOError('Could not find {}. Make sure it\\'s located in'\n",
            "OSError: Could not find kaggle.json. Make sure it's located in /root/.kaggle. Or use the environment method.\n",
            "unzip:  cannot find or open creditcardfraud.zip, creditcardfraud.zip.zip or creditcardfraud.zip.ZIP.\n"
          ]
        }
      ],
      "source": [
        "# Crear un directorio llamado kaggle\n",
        "! mkdir ~/.kaggle\n",
        "\n",
        "# Copiar el archivo 'kaggle.json' que se\n",
        "! cp kaggle.json ~/.kaggle/\n",
        "\n",
        "# !cp /content/drive/MyDrive/kaggle.json ~/.kaggle/kaggle.json\n",
        "\n",
        "# Con el código 600 se otorga los permisos de lectura para las credenciales.\n",
        "!chmod 600 ~/.kaggle/kaggle.json\n",
        "\n",
        "# Probar la conexión a la API de Kaggle. Va a salir una lista de los datasets que tenemos disponibles para consulta.\n",
        "! kaggle datasets list\n",
        "\n",
        "# Descargar el dataset de creditcardfraud. https://www.kaggle.com/datasets/mlg-ulb/creditcardfraud\n",
        "! kaggle datasets download -d mlg-ulb/creditcardfraud\n",
        "\n",
        "# Descomprimir el archivo que se descarga.\n",
        "!unzip creditcardfraud.zip\n"
      ]
    },
    {
      "cell_type": "code",
      "execution_count": null,
      "metadata": {
        "colab": {
          "base_uri": "https://localhost:8080/",
          "height": 388
        },
        "id": "iDVMUMnmHm2C",
        "outputId": "efe1c465-1287-4d8c-c983-6a030ac5beaf"
      },
      "outputs": [
        {
          "ename": "FileNotFoundError",
          "evalue": "ignored",
          "output_type": "error",
          "traceback": [
            "\u001b[0;31m---------------------------------------------------------------------------\u001b[0m",
            "\u001b[0;31mFileNotFoundError\u001b[0m                         Traceback (most recent call last)",
            "\u001b[0;32m<ipython-input-7-0e675bfeda29>\u001b[0m in \u001b[0;36m<cell line: 2>\u001b[0;34m()\u001b[0m\n\u001b[1;32m      1\u001b[0m \u001b[0;31m# Leer el archivo csv cen un dataframe con pandas.\u001b[0m\u001b[0;34m\u001b[0m\u001b[0;34m\u001b[0m\u001b[0m\n\u001b[0;32m----> 2\u001b[0;31m \u001b[0mdf\u001b[0m \u001b[0;34m=\u001b[0m \u001b[0mpd\u001b[0m\u001b[0;34m.\u001b[0m\u001b[0mread_csv\u001b[0m\u001b[0;34m(\u001b[0m\u001b[0;34m'/content/creditcard.csv'\u001b[0m\u001b[0;34m)\u001b[0m\u001b[0;34m\u001b[0m\u001b[0;34m\u001b[0m\u001b[0m\n\u001b[0m\u001b[1;32m      3\u001b[0m \u001b[0mdf\u001b[0m\u001b[0;34m\u001b[0m\u001b[0;34m\u001b[0m\u001b[0m\n",
            "\u001b[0;32m/usr/local/lib/python3.10/dist-packages/pandas/util/_decorators.py\u001b[0m in \u001b[0;36mwrapper\u001b[0;34m(*args, **kwargs)\u001b[0m\n\u001b[1;32m    209\u001b[0m                 \u001b[0;32melse\u001b[0m\u001b[0;34m:\u001b[0m\u001b[0;34m\u001b[0m\u001b[0;34m\u001b[0m\u001b[0m\n\u001b[1;32m    210\u001b[0m                     \u001b[0mkwargs\u001b[0m\u001b[0;34m[\u001b[0m\u001b[0mnew_arg_name\u001b[0m\u001b[0;34m]\u001b[0m \u001b[0;34m=\u001b[0m \u001b[0mnew_arg_value\u001b[0m\u001b[0;34m\u001b[0m\u001b[0;34m\u001b[0m\u001b[0m\n\u001b[0;32m--> 211\u001b[0;31m             \u001b[0;32mreturn\u001b[0m \u001b[0mfunc\u001b[0m\u001b[0;34m(\u001b[0m\u001b[0;34m*\u001b[0m\u001b[0margs\u001b[0m\u001b[0;34m,\u001b[0m \u001b[0;34m**\u001b[0m\u001b[0mkwargs\u001b[0m\u001b[0;34m)\u001b[0m\u001b[0;34m\u001b[0m\u001b[0;34m\u001b[0m\u001b[0m\n\u001b[0m\u001b[1;32m    212\u001b[0m \u001b[0;34m\u001b[0m\u001b[0m\n\u001b[1;32m    213\u001b[0m         \u001b[0;32mreturn\u001b[0m \u001b[0mcast\u001b[0m\u001b[0;34m(\u001b[0m\u001b[0mF\u001b[0m\u001b[0;34m,\u001b[0m \u001b[0mwrapper\u001b[0m\u001b[0;34m)\u001b[0m\u001b[0;34m\u001b[0m\u001b[0;34m\u001b[0m\u001b[0m\n",
            "\u001b[0;32m/usr/local/lib/python3.10/dist-packages/pandas/util/_decorators.py\u001b[0m in \u001b[0;36mwrapper\u001b[0;34m(*args, **kwargs)\u001b[0m\n\u001b[1;32m    329\u001b[0m                     \u001b[0mstacklevel\u001b[0m\u001b[0;34m=\u001b[0m\u001b[0mfind_stack_level\u001b[0m\u001b[0;34m(\u001b[0m\u001b[0;34m)\u001b[0m\u001b[0;34m,\u001b[0m\u001b[0;34m\u001b[0m\u001b[0;34m\u001b[0m\u001b[0m\n\u001b[1;32m    330\u001b[0m                 )\n\u001b[0;32m--> 331\u001b[0;31m             \u001b[0;32mreturn\u001b[0m \u001b[0mfunc\u001b[0m\u001b[0;34m(\u001b[0m\u001b[0;34m*\u001b[0m\u001b[0margs\u001b[0m\u001b[0;34m,\u001b[0m \u001b[0;34m**\u001b[0m\u001b[0mkwargs\u001b[0m\u001b[0;34m)\u001b[0m\u001b[0;34m\u001b[0m\u001b[0;34m\u001b[0m\u001b[0m\n\u001b[0m\u001b[1;32m    332\u001b[0m \u001b[0;34m\u001b[0m\u001b[0m\n\u001b[1;32m    333\u001b[0m         \u001b[0;31m# error: \"Callable[[VarArg(Any), KwArg(Any)], Any]\" has no\u001b[0m\u001b[0;34m\u001b[0m\u001b[0;34m\u001b[0m\u001b[0m\n",
            "\u001b[0;32m/usr/local/lib/python3.10/dist-packages/pandas/io/parsers/readers.py\u001b[0m in \u001b[0;36mread_csv\u001b[0;34m(filepath_or_buffer, sep, delimiter, header, names, index_col, usecols, squeeze, prefix, mangle_dupe_cols, dtype, engine, converters, true_values, false_values, skipinitialspace, skiprows, skipfooter, nrows, na_values, keep_default_na, na_filter, verbose, skip_blank_lines, parse_dates, infer_datetime_format, keep_date_col, date_parser, dayfirst, cache_dates, iterator, chunksize, compression, thousands, decimal, lineterminator, quotechar, quoting, doublequote, escapechar, comment, encoding, encoding_errors, dialect, error_bad_lines, warn_bad_lines, on_bad_lines, delim_whitespace, low_memory, memory_map, float_precision, storage_options)\u001b[0m\n\u001b[1;32m    948\u001b[0m     \u001b[0mkwds\u001b[0m\u001b[0;34m.\u001b[0m\u001b[0mupdate\u001b[0m\u001b[0;34m(\u001b[0m\u001b[0mkwds_defaults\u001b[0m\u001b[0;34m)\u001b[0m\u001b[0;34m\u001b[0m\u001b[0;34m\u001b[0m\u001b[0m\n\u001b[1;32m    949\u001b[0m \u001b[0;34m\u001b[0m\u001b[0m\n\u001b[0;32m--> 950\u001b[0;31m     \u001b[0;32mreturn\u001b[0m \u001b[0m_read\u001b[0m\u001b[0;34m(\u001b[0m\u001b[0mfilepath_or_buffer\u001b[0m\u001b[0;34m,\u001b[0m \u001b[0mkwds\u001b[0m\u001b[0;34m)\u001b[0m\u001b[0;34m\u001b[0m\u001b[0;34m\u001b[0m\u001b[0m\n\u001b[0m\u001b[1;32m    951\u001b[0m \u001b[0;34m\u001b[0m\u001b[0m\n\u001b[1;32m    952\u001b[0m \u001b[0;34m\u001b[0m\u001b[0m\n",
            "\u001b[0;32m/usr/local/lib/python3.10/dist-packages/pandas/io/parsers/readers.py\u001b[0m in \u001b[0;36m_read\u001b[0;34m(filepath_or_buffer, kwds)\u001b[0m\n\u001b[1;32m    603\u001b[0m \u001b[0;34m\u001b[0m\u001b[0m\n\u001b[1;32m    604\u001b[0m     \u001b[0;31m# Create the parser.\u001b[0m\u001b[0;34m\u001b[0m\u001b[0;34m\u001b[0m\u001b[0m\n\u001b[0;32m--> 605\u001b[0;31m     \u001b[0mparser\u001b[0m \u001b[0;34m=\u001b[0m \u001b[0mTextFileReader\u001b[0m\u001b[0;34m(\u001b[0m\u001b[0mfilepath_or_buffer\u001b[0m\u001b[0;34m,\u001b[0m \u001b[0;34m**\u001b[0m\u001b[0mkwds\u001b[0m\u001b[0;34m)\u001b[0m\u001b[0;34m\u001b[0m\u001b[0;34m\u001b[0m\u001b[0m\n\u001b[0m\u001b[1;32m    606\u001b[0m \u001b[0;34m\u001b[0m\u001b[0m\n\u001b[1;32m    607\u001b[0m     \u001b[0;32mif\u001b[0m \u001b[0mchunksize\u001b[0m \u001b[0;32mor\u001b[0m \u001b[0miterator\u001b[0m\u001b[0;34m:\u001b[0m\u001b[0;34m\u001b[0m\u001b[0;34m\u001b[0m\u001b[0m\n",
            "\u001b[0;32m/usr/local/lib/python3.10/dist-packages/pandas/io/parsers/readers.py\u001b[0m in \u001b[0;36m__init__\u001b[0;34m(self, f, engine, **kwds)\u001b[0m\n\u001b[1;32m   1440\u001b[0m \u001b[0;34m\u001b[0m\u001b[0m\n\u001b[1;32m   1441\u001b[0m         \u001b[0mself\u001b[0m\u001b[0;34m.\u001b[0m\u001b[0mhandles\u001b[0m\u001b[0;34m:\u001b[0m \u001b[0mIOHandles\u001b[0m \u001b[0;34m|\u001b[0m \u001b[0;32mNone\u001b[0m \u001b[0;34m=\u001b[0m \u001b[0;32mNone\u001b[0m\u001b[0;34m\u001b[0m\u001b[0;34m\u001b[0m\u001b[0m\n\u001b[0;32m-> 1442\u001b[0;31m         \u001b[0mself\u001b[0m\u001b[0;34m.\u001b[0m\u001b[0m_engine\u001b[0m \u001b[0;34m=\u001b[0m \u001b[0mself\u001b[0m\u001b[0;34m.\u001b[0m\u001b[0m_make_engine\u001b[0m\u001b[0;34m(\u001b[0m\u001b[0mf\u001b[0m\u001b[0;34m,\u001b[0m \u001b[0mself\u001b[0m\u001b[0;34m.\u001b[0m\u001b[0mengine\u001b[0m\u001b[0;34m)\u001b[0m\u001b[0;34m\u001b[0m\u001b[0;34m\u001b[0m\u001b[0m\n\u001b[0m\u001b[1;32m   1443\u001b[0m \u001b[0;34m\u001b[0m\u001b[0m\n\u001b[1;32m   1444\u001b[0m     \u001b[0;32mdef\u001b[0m \u001b[0mclose\u001b[0m\u001b[0;34m(\u001b[0m\u001b[0mself\u001b[0m\u001b[0;34m)\u001b[0m \u001b[0;34m->\u001b[0m \u001b[0;32mNone\u001b[0m\u001b[0;34m:\u001b[0m\u001b[0;34m\u001b[0m\u001b[0;34m\u001b[0m\u001b[0m\n",
            "\u001b[0;32m/usr/local/lib/python3.10/dist-packages/pandas/io/parsers/readers.py\u001b[0m in \u001b[0;36m_make_engine\u001b[0;34m(self, f, engine)\u001b[0m\n\u001b[1;32m   1733\u001b[0m                 \u001b[0;32mif\u001b[0m \u001b[0;34m\"b\"\u001b[0m \u001b[0;32mnot\u001b[0m \u001b[0;32min\u001b[0m \u001b[0mmode\u001b[0m\u001b[0;34m:\u001b[0m\u001b[0;34m\u001b[0m\u001b[0;34m\u001b[0m\u001b[0m\n\u001b[1;32m   1734\u001b[0m                     \u001b[0mmode\u001b[0m \u001b[0;34m+=\u001b[0m \u001b[0;34m\"b\"\u001b[0m\u001b[0;34m\u001b[0m\u001b[0;34m\u001b[0m\u001b[0m\n\u001b[0;32m-> 1735\u001b[0;31m             self.handles = get_handle(\n\u001b[0m\u001b[1;32m   1736\u001b[0m                 \u001b[0mf\u001b[0m\u001b[0;34m,\u001b[0m\u001b[0;34m\u001b[0m\u001b[0;34m\u001b[0m\u001b[0m\n\u001b[1;32m   1737\u001b[0m                 \u001b[0mmode\u001b[0m\u001b[0;34m,\u001b[0m\u001b[0;34m\u001b[0m\u001b[0;34m\u001b[0m\u001b[0m\n",
            "\u001b[0;32m/usr/local/lib/python3.10/dist-packages/pandas/io/common.py\u001b[0m in \u001b[0;36mget_handle\u001b[0;34m(path_or_buf, mode, encoding, compression, memory_map, is_text, errors, storage_options)\u001b[0m\n\u001b[1;32m    854\u001b[0m         \u001b[0;32mif\u001b[0m \u001b[0mioargs\u001b[0m\u001b[0;34m.\u001b[0m\u001b[0mencoding\u001b[0m \u001b[0;32mand\u001b[0m \u001b[0;34m\"b\"\u001b[0m \u001b[0;32mnot\u001b[0m \u001b[0;32min\u001b[0m \u001b[0mioargs\u001b[0m\u001b[0;34m.\u001b[0m\u001b[0mmode\u001b[0m\u001b[0;34m:\u001b[0m\u001b[0;34m\u001b[0m\u001b[0;34m\u001b[0m\u001b[0m\n\u001b[1;32m    855\u001b[0m             \u001b[0;31m# Encoding\u001b[0m\u001b[0;34m\u001b[0m\u001b[0;34m\u001b[0m\u001b[0m\n\u001b[0;32m--> 856\u001b[0;31m             handle = open(\n\u001b[0m\u001b[1;32m    857\u001b[0m                 \u001b[0mhandle\u001b[0m\u001b[0;34m,\u001b[0m\u001b[0;34m\u001b[0m\u001b[0;34m\u001b[0m\u001b[0m\n\u001b[1;32m    858\u001b[0m                 \u001b[0mioargs\u001b[0m\u001b[0;34m.\u001b[0m\u001b[0mmode\u001b[0m\u001b[0;34m,\u001b[0m\u001b[0;34m\u001b[0m\u001b[0;34m\u001b[0m\u001b[0m\n",
            "\u001b[0;31mFileNotFoundError\u001b[0m: [Errno 2] No such file or directory: '/content/creditcard.csv'"
          ]
        }
      ],
      "source": [
        "# Leer el archivo csv cen un dataframe con pandas.\n",
        "df = pd.read_csv('/content/creditcard.csv')\n",
        "df"
      ]
    },
    {
      "cell_type": "markdown",
      "metadata": {
        "id": "qj71ka7DsX91"
      },
      "source": [
        "## 1. Pandas y Análisis Exploratorio de Datos\n",
        "- Crear Series y DataFrames y aprovecharlas a la perfección\n",
        "- Usa conceptos estadísticos para realizar un análisis exploratorio datasets para entender sus datos antes de realizar cualquier manipulación\n",
        "\n"
      ]
    },
    {
      "cell_type": "markdown",
      "metadata": {
        "id": "TcOq_JrSMN3r"
      },
      "source": [
        "##### **Análisis descriptivo**"
      ]
    },
    {
      "cell_type": "code",
      "execution_count": null,
      "metadata": {
        "id": "T5ECTnks3EkK"
      },
      "outputs": [],
      "source": [
        "# Revisando los datos.\n",
        "df.head()"
      ]
    },
    {
      "cell_type": "markdown",
      "metadata": {
        "id": "JYSLdLcz35nw"
      },
      "source": [
        "- __Time__: segundos entre transacciones. Dos días del mes de Septiembre de 2013.\n",
        "- __Amount__: Monto de la transacción en Euros.\n",
        "- __Class__: 0 No- Fraudulenta, 1 Fraudulenta.\n",
        "- __V1 to V28__: Son el resultado de una transformación PCA debido a privacidad de la información.\n",
        "\n"
      ]
    },
    {
      "cell_type": "code",
      "execution_count": null,
      "metadata": {
        "id": "p6DvreR637eE"
      },
      "outputs": [],
      "source": [
        "# Información Estadística: Count, mean, std, min, 25%, 50%, 75%, max.\n",
        "df.describe()"
      ]
    },
    {
      "cell_type": "code",
      "execution_count": null,
      "metadata": {
        "id": "wt-k9Pj43_5Z"
      },
      "outputs": [],
      "source": [
        "# Información del dataframe: rango de datos, número de columnas, nombre de las columnas, valores nulos, tipos de datos\n",
        "df.info()"
      ]
    },
    {
      "cell_type": "markdown",
      "metadata": {
        "id": "I0RHCUR60jU5"
      },
      "source": [
        "- Las columnas __V1 a V28__ ya han sido escaladas, las únicas columnas que no han sido escaladas son __'Time', 'Amount', 'Class'__.   \n",
        "- El número de transacciones es relativamente pequeño.   \n",
        "- Podemos observar que en la columna de __Amount__, o el monto de las transacciones, la media es de __88 euros__, pero tenemos valores que llegan a más __25,000 euros__.\n",
        "- En la columna __Tiempo__, también existe una gran varianza de los datos.\n"
      ]
    },
    {
      "cell_type": "markdown",
      "metadata": {
        "id": "zZaYTkY_-t7B"
      },
      "source": [
        "#### L**impiando el Dataset**\n",
        "\n"
      ]
    },
    {
      "cell_type": "code",
      "execution_count": null,
      "metadata": {
        "id": "RkCCp_V0-ske"
      },
      "outputs": [],
      "source": [
        "# Analizar si existen valores nulos en el df y determinar si es necesario un reemplazo.\n",
        "df.isnull().sum()"
      ]
    },
    {
      "cell_type": "markdown",
      "metadata": {
        "id": "NHVj52KL8Pfu"
      },
      "source": [
        "**No existen valores nulos, por lo que no es necesario reemplazar valores.**"
      ]
    },
    {
      "cell_type": "code",
      "source": [
        "# Duplicados - Jorge\n",
        "\n",
        "# Duplicados fraudulentos"
      ],
      "metadata": {
        "id": "JGN_kbmQFGFu"
      },
      "execution_count": null,
      "outputs": []
    },
    {
      "cell_type": "markdown",
      "metadata": {
        "id": "ruiKmnq1Czx9"
      },
      "source": [
        "#### **Análisis Exploratorio**"
      ]
    },
    {
      "cell_type": "markdown",
      "metadata": {
        "id": "cmrsmbOkpiDv"
      },
      "source": [
        "##### **Analizando la columna 'Class'**"
      ]
    },
    {
      "cell_type": "code",
      "execution_count": null,
      "metadata": {
        "id": "6BLDFJp1XtfM"
      },
      "outputs": [],
      "source": [
        "# Determinar el número de transacciones Fraudulentas o No Fraudulentas\n",
        "\n",
        "transacciones_con_fraude = (df['Class'] == 1).sum()\n",
        "transacciones_sin_fraude = (df['Class'] == 0).sum()\n",
        "\n",
        "print(f'Transacciones con Fraude: {transacciones_con_fraude} \\nTransacciones sin fraude: {transacciones_sin_fraude}')"
      ]
    },
    {
      "cell_type": "code",
      "execution_count": null,
      "metadata": {
        "id": "g-5td118C6Kr"
      },
      "outputs": [],
      "source": [
        "# Gráfico de Barras para el conteo de transacciones\n",
        "\n",
        "sns.countplot(df, x = \"Class\")\n",
        "plt.title('Class: \\n (0: No Fraud || 1: Fraud)');"
      ]
    },
    {
      "cell_type": "code",
      "execution_count": null,
      "metadata": {
        "id": "1QD2uVZl2VRi"
      },
      "outputs": [],
      "source": [
        "# Determinar el porcentaje de transacciones fraudulentas vs porcentaje de transacciones no fraudulentas.\n",
        "\n",
        "porcentaje_con_fraude = (df['Class'] == 1).sum() / len(df['Class'])\n",
        "porcentaje_sin_fraude = (df['Class'] == 0).sum() / len(df['Class'])\n",
        "\n",
        "print(f'Porcentaje de Transacciones con Fraude: {porcentaje_con_fraude:.2%} \\nPorcentaje de Transacciones sin fraude: {porcentaje_sin_fraude:.2%}')"
      ]
    },
    {
      "cell_type": "code",
      "execution_count": null,
      "metadata": {
        "id": "yxMpIeX3CffU"
      },
      "outputs": [],
      "source": [
        "\n",
        "# df_fraude = df['Class'].value_counts()\n",
        "df_fraude = df[[\"Class\", \"Time\"]].groupby(\"Class\")[[\"Time\"]].count().reset_index()\n",
        "\n",
        "df_fraude"
      ]
    },
    {
      "cell_type": "code",
      "execution_count": null,
      "metadata": {
        "id": "Zh_0ItV-6BJP"
      },
      "outputs": [],
      "source": [
        "# Gráfico de pie de porcentajes\n",
        "porcentajes = df_fraude[\"Time\"] / df_fraude[\"Time\"].sum() * 100\n",
        "\n",
        "nombres = ['No Fraudulentas', 'Fraudulentas']\n",
        "\n",
        "desfase =(0,0.2)\n",
        "plt.pie(porcentajes, labels=nombres, autopct='%1.1f%%', startangle=45, explode=desfase)\n",
        "plt.axis('equal') # Se usa para que se vea como un círculo\n",
        "plt.title('Porcentaje de transacciones fraudulentas y no fraudulentas');"
      ]
    },
    {
      "cell_type": "markdown",
      "metadata": {
        "id": "nPtVhtw8eN43"
      },
      "source": [
        "Los datos están altamente **desbalanceados**, el porcentaje de transacciones clasificados sin fraude es de 99.83%, mientras el porcentaje de transacciones clasificadas sin fraude es de 0.17% y,  por lo tanto, debemos hacer alguna transformación o nuestro modelo de aprendizaje solo predecirá casos no fraudulentos. Nuestro objetivo es que el modelo detecte patrones que nos den señales de fraude."
      ]
    },
    {
      "cell_type": "markdown",
      "metadata": {
        "id": "4Xj-FtUS3VRA"
      },
      "source": [
        "https://www.analyticslane.com/2021/03/01/uso-de-las-f-string-de-python-para-mejorar-el-formato-de-textos/\n",
        "\n",
        "https://www.kaggle.com/code/angelicarico/analysis-credit-card-fraud"
      ]
    },
    {
      "cell_type": "markdown",
      "metadata": {
        "id": "NtQeSVNIpqTM"
      },
      "source": [
        "##### **Analizando las columnas V1 - V28**\n",
        "\n"
      ]
    },
    {
      "cell_type": "markdown",
      "metadata": {
        "id": "pI8amf57Ffey"
      },
      "source": [
        "Las columnas V1-28 ya han sido transformadas por PCA, por lo que ya han sido escaladas."
      ]
    },
    {
      "cell_type": "code",
      "execution_count": null,
      "metadata": {
        "id": "tZFBp5a5NzWG"
      },
      "outputs": [],
      "source": [
        "df_temp = df.copy()\n",
        "cols = list(df_temp.columns.values)\n",
        "\n",
        "no_frauds = df_temp.Class == 0\n",
        "with_frauds = df_temp.Class == 1\n",
        "\n"
      ]
    },
    {
      "cell_type": "code",
      "execution_count": null,
      "metadata": {
        "id": "0cWtNeAQepXz"
      },
      "outputs": [],
      "source": [
        "'''\n",
        "# Armar un nuevo dataframe con solo las columnas V1 - V28\n",
        "df_temp = df.drop(columns= ['Time', 'Amount', 'Class'], axis = 1)  # Remover columnas 'Time', 'Amount', 'Class (axis = 1 indica que removimos la columna)\n",
        "\n",
        "\n",
        "# Crear las gráficas para ver las distribuciones.\n",
        "\n",
        "fig, ax = plt.subplots(ncols = 4, nrows = 7, figsize = (20,50)) # Crea subgráficos\n",
        "index = 0\n",
        "ax = ax.flatten()  # 1 Dimension\n",
        "\n",
        "for col in df_temp.columns:\n",
        "  sns.distplot(df_temp[col], ax = ax[index])\n",
        "  index += 1\n",
        "\n",
        "plt.tight_layout(pad=0.5, w_pad= 0.5, h_pad= 5)\n",
        "\n",
        "'''\n",
        "\n",
        "\n",
        "plt.figure(figsize=(20,60))\n",
        "\n",
        "for n, col in enumerate(cols):\n",
        "  plt.subplot(11,3,n+1)\n",
        "  sns.distplot(df_temp[col][no_frauds], color='green')\n",
        "  sns.distplot(df_temp[col][with_frauds], color='red')\n",
        "  plt.title(col, fontsize=17)\n",
        "\n",
        "plt.show()\n"
      ]
    },
    {
      "cell_type": "code",
      "execution_count": null,
      "metadata": {
        "id": "Vv8j2yueyvas"
      },
      "outputs": [],
      "source": [
        "# Crea los histogramas de todas las columnas\n",
        "df.hist(bins = 30, figsize=(30,30));"
      ]
    },
    {
      "cell_type": "markdown",
      "metadata": {
        "id": "_oNCqhmuzXVJ"
      },
      "source": [
        "Comentarios: Se puede observar que las distribuciones de V1-V28 tienen una distribución más parecida a una normal."
      ]
    },
    {
      "cell_type": "markdown",
      "metadata": {
        "id": "GurdTu1VJg9N"
      },
      "source": [
        "Referencias:   \n",
        "- https://www.youtube.com/watch?v=v14ydtOuOr4\n",
        "- https://www.youtube.com/watch?v=M_Cu7r9gik4&list=TLPQMDExMjIwMjMvG_hqJzTdLg&index=2"
      ]
    },
    {
      "cell_type": "markdown",
      "metadata": {
        "id": "e3u64MpcGdt0"
      },
      "source": [
        "##### **Analizando la columna Time y Amount**"
      ]
    },
    {
      "cell_type": "code",
      "execution_count": null,
      "metadata": {
        "id": "UlD2VmeeIHTt"
      },
      "outputs": [],
      "source": [
        "sns.distplot(df['Time']).set(title=\"Distribución de Tiempo de Transacción\");"
      ]
    },
    {
      "cell_type": "code",
      "execution_count": null,
      "metadata": {
        "id": "7fJQ4FsPH8g9"
      },
      "outputs": [],
      "source": [
        "sns.distplot(df['Amount']).set(title=\"Distribución de Monto de la Transacción\");"
      ]
    },
    {
      "cell_type": "markdown",
      "metadata": {
        "id": "50KA8YGtISkq"
      },
      "source": [
        "Se puede observar que los datos están sesgados y tienen muchos outliers, por eso es necesario escalar la información, lo cual podría hacerse con un escalamiento robusto (robust scaling) o un escalamiento min-max.\n",
        "\n",
        "\n",
        "> *El escalamiento robusto es menos sensible a los valores atípicos en los datos. Escala las características de entrada en función de su mediana y rango intercuartílico (IQR). El IQR es el rango entre el primer cuartil (percentil 25) y el tercer cuartil (percentil 75) de los datos. El escalamiento robusto es particularmente útil para datos con valores atípicos significativos o distribuciones no gaussianas.*\n",
        "\n",
        "\n",
        "\n",
        "> *El escalamiento min-max, también conocido como normalización, escala las características de entrada a un rango específico, generalmente entre 0 y 1. Esto se logra restando el valor mínimo de la característica a cada punto de datos y dividiendo el resultado por el rango de la característica. Es especialmente útil para datos con distribuciones sesgadas o cuando los algoritmos requieren que las características de entrada estén dentro de un rango específico.*\n",
        "\n"
      ]
    },
    {
      "cell_type": "markdown",
      "metadata": {
        "id": "Eh1ywoEe0BG4"
      },
      "source": [
        "Referencias:\n",
        "- Escalamiento: https://ts2.space/es/escalamiento-de-caracteristicas-en-aprendizaje-automatico/#gsc.tab=0"
      ]
    },
    {
      "cell_type": "markdown",
      "metadata": {
        "id": "lUJPdC5hIj48"
      },
      "source": [
        "#####__Matriz de Correlaciones__"
      ]
    },
    {
      "cell_type": "code",
      "execution_count": null,
      "metadata": {
        "id": "LtS0L5SN6d8X"
      },
      "outputs": [],
      "source": [
        "# Matriz de correlaciones\n",
        "corr = df.corr()\n",
        "\n",
        "corr"
      ]
    },
    {
      "cell_type": "code",
      "execution_count": null,
      "metadata": {
        "id": "Ieb6vXc5lImv"
      },
      "outputs": [],
      "source": [
        "# Mapa de calor\n",
        "sns.heatmap(corr, cmap=\"Blues\");\n"
      ]
    },
    {
      "cell_type": "markdown",
      "metadata": {
        "id": "mtDT3obQzK4h"
      },
      "source": [
        "#####**Conclusiones**  \n",
        "1. Los datos están altamente desbalanceados (oversampling, undersampling), lo cual nos generará problemas con nuestros modelos de machine learning.  \n",
        "2. La columna Amount tiene valores atípicos (outliers) muy grandes, lo que puede crear un problema en el modelo. Debido a eso es necesario escalar los datos.\n",
        "3. No se puede observar una correlación entre las variables"
      ]
    },
    {
      "cell_type": "markdown",
      "metadata": {
        "id": "vBR-kRjQ2w1l"
      },
      "source": [
        "### Escalamiento de las columnas Time y Amount . Alexis"
      ]
    },
    {
      "cell_type": "markdown",
      "metadata": {
        "id": "NJg4WI-J786T"
      },
      "source": [
        "**Escalamiento de la columna Amount**"
      ]
    },
    {
      "cell_type": "markdown",
      "metadata": {
        "id": "m9AtmLGs3HwE"
      },
      "source": [
        "Se hará un escalamiento robusto de la columna Amount con la librería [RobustScaler](https://scikit-learn.org/stable/modules/generated/sklearn.preprocessing.RobustScaler.html).\n",
        "\n",
        "\n",
        "\n",
        "[Fórmula:](https://hersanyagci.medium.com/feature-scaling-with-scikit-learn-for-data-science-8c4cbcf2daff#:~:text=RobustScaler%20is%20a%20median%2Dbased,is%20not%20affected%20by%20outliers.&text=Since%20it%20uses%20the%20interquartile,effects%20of%20outliers%20while%20scaling.)\n",
        "\n"
      ]
    },
    {
      "cell_type": "markdown",
      "metadata": {
        "id": "BrbSyvK-5AFA"
      },
      "source": [
        "![image.png](data:image/png;base64,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)"
      ]
    },
    {
      "cell_type": "code",
      "execution_count": null,
      "metadata": {
        "id": "Qm357diz2_6Y"
      },
      "outputs": [],
      "source": [
        "# Importar la librería Preprocessing de sklearn\n",
        "from sklearn.preprocessing import RobustScaler"
      ]
    },
    {
      "cell_type": "code",
      "execution_count": null,
      "metadata": {
        "id": "ubzAyjyb38Ts"
      },
      "outputs": [],
      "source": [
        "# Creamos una copia del df original, lo llamamos nueva_df\n",
        "nueva_df = df.copy()\n",
        "\n",
        "# Aplicamos el escalamiento robusto a la columna Amount.\n",
        "# fit_transform ajusta los datos después los transforma, se le pasa la columna Amount convertida a un numpy de dos dimensiones.\n",
        "# Reshape (-1,1) significa: -1 cualquier cantidad de filas, 1 una columna\n",
        "\n",
        "nueva_df['Amount'] = RobustScaler().fit_transform(nueva_df['Amount'].to_numpy().reshape(-1,1))\n",
        "\n",
        "nueva_df['Amount'].hist();"
      ]
    },
    {
      "cell_type": "code",
      "execution_count": null,
      "metadata": {
        "id": "PucNLyvr7qd4"
      },
      "outputs": [],
      "source": [
        "nueva_df['Amount'].describe()"
      ]
    },
    {
      "cell_type": "markdown",
      "metadata": {
        "id": "LA5IjU7U8B_N"
      },
      "source": [
        "Se puede observar que el rango de los datos es mucho menor al que teníamos antes.\n",
        "\n",
        "\n",
        "\n"
      ]
    },
    {
      "cell_type": "markdown",
      "metadata": {
        "id": "2kSmlod_8Gmf"
      },
      "source": [
        "**Escalamiento de la columna Time**"
      ]
    },
    {
      "cell_type": "markdown",
      "metadata": {
        "id": "G3_QfbSl_nKZ"
      },
      "source": [
        "Para la columna Time se usará el escalamiento de tipo Min-Max\n"
      ]
    },
    {
      "cell_type": "markdown",
      "metadata": {
        "id": "Jz7vhME4_u3K"
      },
      "source": [
        "![image.png](data:image/png;base64,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)"
      ]
    },
    {
      "cell_type": "code",
      "execution_count": null,
      "metadata": {
        "id": "cjn4t-RV8Kqm"
      },
      "outputs": [],
      "source": [
        "time_df = nueva_df['Time']\n",
        "nueva_df['Time'] = (time_df - time_df.min()) / (time_df.max() - time_df.min())\n",
        "nueva_df"
      ]
    },
    {
      "cell_type": "code",
      "execution_count": null,
      "metadata": {
        "id": "xW2RyQcSYAbQ"
      },
      "outputs": [],
      "source": [
        "nueva_df['Time'].hist();"
      ]
    },
    {
      "cell_type": "markdown",
      "metadata": {
        "id": "SB4sbALUC-QT"
      },
      "source": [
        "En el caso de la columna Time acotamos el rango a valores entre cero y uno."
      ]
    },
    {
      "cell_type": "markdown",
      "metadata": {
        "id": "WyrJ6cnpXbTg"
      },
      "source": [
        "### Escogiendo Variables  - Carlos\n",
        "\n",
        "**Significancia de las variables**"
      ]
    },
    {
      "cell_type": "markdown",
      "metadata": {
        "id": "UiXHFalksI_1"
      },
      "source": [
        "## 2. ¿Por qué el problema amerita ser solucionado por Machine Leaning?"
      ]
    },
    {
      "cell_type": "markdown",
      "metadata": {
        "id": "Mc6xD6oKqATp"
      },
      "source": [
        "Nuestro problema amerita ser resuelto con una técnica de machine learning debido a que nuestro objetivo es entrenar el algoritmo para reconocer patrones de casos fraudulentos a partir de la información que obtenemos de una transacción. Es decir, queremos identificar anomalías en los datos que podrían indicar un problema en una transacción.  [[1]](https://www.elastic.co/es/what-is/machine-learning#:~:text=La%20detecci%C3%B3n%20de%20anomal%C3%ADas%20es,Conoce%20m%C3%A1s%20sobre%20AIOps.)\n",
        "\n",
        "\n",
        "En particular, creemos que podemos usar un modelo suvervisado de clasificación y también de regresión, debido a las características de nuestro dataset. La variable objetivo 'Class' funciona como una etiqueta donde el valor 1 indica que una transacción es fraudulenta y un 0 indica que no es fraudulenta."
      ]
    },
    {
      "cell_type": "markdown",
      "metadata": {
        "id": "5tWvktaTC1tC"
      },
      "source": [
        "# Modelo de Clasificación"
      ]
    },
    {
      "cell_type": "code",
      "execution_count": null,
      "metadata": {
        "id": "xGJzopEZGbdY"
      },
      "outputs": [],
      "source": [
        "# Importando Módulos\n",
        "from sklearn.model_selection import train_test_split"
      ]
    },
    {
      "cell_type": "markdown",
      "metadata": {
        "id": "TGyekzRCsoBi"
      },
      "source": [
        "## División de Datasets\n",
        "Los datasets se encuentran divididos en entrenamiento y prueba, o entrenamiento, validación y prueba, de manera aleatoria, con proporciones adecuadas.  [[2]](https://builtin.com/data-science/train-test-split)"
      ]
    },
    {
      "cell_type": "code",
      "execution_count": null,
      "metadata": {
        "id": "4ECeFZd7C8Tt"
      },
      "outputs": [],
      "source": [
        "# Dividiendo los datos en entrenamiento X, y prueba y.\n",
        "X = nueva_df.drop('Class', axis=1) # Atributos\n",
        "y = nueva_df['Class']  # Etiquetas"
      ]
    },
    {
      "cell_type": "code",
      "execution_count": null,
      "metadata": {
        "id": "braGrOMgD-VW"
      },
      "outputs": [],
      "source": [
        "# Dividiendo los conjuntos de datos en entrenamiento y prueba\n",
        "# Test size =  25%\n",
        "# Train size = 75%\n",
        "# (semilla) random_state = 50\n",
        "\n",
        "X_train, X_test, y_train, y_test = train_test_split(X, y, test_size=0.25, random_state=50)"
      ]
    },
    {
      "cell_type": "code",
      "execution_count": null,
      "metadata": {
        "id": "C81PHwwaIrqb"
      },
      "outputs": [],
      "source": [
        "# Imprimir las longitudes de los conjuntos de datos para verificar\n",
        "print(\"Tamaño del conjunto de entrenamiento:\", len(X_train))\n",
        "print(\"Tamaño del conjunto de prueba:\", len(X_test))\n",
        "print(f'Suma de las etiquetas y: {np.sum(y)} \\nSuma de los valores de entrenamiento de y: {np.sum(y_train)} \\nSuma de los valores de prueba de y: {np.sum(y_test)} ')"
      ]
    },
    {
      "cell_type": "code",
      "execution_count": null,
      "metadata": {
        "id": "LTzmFLpXXsdT"
      },
      "outputs": [],
      "source": [
        "# Distribución del conjunto de datos de entrenamiento y_train\n",
        "y_muestra_train = pd.DataFrame(y_train)\n",
        "sns.countplot(y_muestra_train, x =\"Class\");"
      ]
    },
    {
      "cell_type": "markdown",
      "metadata": {
        "id": "y-RsG7_MHRpZ"
      },
      "source": [
        "Referencia: https://www.youtube.com/watch?v=pohp5AZrp3I&list=PLrR_uxt9l8PvDQan0_QMB5oS3OwWoCiYk"
      ]
    },
    {
      "cell_type": "markdown",
      "metadata": {
        "id": "A4GHTeTfXqOM"
      },
      "source": [
        "### Seleccionando Muestras  - Diego - Domingo"
      ]
    },
    {
      "cell_type": "markdown",
      "metadata": {
        "id": "KBibiFj1jmqK"
      },
      "source": [
        "Necesitamos una submuestra del dataframe que contenga un monto igual de casos fraudulentos como no fraudulentos.\n",
        "\n",
        "El objetivo es permitir que nuestro modelo de aprendizaje pueda entender mejor los patrones que determinan si una transacción es fraudulenta o no.\n",
        "\n",
        "Debido al desbalance de los datos originales, no se puede observar las correlaciones verdaderas entre la variable objetivo y las demás características.\n",
        "\n",
        "\n",
        "\n",
        "\n",
        "Referencias:\n",
        "- https://www.kaggle.com/code/janiobachmann/credit-fraud-dealing-with-imbalanced-datasets"
      ]
    },
    {
      "cell_type": "code",
      "execution_count": null,
      "metadata": {
        "id": "7XJ4WGQaVpeP"
      },
      "outputs": [],
      "source": [
        "#Dado que la mayoría de nuestros datos ya han sido escalados,\n",
        "#debemos escalar las columnas que quedan por escalar (Cantidad y Tiempo)\n",
        "from sklearn.preprocessing import StandardScaler, RobustScaler\n",
        "\n",
        "# RobustScaler es menos propenso a valores atípicos.\n",
        "\n",
        "std_scaler = StandardScaler()\n",
        "rob_scaler = RobustScaler()\n",
        "\n",
        "df['scaled_monto'] = rob_scaler.fit_transform(df['Amount'].values.reshape(-1,1))\n",
        "df['scaled_tiempo'] = rob_scaler.fit_transform(df['Time'].values.reshape(-1,1))\n",
        "\n",
        "df.drop(['Time','Amount'], axis=1, inplace=True)"
      ]
    },
    {
      "cell_type": "code",
      "execution_count": null,
      "metadata": {
        "id": "ZXzvCzduvdIR"
      },
      "outputs": [],
      "source": [
        "scaled_amount = df['scaled_amount']\n",
        "scaled_time = df['scaled_time']\n",
        "\n",
        "df.drop(['scaled_amount', 'scaled_time'], axis=1, inplace=True)\n",
        "df.insert(0, 'scaled_amount', scaled_amount)\n",
        "df.insert(1, 'scaled_time', scaled_time)\n",
        "\n",
        "# Monto y Tiempo estan escaladas\n",
        "\n",
        "df.head()"
      ]
    },
    {
      "cell_type": "code",
      "execution_count": null,
      "metadata": {
        "colab": {
          "base_uri": "https://localhost:8080/"
        },
        "id": "lB8pkFtMvzOC",
        "outputId": "b8648e3e-40c4-4ba7-c7fd-e99c9de5e12e"
      },
      "outputs": [
        {
          "name": "stdout",
          "output_type": "stream",
          "text": [
            "No Frauds 99.83 % of the dataset\n",
            "Frauds 0.17 % of the dataset\n",
            "Train: [ 30473  30496  31002 ... 284804 284805 284806] Test: [    0     1     2 ... 57017 57018 57019]\n",
            "Train: [     0      1      2 ... 284804 284805 284806] Test: [ 30473  30496  31002 ... 113964 113965 113966]\n",
            "Train: [     0      1      2 ... 284804 284805 284806] Test: [ 81609  82400  83053 ... 170946 170947 170948]\n",
            "Train: [     0      1      2 ... 284804 284805 284806] Test: [150654 150660 150661 ... 227866 227867 227868]\n",
            "Train: [     0      1      2 ... 227866 227867 227868] Test: [212516 212644 213092 ... 284804 284805 284806]\n",
            "----------------------------------------------------------------------------------------------------\n",
            "Label Distributions: \n",
            "\n",
            "[0.99827076 0.00172924]\n",
            "[0.99827952 0.00172048]\n"
          ]
        }
      ],
      "source": [
        "#Lo que entendí de esta celda es que hace la comparación de resultados de pruebas del dataset original con el dataset escalado\n",
        "#En realidad veo inecesaria esta prueba por lo que creo que es mejor no hacerla\n",
        "\n",
        "from sklearn.model_selection import train_test_split\n",
        "from sklearn.model_selection import StratifiedShuffleSplit, StratifiedKFold\n",
        "\n",
        "print('No Frauds', round(df['Class'].value_counts()[0]/len(df) * 100,2), '% of the dataset')\n",
        "print('Frauds', round(df['Class'].value_counts()[1]/len(df) * 100,2), '% of the dataset')\n",
        "\n",
        "X = df.drop('Class', axis=1)\n",
        "y = df['Class']\n",
        "\n",
        "sss = StratifiedKFold(n_splits=5, random_state=None, shuffle=False)\n",
        "\n",
        "for train_index, test_index in sss.split(X, y):\n",
        "    print(\"Train:\", train_index, \"Test:\", test_index)\n",
        "    original_Xtrain, original_Xtest = X.iloc[train_index], X.iloc[test_index]\n",
        "    original_ytrain, original_ytest = y.iloc[train_index], y.iloc[test_index]\n",
        "\n",
        "original_Xtrain = original_Xtrain.values\n",
        "original_Xtest = original_Xtest.values\n",
        "original_ytrain = original_ytrain.values\n",
        "original_ytest = original_ytest.values\n",
        "\n",
        "\n",
        "train_unique_label, train_counts_label = np.unique(original_ytrain, return_counts=True)\n",
        "test_unique_label, test_counts_label = np.unique(original_ytest, return_counts=True)\n",
        "print('-' * 100)\n",
        "\n",
        "print('Label Distributions: \\n')\n",
        "print(train_counts_label/ len(original_ytrain))\n",
        "print(test_counts_label/ len(original_ytest))"
      ]
    },
    {
      "cell_type": "code",
      "execution_count": null,
      "metadata": {
        "colab": {
          "base_uri": "https://localhost:8080/",
          "height": 255
        },
        "id": "ITzXTv1swXEB",
        "outputId": "8a291b12-c3f9-4640-da18-5afebaee8bdb"
      },
      "outputs": [
        {
          "data": {
            "text/html": [
              "\n",
              "  <div id=\"df-466ef992-9383-49e2-82a2-0447ff46153a\" class=\"colab-df-container\">\n",
              "    <div>\n",
              "<style scoped>\n",
              "    .dataframe tbody tr th:only-of-type {\n",
              "        vertical-align: middle;\n",
              "    }\n",
              "\n",
              "    .dataframe tbody tr th {\n",
              "        vertical-align: top;\n",
              "    }\n",
              "\n",
              "    .dataframe thead th {\n",
              "        text-align: right;\n",
              "    }\n",
              "</style>\n",
              "<table border=\"1\" class=\"dataframe\">\n",
              "  <thead>\n",
              "    <tr style=\"text-align: right;\">\n",
              "      <th></th>\n",
              "      <th>Time</th>\n",
              "      <th>V1</th>\n",
              "      <th>V2</th>\n",
              "      <th>V3</th>\n",
              "      <th>V4</th>\n",
              "      <th>V5</th>\n",
              "      <th>V6</th>\n",
              "      <th>V7</th>\n",
              "      <th>V8</th>\n",
              "      <th>V9</th>\n",
              "      <th>...</th>\n",
              "      <th>V21</th>\n",
              "      <th>V22</th>\n",
              "      <th>V23</th>\n",
              "      <th>V24</th>\n",
              "      <th>V25</th>\n",
              "      <th>V26</th>\n",
              "      <th>V27</th>\n",
              "      <th>V28</th>\n",
              "      <th>Amount</th>\n",
              "      <th>Class</th>\n",
              "    </tr>\n",
              "  </thead>\n",
              "  <tbody>\n",
              "    <tr>\n",
              "      <th>252836</th>\n",
              "      <td>155991.0</td>\n",
              "      <td>-2.166964</td>\n",
              "      <td>-1.011631</td>\n",
              "      <td>0.986721</td>\n",
              "      <td>1.350219</td>\n",
              "      <td>-0.222675</td>\n",
              "      <td>-0.264904</td>\n",
              "      <td>-0.168004</td>\n",
              "      <td>0.791223</td>\n",
              "      <td>-0.259621</td>\n",
              "      <td>...</td>\n",
              "      <td>0.583943</td>\n",
              "      <td>0.781867</td>\n",
              "      <td>0.294575</td>\n",
              "      <td>-0.047425</td>\n",
              "      <td>-0.024248</td>\n",
              "      <td>-0.387018</td>\n",
              "      <td>0.253877</td>\n",
              "      <td>-0.062767</td>\n",
              "      <td>231.00</td>\n",
              "      <td>0</td>\n",
              "    </tr>\n",
              "    <tr>\n",
              "      <th>153823</th>\n",
              "      <td>100223.0</td>\n",
              "      <td>-19.641857</td>\n",
              "      <td>14.706335</td>\n",
              "      <td>-22.801238</td>\n",
              "      <td>12.114672</td>\n",
              "      <td>-14.898113</td>\n",
              "      <td>0.840778</td>\n",
              "      <td>-28.011293</td>\n",
              "      <td>-11.919639</td>\n",
              "      <td>-8.960922</td>\n",
              "      <td>...</td>\n",
              "      <td>-8.228874</td>\n",
              "      <td>3.318178</td>\n",
              "      <td>2.585212</td>\n",
              "      <td>0.195009</td>\n",
              "      <td>-1.194803</td>\n",
              "      <td>0.038423</td>\n",
              "      <td>-4.126746</td>\n",
              "      <td>-0.645329</td>\n",
              "      <td>2.28</td>\n",
              "      <td>1</td>\n",
              "    </tr>\n",
              "    <tr>\n",
              "      <th>98797</th>\n",
              "      <td>66821.0</td>\n",
              "      <td>1.446882</td>\n",
              "      <td>-0.198676</td>\n",
              "      <td>-0.168033</td>\n",
              "      <td>-0.665991</td>\n",
              "      <td>-0.526911</td>\n",
              "      <td>-1.378273</td>\n",
              "      <td>0.060290</td>\n",
              "      <td>-0.483604</td>\n",
              "      <td>-1.342983</td>\n",
              "      <td>...</td>\n",
              "      <td>0.205759</td>\n",
              "      <td>0.587439</td>\n",
              "      <td>-0.180683</td>\n",
              "      <td>0.462679</td>\n",
              "      <td>0.834680</td>\n",
              "      <td>-0.089180</td>\n",
              "      <td>-0.020842</td>\n",
              "      <td>0.004841</td>\n",
              "      <td>15.00</td>\n",
              "      <td>0</td>\n",
              "    </tr>\n",
              "    <tr>\n",
              "      <th>163149</th>\n",
              "      <td>115691.0</td>\n",
              "      <td>-1.550273</td>\n",
              "      <td>1.088689</td>\n",
              "      <td>-2.393388</td>\n",
              "      <td>1.008733</td>\n",
              "      <td>-1.087562</td>\n",
              "      <td>-1.104602</td>\n",
              "      <td>-2.670503</td>\n",
              "      <td>0.147655</td>\n",
              "      <td>-0.978626</td>\n",
              "      <td>...</td>\n",
              "      <td>0.802316</td>\n",
              "      <td>1.037105</td>\n",
              "      <td>0.095815</td>\n",
              "      <td>-0.320191</td>\n",
              "      <td>-0.080731</td>\n",
              "      <td>0.091012</td>\n",
              "      <td>0.024928</td>\n",
              "      <td>-0.077820</td>\n",
              "      <td>17.06</td>\n",
              "      <td>1</td>\n",
              "    </tr>\n",
              "    <tr>\n",
              "      <th>42700</th>\n",
              "      <td>41204.0</td>\n",
              "      <td>-8.440284</td>\n",
              "      <td>6.147653</td>\n",
              "      <td>-11.683706</td>\n",
              "      <td>6.702780</td>\n",
              "      <td>-8.155839</td>\n",
              "      <td>-3.716264</td>\n",
              "      <td>-12.407313</td>\n",
              "      <td>5.626571</td>\n",
              "      <td>-6.232161</td>\n",
              "      <td>...</td>\n",
              "      <td>2.192855</td>\n",
              "      <td>-0.282597</td>\n",
              "      <td>0.008068</td>\n",
              "      <td>0.403858</td>\n",
              "      <td>-0.018788</td>\n",
              "      <td>0.522722</td>\n",
              "      <td>0.792691</td>\n",
              "      <td>0.067790</td>\n",
              "      <td>30.26</td>\n",
              "      <td>1</td>\n",
              "    </tr>\n",
              "  </tbody>\n",
              "</table>\n",
              "<p>5 rows × 31 columns</p>\n",
              "</div>\n",
              "    <div class=\"colab-df-buttons\">\n",
              "\n",
              "  <div class=\"colab-df-container\">\n",
              "    <button class=\"colab-df-convert\" onclick=\"convertToInteractive('df-466ef992-9383-49e2-82a2-0447ff46153a')\"\n",
              "            title=\"Convert this dataframe to an interactive table.\"\n",
              "            style=\"display:none;\">\n",
              "\n",
              "  <svg xmlns=\"http://www.w3.org/2000/svg\" height=\"24px\" viewBox=\"0 -960 960 960\">\n",
              "    <path d=\"M120-120v-720h720v720H120Zm60-500h600v-160H180v160Zm220 220h160v-160H400v160Zm0 220h160v-160H400v160ZM180-400h160v-160H180v160Zm440 0h160v-160H620v160ZM180-180h160v-160H180v160Zm440 0h160v-160H620v160Z\"/>\n",
              "  </svg>\n",
              "    </button>\n",
              "\n",
              "  <style>\n",
              "    .colab-df-container {\n",
              "      display:flex;\n",
              "      gap: 12px;\n",
              "    }\n",
              "\n",
              "    .colab-df-convert {\n",
              "      background-color: #E8F0FE;\n",
              "      border: none;\n",
              "      border-radius: 50%;\n",
              "      cursor: pointer;\n",
              "      display: none;\n",
              "      fill: #1967D2;\n",
              "      height: 32px;\n",
              "      padding: 0 0 0 0;\n",
              "      width: 32px;\n",
              "    }\n",
              "\n",
              "    .colab-df-convert:hover {\n",
              "      background-color: #E2EBFA;\n",
              "      box-shadow: 0px 1px 2px rgba(60, 64, 67, 0.3), 0px 1px 3px 1px rgba(60, 64, 67, 0.15);\n",
              "      fill: #174EA6;\n",
              "    }\n",
              "\n",
              "    .colab-df-buttons div {\n",
              "      margin-bottom: 4px;\n",
              "    }\n",
              "\n",
              "    [theme=dark] .colab-df-convert {\n",
              "      background-color: #3B4455;\n",
              "      fill: #D2E3FC;\n",
              "    }\n",
              "\n",
              "    [theme=dark] .colab-df-convert:hover {\n",
              "      background-color: #434B5C;\n",
              "      box-shadow: 0px 1px 3px 1px rgba(0, 0, 0, 0.15);\n",
              "      filter: drop-shadow(0px 1px 2px rgba(0, 0, 0, 0.3));\n",
              "      fill: #FFFFFF;\n",
              "    }\n",
              "  </style>\n",
              "\n",
              "    <script>\n",
              "      const buttonEl =\n",
              "        document.querySelector('#df-466ef992-9383-49e2-82a2-0447ff46153a button.colab-df-convert');\n",
              "      buttonEl.style.display =\n",
              "        google.colab.kernel.accessAllowed ? 'block' : 'none';\n",
              "\n",
              "      async function convertToInteractive(key) {\n",
              "        const element = document.querySelector('#df-466ef992-9383-49e2-82a2-0447ff46153a');\n",
              "        const dataTable =\n",
              "          await google.colab.kernel.invokeFunction('convertToInteractive',\n",
              "                                                    [key], {});\n",
              "        if (!dataTable) return;\n",
              "\n",
              "        const docLinkHtml = 'Like what you see? Visit the ' +\n",
              "          '<a target=\"_blank\" href=https://colab.research.google.com/notebooks/data_table.ipynb>data table notebook</a>'\n",
              "          + ' to learn more about interactive tables.';\n",
              "        element.innerHTML = '';\n",
              "        dataTable['output_type'] = 'display_data';\n",
              "        await google.colab.output.renderOutput(dataTable, element);\n",
              "        const docLink = document.createElement('div');\n",
              "        docLink.innerHTML = docLinkHtml;\n",
              "        element.appendChild(docLink);\n",
              "      }\n",
              "    </script>\n",
              "  </div>\n",
              "\n",
              "\n",
              "<div id=\"df-804da752-85a3-4a9c-bc8e-63c01c9dba9b\">\n",
              "  <button class=\"colab-df-quickchart\" onclick=\"quickchart('df-804da752-85a3-4a9c-bc8e-63c01c9dba9b')\"\n",
              "            title=\"Suggest charts\"\n",
              "            style=\"display:none;\">\n",
              "\n",
              "<svg xmlns=\"http://www.w3.org/2000/svg\" height=\"24px\"viewBox=\"0 0 24 24\"\n",
              "     width=\"24px\">\n",
              "    <g>\n",
              "        <path d=\"M19 3H5c-1.1 0-2 .9-2 2v14c0 1.1.9 2 2 2h14c1.1 0 2-.9 2-2V5c0-1.1-.9-2-2-2zM9 17H7v-7h2v7zm4 0h-2V7h2v10zm4 0h-2v-4h2v4z\"/>\n",
              "    </g>\n",
              "</svg>\n",
              "  </button>\n",
              "\n",
              "<style>\n",
              "  .colab-df-quickchart {\n",
              "      --bg-color: #E8F0FE;\n",
              "      --fill-color: #1967D2;\n",
              "      --hover-bg-color: #E2EBFA;\n",
              "      --hover-fill-color: #174EA6;\n",
              "      --disabled-fill-color: #AAA;\n",
              "      --disabled-bg-color: #DDD;\n",
              "  }\n",
              "\n",
              "  [theme=dark] .colab-df-quickchart {\n",
              "      --bg-color: #3B4455;\n",
              "      --fill-color: #D2E3FC;\n",
              "      --hover-bg-color: #434B5C;\n",
              "      --hover-fill-color: #FFFFFF;\n",
              "      --disabled-bg-color: #3B4455;\n",
              "      --disabled-fill-color: #666;\n",
              "  }\n",
              "\n",
              "  .colab-df-quickchart {\n",
              "    background-color: var(--bg-color);\n",
              "    border: none;\n",
              "    border-radius: 50%;\n",
              "    cursor: pointer;\n",
              "    display: none;\n",
              "    fill: var(--fill-color);\n",
              "    height: 32px;\n",
              "    padding: 0;\n",
              "    width: 32px;\n",
              "  }\n",
              "\n",
              "  .colab-df-quickchart:hover {\n",
              "    background-color: var(--hover-bg-color);\n",
              "    box-shadow: 0 1px 2px rgba(60, 64, 67, 0.3), 0 1px 3px 1px rgba(60, 64, 67, 0.15);\n",
              "    fill: var(--button-hover-fill-color);\n",
              "  }\n",
              "\n",
              "  .colab-df-quickchart-complete:disabled,\n",
              "  .colab-df-quickchart-complete:disabled:hover {\n",
              "    background-color: var(--disabled-bg-color);\n",
              "    fill: var(--disabled-fill-color);\n",
              "    box-shadow: none;\n",
              "  }\n",
              "\n",
              "  .colab-df-spinner {\n",
              "    border: 2px solid var(--fill-color);\n",
              "    border-color: transparent;\n",
              "    border-bottom-color: var(--fill-color);\n",
              "    animation:\n",
              "      spin 1s steps(1) infinite;\n",
              "  }\n",
              "\n",
              "  @keyframes spin {\n",
              "    0% {\n",
              "      border-color: transparent;\n",
              "      border-bottom-color: var(--fill-color);\n",
              "      border-left-color: var(--fill-color);\n",
              "    }\n",
              "    20% {\n",
              "      border-color: transparent;\n",
              "      border-left-color: var(--fill-color);\n",
              "      border-top-color: var(--fill-color);\n",
              "    }\n",
              "    30% {\n",
              "      border-color: transparent;\n",
              "      border-left-color: var(--fill-color);\n",
              "      border-top-color: var(--fill-color);\n",
              "      border-right-color: var(--fill-color);\n",
              "    }\n",
              "    40% {\n",
              "      border-color: transparent;\n",
              "      border-right-color: var(--fill-color);\n",
              "      border-top-color: var(--fill-color);\n",
              "    }\n",
              "    60% {\n",
              "      border-color: transparent;\n",
              "      border-right-color: var(--fill-color);\n",
              "    }\n",
              "    80% {\n",
              "      border-color: transparent;\n",
              "      border-right-color: var(--fill-color);\n",
              "      border-bottom-color: var(--fill-color);\n",
              "    }\n",
              "    90% {\n",
              "      border-color: transparent;\n",
              "      border-bottom-color: var(--fill-color);\n",
              "    }\n",
              "  }\n",
              "</style>\n",
              "\n",
              "  <script>\n",
              "    async function quickchart(key) {\n",
              "      const quickchartButtonEl =\n",
              "        document.querySelector('#' + key + ' button');\n",
              "      quickchartButtonEl.disabled = true;  // To prevent multiple clicks.\n",
              "      quickchartButtonEl.classList.add('colab-df-spinner');\n",
              "      try {\n",
              "        const charts = await google.colab.kernel.invokeFunction(\n",
              "            'suggestCharts', [key], {});\n",
              "      } catch (error) {\n",
              "        console.error('Error during call to suggestCharts:', error);\n",
              "      }\n",
              "      quickchartButtonEl.classList.remove('colab-df-spinner');\n",
              "      quickchartButtonEl.classList.add('colab-df-quickchart-complete');\n",
              "    }\n",
              "    (() => {\n",
              "      let quickchartButtonEl =\n",
              "        document.querySelector('#df-804da752-85a3-4a9c-bc8e-63c01c9dba9b button');\n",
              "      quickchartButtonEl.style.display =\n",
              "        google.colab.kernel.accessAllowed ? 'block' : 'none';\n",
              "    })();\n",
              "  </script>\n",
              "</div>\n",
              "    </div>\n",
              "  </div>\n"
            ],
            "text/plain": [
              "            Time         V1         V2         V3         V4         V5  \\\n",
              "252836  155991.0  -2.166964  -1.011631   0.986721   1.350219  -0.222675   \n",
              "153823  100223.0 -19.641857  14.706335 -22.801238  12.114672 -14.898113   \n",
              "98797    66821.0   1.446882  -0.198676  -0.168033  -0.665991  -0.526911   \n",
              "163149  115691.0  -1.550273   1.088689  -2.393388   1.008733  -1.087562   \n",
              "42700    41204.0  -8.440284   6.147653 -11.683706   6.702780  -8.155839   \n",
              "\n",
              "              V6         V7         V8        V9  ...       V21       V22  \\\n",
              "252836 -0.264904  -0.168004   0.791223 -0.259621  ...  0.583943  0.781867   \n",
              "153823  0.840778 -28.011293 -11.919639 -8.960922  ... -8.228874  3.318178   \n",
              "98797  -1.378273   0.060290  -0.483604 -1.342983  ...  0.205759  0.587439   \n",
              "163149 -1.104602  -2.670503   0.147655 -0.978626  ...  0.802316  1.037105   \n",
              "42700  -3.716264 -12.407313   5.626571 -6.232161  ...  2.192855 -0.282597   \n",
              "\n",
              "             V23       V24       V25       V26       V27       V28  Amount  \\\n",
              "252836  0.294575 -0.047425 -0.024248 -0.387018  0.253877 -0.062767  231.00   \n",
              "153823  2.585212  0.195009 -1.194803  0.038423 -4.126746 -0.645329    2.28   \n",
              "98797  -0.180683  0.462679  0.834680 -0.089180 -0.020842  0.004841   15.00   \n",
              "163149  0.095815 -0.320191 -0.080731  0.091012  0.024928 -0.077820   17.06   \n",
              "42700   0.008068  0.403858 -0.018788  0.522722  0.792691  0.067790   30.26   \n",
              "\n",
              "        Class  \n",
              "252836      0  \n",
              "153823      1  \n",
              "98797       0  \n",
              "163149      1  \n",
              "42700       1  \n",
              "\n",
              "[5 rows x 31 columns]"
            ]
          },
          "execution_count": 38,
          "metadata": {},
          "output_type": "execute_result"
        }
      ],
      "source": [
        "#Vamos a mezclar los datos antes de crear las submuestras.\n",
        "df = df.sample(frac=1)\n",
        "\n",
        "# Obtenemos 492 fraudes y 492 no fraudes\n",
        "fraude_df = df.loc[df['Class'] == 1]\n",
        "no_fraude_df = df.loc[df['Class'] == 0][:492]\n",
        "#Juntamos los dos dataframes\n",
        "distribucion_df = pd.concat([fraude_df, no_fraude_df])\n",
        "\n",
        "# Revolvemos las filas del dataframe\n",
        "df_ff = distribucion_df.sample(frac=1, random_state=42)\n",
        "\n",
        "df_ff.head()"
      ]
    },
    {
      "cell_type": "code",
      "execution_count": null,
      "metadata": {
        "colab": {
          "base_uri": "https://localhost:8080/"
        },
        "id": "jfH6NT397f_2",
        "outputId": "21edd371-eb83-46dd-c866-7e232689f6ab"
      },
      "outputs": [
        {
          "data": {
            "text/plain": [
              "(984, 31)"
            ]
          },
          "execution_count": 40,
          "metadata": {},
          "output_type": "execute_result"
        }
      ],
      "source": [
        "df_ff.shape"
      ]
    },
    {
      "cell_type": "code",
      "execution_count": null,
      "metadata": {
        "colab": {
          "base_uri": "https://localhost:8080/",
          "height": 543
        },
        "id": "kqosDxYvw7ae",
        "outputId": "c3e57cb8-89f1-4a78-fbc8-0ea290f5b420"
      },
      "outputs": [
        {
          "name": "stdout",
          "output_type": "stream",
          "text": [
            "Distribución de las clases en el conjunto de datos de la submuestra\n",
            "0    0.5\n",
            "1    0.5\n",
            "Name: Class, dtype: float64\n"
          ]
        },
        {
          "data": {
            "image/png": "[encoded data removed]",
            "text/plain": [
              "<Figure size 640x480 with 1 Axes>"
            ]
          },
          "metadata": {},
          "output_type": "display_data"
        }
      ],
      "source": [
        "print('Distribución de las clases en el conjunto de datos de la submuestra')\n",
        "print(df_ff['Class'].value_counts()/len(df_ff))\n",
        "\n",
        "\n",
        "sns.countplot(data=df_ff, x='Class')\n",
        "plt.title('Distribución de Equivalencia de clases', fontsize=14)\n",
        "plt.show()"
      ]
    },
    {
      "cell_type": "code",
      "execution_count": null,
      "metadata": {
        "id": "_Ldr7iHCg4al"
      },
      "outputs": [],
      "source": [
        "# Para balancear la clase con una distribución igual\n",
        "# Usaremos una combinación de Oversampling y Undersampling\n",
        "# Usaremos la librería de SMOTE\n",
        "\n",
        "from imblearn.over_sampling import SMOTE\n",
        "over_sample = SMOTE()\n",
        "\n",
        "x_smote, y_smote = over_sample.fit_resample(X_train, y_train)\n"
      ]
    },
    {
      "cell_type": "code",
      "execution_count": null,
      "metadata": {
        "id": "-60VT9q_aasG"
      },
      "outputs": [],
      "source": [
        "# Distribución del conjunto de datos de entrenamiento y_train\n",
        "y_muestra_train = pd.DataFrame(y_smote)\n",
        "sns.countplot(y_muestra_train, x =\"Class\");"
      ]
    },
    {
      "cell_type": "markdown",
      "metadata": {
        "id": "rRPCSjnTaDR3"
      },
      "source": [
        "https://machinelearningmastery.com/smote-oversampling-for-imbalanced-classification/"
      ]
    },
    {
      "cell_type": "markdown",
      "metadata": {
        "id": "hwTy29_ptMms"
      },
      "source": [
        "## Algoritmo de Clasificación\n",
        "\n",
        "Las métricas presentadas son claras y se interpretan adecuadamente. El algoritmo de clasificación elegido sobrepasa al resto de los algoritmos en eficacia."
      ]
    },
    {
      "cell_type": "code",
      "source": [
        "# Lazypredict - Taryn"
      ],
      "metadata": {
        "id": "q4JqENpDC7mL"
      },
      "execution_count": null,
      "outputs": []
    },
    {
      "cell_type": "code",
      "source": [
        "# Matriz Consfusion y la ROC - Alexis y Pedro"
      ],
      "metadata": {
        "id": "A14ZWXnyDLKX"
      },
      "execution_count": null,
      "outputs": []
    },
    {
      "cell_type": "markdown",
      "metadata": {
        "id": "y77kl-E6Xj0k"
      },
      "source": [
        "**Modelo Regresión Logística**  \n",
        "- Modelo de Aprendizaje Supervisado\n",
        "- Se usa para predecir la variable categórica dependiente (en este caso es 'Class') usando un conjunto de variables independientes."
      ]
    },
    {
      "cell_type": "code",
      "execution_count": null,
      "metadata": {
        "colab": {
          "base_uri": "https://localhost:8080/"
        },
        "id": "248FhUrsXfyS",
        "outputId": "54382d9e-c119-46ca-9d5f-afa8bc63d054"
      },
      "outputs": [
        {
          "name": "stdout",
          "output_type": "stream",
          "text": [
            "              precision    recall  f1-score   support\n",
            "\n",
            "           0       1.00      1.00      1.00     71089\n",
            "           1       0.85      0.60      0.70       113\n",
            "\n",
            "    accuracy                           1.00     71202\n",
            "   macro avg       0.92      0.80      0.85     71202\n",
            "weighted avg       1.00      1.00      1.00     71202\n",
            "\n",
            "F1 Score: 0.7046632124352332\n"
          ]
        }
      ],
      "source": [
        "# Regresión Logística\n",
        "\n",
        "from sklearn.linear_model import LogisticRegression\n",
        "from sklearn.metrics import classification_report, f1_score\n",
        "\n",
        "model = LogisticRegression()\n",
        "\n",
        "# Entrenamiento\n",
        "model.fit(X_train, y_train)\n",
        "\n",
        "# Predicción\n",
        "y_pred = model.predict(X_test)\n",
        "\n",
        "# Reporte de Clasificación\n",
        "print(classification_report(y_test, y_pred))\n",
        "\n",
        "# F1 Score\n",
        "print(\"F1 Score:\", f1_score(y_test, y_pred))\n"
      ]
    },
    {
      "cell_type": "markdown",
      "metadata": {
        "id": "EHqyfCuS45yl"
      },
      "source": [
        " Referencias:\n",
        " - [Regresión Logística](https://aws.amazon.com/es/what-is/logistic-regression/#:~:text=La%20regresi%C3%B3n%20log%C3%ADstica%20es%20una%20t%C3%A9cnica%20importante%20en%20el%20campo,de%20datos%20sin%20intervenci%C3%B3n%20humana.)"
      ]
    },
    {
      "cell_type": "markdown",
      "metadata": {
        "id": "RHU-hRPI52TL"
      },
      "source": [
        "__Árbol de Decisión__  Taryn\n",
        "- Modelo de Aprendizaje Supervisado.\n",
        "- Se puede usar para problemas de clasificación y regresión.\n",
        "- Es un clasificador de tres estructuras, donde los nodos interiores representan las características del dataset, y las ramas representan las reglas de decisión donde cada hoja representa un outcome.\n"
      ]
    },
    {
      "cell_type": "code",
      "execution_count": null,
      "metadata": {
        "id": "Fa_IWiQR-dCY"
      },
      "outputs": [],
      "source": [
        "# Árbol de Decisión\n",
        "\n",
        "from sklearn.tree import DecisionTreeClassifier\n",
        "from sklearn.metrics import classification_report, f1_score\n",
        "from sklearn.model_selection import cross_val_score\n",
        "\n",
        "model = DecisionTreeClassifier(random_state=42)\n",
        "\n",
        "# Entrenamiento\n",
        "model.fit(X_train, y_train)\n",
        "\n",
        "# Predicción\n",
        "y_pred = model.predict(X_test)\n",
        "\n",
        "# Reporte de Clasificación\n",
        "print(classification_report(y_test, y_pred))\n",
        "\n",
        "# F1 Score\n",
        "print(\"F1 Score:\", f1_score(y_test, y_pred))"
      ]
    },
    {
      "cell_type": "code",
      "execution_count": null,
      "metadata": {
        "id": "ywlhx8DD9J0d"
      },
      "outputs": [],
      "source": [
        "#Importar bibliotecas\n",
        "import numpy as np\n",
        "import pandas as pd\n",
        "import matplotlib.pyplot as plt\n",
        "from sklearn.tree import DecisionTreeClassifier, plot_tree\n",
        "from sklearn.model_selection import train_test_split, cross_val_score"
      ]
    },
    {
      "cell_type": "code",
      "execution_count": null,
      "metadata": {
        "id": "15JeQmNU9LEe"
      },
      "outputs": [],
      "source": [
        "#Revisamos el dataset\n",
        "df = pd.read_csv('/content/creditcard.csv')\n",
        "df"
      ]
    },
    {
      "cell_type": "code",
      "execution_count": null,
      "metadata": {
        "id": "9Ryu3vWL9Ss4"
      },
      "outputs": [],
      "source": [
        "#Definir variables\n",
        "X = df.drop('Class', axis=1)\n",
        "y = df.Class"
      ]
    },
    {
      "cell_type": "code",
      "execution_count": null,
      "metadata": {
        "id": "OWSlTPO49W_V"
      },
      "outputs": [],
      "source": [
        "#Separar datos de entrenamiento y prueba\n",
        "X_train, X_test, y_train, y_test = train_test_split(X, y, test_size=0.2, random_state=42)"
      ]
    },
    {
      "cell_type": "code",
      "execution_count": null,
      "metadata": {
        "colab": {
          "base_uri": "https://localhost:8080/",
          "height": 74
        },
        "id": "pGIBMEu39coy",
        "outputId": "e413909a-2846-4c85-92a8-2370b101e1e7"
      },
      "outputs": [
        {
          "data": {
            "text/html": [
              "<style>#sk-container-id-1 {color: black;background-color: white;}#sk-container-id-1 pre{padding: 0;}#sk-container-id-1 div.sk-toggleable {background-color: white;}#sk-container-id-1 label.sk-toggleable__label {cursor: pointer;display: block;width: 100%;margin-bottom: 0;padding: 0.3em;box-sizing: border-box;text-align: center;}#sk-container-id-1 label.sk-toggleable__label-arrow:before {content: \"▸\";float: left;margin-right: 0.25em;color: #696969;}#sk-container-id-1 label.sk-toggleable__label-arrow:hover:before {color: black;}#sk-container-id-1 div.sk-estimator:hover label.sk-toggleable__label-arrow:before {color: black;}#sk-container-id-1 div.sk-toggleable__content {max-height: 0;max-width: 0;overflow: hidden;text-align: left;background-color: #f0f8ff;}#sk-container-id-1 div.sk-toggleable__content pre {margin: 0.2em;color: black;border-radius: 0.25em;background-color: #f0f8ff;}#sk-container-id-1 input.sk-toggleable__control:checked~div.sk-toggleable__content {max-height: 200px;max-width: 100%;overflow: auto;}#sk-container-id-1 input.sk-toggleable__control:checked~label.sk-toggleable__label-arrow:before {content: \"▾\";}#sk-container-id-1 div.sk-estimator input.sk-toggleable__control:checked~label.sk-toggleable__label {background-color: #d4ebff;}#sk-container-id-1 div.sk-label input.sk-toggleable__control:checked~label.sk-toggleable__label {background-color: #d4ebff;}#sk-container-id-1 input.sk-hidden--visually {border: 0;clip: rect(1px 1px 1px 1px);clip: rect(1px, 1px, 1px, 1px);height: 1px;margin: -1px;overflow: hidden;padding: 0;position: absolute;width: 1px;}#sk-container-id-1 div.sk-estimator {font-family: monospace;background-color: #f0f8ff;border: 1px dotted black;border-radius: 0.25em;box-sizing: border-box;margin-bottom: 0.5em;}#sk-container-id-1 div.sk-estimator:hover {background-color: #d4ebff;}#sk-container-id-1 div.sk-parallel-item::after {content: \"\";width: 100%;border-bottom: 1px solid gray;flex-grow: 1;}#sk-container-id-1 div.sk-label:hover label.sk-toggleable__label {background-color: #d4ebff;}#sk-container-id-1 div.sk-serial::before {content: \"\";position: absolute;border-left: 1px solid gray;box-sizing: border-box;top: 0;bottom: 0;left: 50%;z-index: 0;}#sk-container-id-1 div.sk-serial {display: flex;flex-direction: column;align-items: center;background-color: white;padding-right: 0.2em;padding-left: 0.2em;position: relative;}#sk-container-id-1 div.sk-item {position: relative;z-index: 1;}#sk-container-id-1 div.sk-parallel {display: flex;align-items: stretch;justify-content: center;background-color: white;position: relative;}#sk-container-id-1 div.sk-item::before, #sk-container-id-1 div.sk-parallel-item::before {content: \"\";position: absolute;border-left: 1px solid gray;box-sizing: border-box;top: 0;bottom: 0;left: 50%;z-index: -1;}#sk-container-id-1 div.sk-parallel-item {display: flex;flex-direction: column;z-index: 1;position: relative;background-color: white;}#sk-container-id-1 div.sk-parallel-item:first-child::after {align-self: flex-end;width: 50%;}#sk-container-id-1 div.sk-parallel-item:last-child::after {align-self: flex-start;width: 50%;}#sk-container-id-1 div.sk-parallel-item:only-child::after {width: 0;}#sk-container-id-1 div.sk-dashed-wrapped {border: 1px dashed gray;margin: 0 0.4em 0.5em 0.4em;box-sizing: border-box;padding-bottom: 0.4em;background-color: white;}#sk-container-id-1 div.sk-label label {font-family: monospace;font-weight: bold;display: inline-block;line-height: 1.2em;}#sk-container-id-1 div.sk-label-container {text-align: center;}#sk-container-id-1 div.sk-container {/* jupyter's `normalize.less` sets `[hidden] { display: none; }` but bootstrap.min.css set `[hidden] { display: none !important; }` so we also need the `!important` here to be able to override the default hidden behavior on the sphinx rendered scikit-learn.org. See: https://github.com/scikit-learn/scikit-learn/issues/21755 */display: inline-block !important;position: relative;}#sk-container-id-1 div.sk-text-repr-fallback {display: none;}</style><div id=\"sk-container-id-1\" class=\"sk-top-container\"><div class=\"sk-text-repr-fallback\"><pre>DecisionTreeClassifier(random_state=42)</pre><b>In a Jupyter environment, please rerun this cell to show the HTML representation or trust the notebook. <br />On GitHub, the HTML representation is unable to render, please try loading this page with nbviewer.org.</b></div><div class=\"sk-container\" hidden><div class=\"sk-item\"><div class=\"sk-estimator sk-toggleable\"><input class=\"sk-toggleable__control sk-hidden--visually\" id=\"sk-estimator-id-1\" type=\"checkbox\" checked><label for=\"sk-estimator-id-1\" class=\"sk-toggleable__label sk-toggleable__label-arrow\">DecisionTreeClassifier</label><div class=\"sk-toggleable__content\"><pre>DecisionTreeClassifier(random_state=42)</pre></div></div></div></div></div>"
            ],
            "text/plain": [
              "DecisionTreeClassifier(random_state=42)"
            ]
          },
          "execution_count": 44,
          "metadata": {},
          "output_type": "execute_result"
        }
      ],
      "source": [
        "#Modelo de arbol de desición\n",
        "modelo_arbol = DecisionTreeClassifier(random_state=42)\n",
        "modelo_arbol"
      ]
    },
    {
      "cell_type": "code",
      "execution_count": null,
      "metadata": {
        "colab": {
          "base_uri": "https://localhost:8080/",
          "height": 74
        },
        "id": "0H4DR_LB9hOs",
        "outputId": "2cd32d1c-971d-4fe3-d5a1-ba53afb64119"
      },
      "outputs": [
        {
          "data": {
            "text/html": [
              "<style>#sk-container-id-2 {color: black;background-color: white;}#sk-container-id-2 pre{padding: 0;}#sk-container-id-2 div.sk-toggleable {background-color: white;}#sk-container-id-2 label.sk-toggleable__label {cursor: pointer;display: block;width: 100%;margin-bottom: 0;padding: 0.3em;box-sizing: border-box;text-align: center;}#sk-container-id-2 label.sk-toggleable__label-arrow:before {content: \"▸\";float: left;margin-right: 0.25em;color: #696969;}#sk-container-id-2 label.sk-toggleable__label-arrow:hover:before {color: black;}#sk-container-id-2 div.sk-estimator:hover label.sk-toggleable__label-arrow:before {color: black;}#sk-container-id-2 div.sk-toggleable__content {max-height: 0;max-width: 0;overflow: hidden;text-align: left;background-color: #f0f8ff;}#sk-container-id-2 div.sk-toggleable__content pre {margin: 0.2em;color: black;border-radius: 0.25em;background-color: #f0f8ff;}#sk-container-id-2 input.sk-toggleable__control:checked~div.sk-toggleable__content {max-height: 200px;max-width: 100%;overflow: auto;}#sk-container-id-2 input.sk-toggleable__control:checked~label.sk-toggleable__label-arrow:before {content: \"▾\";}#sk-container-id-2 div.sk-estimator input.sk-toggleable__control:checked~label.sk-toggleable__label {background-color: #d4ebff;}#sk-container-id-2 div.sk-label input.sk-toggleable__control:checked~label.sk-toggleable__label {background-color: #d4ebff;}#sk-container-id-2 input.sk-hidden--visually {border: 0;clip: rect(1px 1px 1px 1px);clip: rect(1px, 1px, 1px, 1px);height: 1px;margin: -1px;overflow: hidden;padding: 0;position: absolute;width: 1px;}#sk-container-id-2 div.sk-estimator {font-family: monospace;background-color: #f0f8ff;border: 1px dotted black;border-radius: 0.25em;box-sizing: border-box;margin-bottom: 0.5em;}#sk-container-id-2 div.sk-estimator:hover {background-color: #d4ebff;}#sk-container-id-2 div.sk-parallel-item::after {content: \"\";width: 100%;border-bottom: 1px solid gray;flex-grow: 1;}#sk-container-id-2 div.sk-label:hover label.sk-toggleable__label {background-color: #d4ebff;}#sk-container-id-2 div.sk-serial::before {content: \"\";position: absolute;border-left: 1px solid gray;box-sizing: border-box;top: 0;bottom: 0;left: 50%;z-index: 0;}#sk-container-id-2 div.sk-serial {display: flex;flex-direction: column;align-items: center;background-color: white;padding-right: 0.2em;padding-left: 0.2em;position: relative;}#sk-container-id-2 div.sk-item {position: relative;z-index: 1;}#sk-container-id-2 div.sk-parallel {display: flex;align-items: stretch;justify-content: center;background-color: white;position: relative;}#sk-container-id-2 div.sk-item::before, #sk-container-id-2 div.sk-parallel-item::before {content: \"\";position: absolute;border-left: 1px solid gray;box-sizing: border-box;top: 0;bottom: 0;left: 50%;z-index: -1;}#sk-container-id-2 div.sk-parallel-item {display: flex;flex-direction: column;z-index: 1;position: relative;background-color: white;}#sk-container-id-2 div.sk-parallel-item:first-child::after {align-self: flex-end;width: 50%;}#sk-container-id-2 div.sk-parallel-item:last-child::after {align-self: flex-start;width: 50%;}#sk-container-id-2 div.sk-parallel-item:only-child::after {width: 0;}#sk-container-id-2 div.sk-dashed-wrapped {border: 1px dashed gray;margin: 0 0.4em 0.5em 0.4em;box-sizing: border-box;padding-bottom: 0.4em;background-color: white;}#sk-container-id-2 div.sk-label label {font-family: monospace;font-weight: bold;display: inline-block;line-height: 1.2em;}#sk-container-id-2 div.sk-label-container {text-align: center;}#sk-container-id-2 div.sk-container {/* jupyter's `normalize.less` sets `[hidden] { display: none; }` but bootstrap.min.css set `[hidden] { display: none !important; }` so we also need the `!important` here to be able to override the default hidden behavior on the sphinx rendered scikit-learn.org. See: https://github.com/scikit-learn/scikit-learn/issues/21755 */display: inline-block !important;position: relative;}#sk-container-id-2 div.sk-text-repr-fallback {display: none;}</style><div id=\"sk-container-id-2\" class=\"sk-top-container\"><div class=\"sk-text-repr-fallback\"><pre>DecisionTreeClassifier(random_state=42)</pre><b>In a Jupyter environment, please rerun this cell to show the HTML representation or trust the notebook. <br />On GitHub, the HTML representation is unable to render, please try loading this page with nbviewer.org.</b></div><div class=\"sk-container\" hidden><div class=\"sk-item\"><div class=\"sk-estimator sk-toggleable\"><input class=\"sk-toggleable__control sk-hidden--visually\" id=\"sk-estimator-id-2\" type=\"checkbox\" checked><label for=\"sk-estimator-id-2\" class=\"sk-toggleable__label sk-toggleable__label-arrow\">DecisionTreeClassifier</label><div class=\"sk-toggleable__content\"><pre>DecisionTreeClassifier(random_state=42)</pre></div></div></div></div></div>"
            ],
            "text/plain": [
              "DecisionTreeClassifier(random_state=42)"
            ]
          },
          "execution_count": 45,
          "metadata": {},
          "output_type": "execute_result"
        }
      ],
      "source": [
        "#Entrenamiento\n",
        "modelo_arbol.fit(X_train, y_train)"
      ]
    },
    {
      "cell_type": "code",
      "execution_count": null,
      "metadata": {
        "colab": {
          "base_uri": "https://localhost:8080/"
        },
        "id": "Cz1UZv-u9iiq",
        "outputId": "e4941c99-bc7d-4452-fd3f-634cb5cf4f5f"
      },
      "outputs": [
        {
          "data": {
            "text/plain": [
              "array([1, 0, 0, ..., 0, 0, 0])"
            ]
          },
          "execution_count": 50,
          "metadata": {},
          "output_type": "execute_result"
        }
      ],
      "source": [
        "#Predicciones\n",
        "predicciones = modelo_arbol.predict(X_test)\n",
        "predicciones"
      ]
    },
    {
      "cell_type": "code",
      "execution_count": null,
      "metadata": {
        "colab": {
          "base_uri": "https://localhost:8080/"
        },
        "id": "RFbTjFAl9nLS",
        "outputId": "0207ed3a-7c05-4c7a-9408-25230705b7c7"
      },
      "outputs": [
        {
          "name": "stdout",
          "output_type": "stream",
          "text": [
            "Precisión del modelo en el conjunto de prueba: 1.00\n"
          ]
        }
      ],
      "source": [
        "#Precision del modelo\n",
        "precision = np.mean(predicciones == y_test)\n",
        "print(f'Precisión del modelo en el conjunto de prueba: {precision:.2f}')"
      ]
    },
    {
      "cell_type": "code",
      "execution_count": null,
      "metadata": {
        "colab": {
          "base_uri": "https://localhost:8080/"
        },
        "id": "rViR7Vch-YcT",
        "outputId": "76cfd362-8129-41bb-f835-7d6db87e0779"
      },
      "outputs": [
        {
          "name": "stdout",
          "output_type": "stream",
          "text": [
            "              precision    recall  f1-score   support\n",
            "\n",
            "           0       1.00      1.00      1.00     56864\n",
            "           1       0.70      0.80      0.74        98\n",
            "\n",
            "    accuracy                           1.00     56962\n",
            "   macro avg       0.85      0.90      0.87     56962\n",
            "weighted avg       1.00      1.00      1.00     56962\n",
            "\n",
            "F1 Score: 0.7428571428571428\n"
          ]
        }
      ],
      "source": [
        "# Reporte de Clasificación\n",
        "print(classification_report(y_test, predicciones))\n",
        "\n",
        "# F1 Score\n",
        "print(\"F1 Score:\", f1_score(y_test, predicciones))"
      ]
    },
    {
      "cell_type": "code",
      "execution_count": null,
      "metadata": {
        "colab": {
          "base_uri": "https://localhost:8080/"
        },
        "id": "edFeZP2f9n25",
        "outputId": "cf8815d7-a5c0-4e2a-9a39-004c86a012e0"
      },
      "outputs": [
        {
          "name": "stdout",
          "output_type": "stream",
          "text": [
            "Precisión de validación cruzada: 0.80 (+/- 0.79)\n"
          ]
        }
      ],
      "source": [
        "#Validacion cruzada\n",
        "scores = cross_val_score(modelo_arbol, X, y, cv=5)\n",
        "print(f'Precisión de validación cruzada: {scores.mean():.2f} (+/- {scores.std() * 2:.2f})')"
      ]
    },
    {
      "cell_type": "markdown",
      "metadata": {
        "id": "3ERcBSTeTpMk"
      },
      "source": [
        "__Random Forest__\n"
      ]
    },
    {
      "cell_type": "code",
      "execution_count": null,
      "metadata": {
        "colab": {
          "base_uri": "https://localhost:8080/"
        },
        "id": "UyBE4hGFTuBI",
        "outputId": "95a4b408-5684-44d1-ee3d-dd622692da0d"
      },
      "outputs": [
        {
          "name": "stdout",
          "output_type": "stream",
          "text": [
            "              precision    recall  f1-score   support\n",
            "\n",
            "           0       1.00      1.00      1.00     56864\n",
            "           1       0.97      0.78      0.86        98\n",
            "\n",
            "    accuracy                           1.00     56962\n",
            "   macro avg       0.99      0.89      0.93     56962\n",
            "weighted avg       1.00      1.00      1.00     56962\n",
            "\n",
            "F1 Score: 0.8636363636363635\n"
          ]
        }
      ],
      "source": [
        "# Random Forest\n",
        "\n",
        "from sklearn.ensemble import RandomForestClassifier\n",
        "from sklearn.metrics import classification_report, f1_score\n",
        "\n",
        "model = RandomForestClassifier()\n",
        "\n",
        "# Entrenamiento\n",
        "model.fit(X_train, y_train)\n",
        "\n",
        "# Predicción\n",
        "y_pred = model.predict(X_test)\n",
        "\n",
        "# Reporte de Clasificación\n",
        "print(classification_report(y_test, y_pred))\n",
        "\n",
        "# F1 Score\n",
        "print(\"F1 Score:\", f1_score(y_test, y_pred))"
      ]
    },
    {
      "cell_type": "markdown",
      "metadata": {
        "id": "WDH-27w7sv06"
      },
      "source": [
        "## Validación por K-Fold o LOOCV\n",
        "\n",
        "Las pruebas de validación cruzada se aplican adecuadamente en conjunto con los algoritmos, de tal manera que no hay datos favoritos o fácilmente clasificables en el dataset de pruebas\n"
      ]
    },
    {
      "cell_type": "markdown",
      "metadata": {
        "id": "FS7Nsz0cU00F"
      },
      "source": [
        "### Validación Cruzada K-Fold Taryn\n",
        "\n"
      ]
    },
    {
      "cell_type": "markdown",
      "metadata": {
        "id": "5eTdKZnXWL_5"
      },
      "source": [
        "* La validación cruzada (K-fold) es una técnica para evaluar el rendimiento de un modelo de forma robusta.   \n",
        "* Divide los datos en conjuntos de entrenamiento y prueba múltiples veces.   \n",
        "* Permite una evaluación más precisa de cómo el modelo generaliza a datos no vistos.   \n",
        "* Ayuda a evitar el sobreajuste (overfitting) y proporciona una medida más fiable del rendimiento del modelo.\n",
        "[[Sesion 2]](https://github.com/alemora24/C1-Machine-Learning-MASIVO/blob/main/Sesion-02/Ejemplo02.ipynb\n",
        ")\n"
      ]
    },
    {
      "cell_type": "code",
      "execution_count": null,
      "metadata": {
        "id": "UlEl8TAwVpYL"
      },
      "outputs": [],
      "source": [
        "# Importando bibliotecas\n",
        "import numpy as np\n",
        "from sklearn.model_selection import KFold"
      ]
    },
    {
      "cell_type": "code",
      "execution_count": null,
      "metadata": {
        "id": "FqRGeUtml-tl"
      },
      "outputs": [],
      "source": [
        "# Definir el número de pliegues para la validación cruzada\n",
        "num_pliegues = 5"
      ]
    },
    {
      "cell_type": "code",
      "execution_count": null,
      "metadata": {
        "id": "lsPn-xkMmHUA"
      },
      "outputs": [],
      "source": [
        "# Crear un objeto KFold para dividir los datos en pliegues\n",
        "kf = KFold(n_splits=num_pliegues, shuffle=True, random_state=42)"
      ]
    },
    {
      "cell_type": "code",
      "execution_count": null,
      "metadata": {
        "id": "pQciXF4NbQw1"
      },
      "outputs": [],
      "source": []
    },
    {
      "cell_type": "markdown",
      "metadata": {
        "id": "qtd3tJ6HlZ2b"
      },
      "source": [
        "### Métricas de Desempeño"
      ]
    },
    {
      "cell_type": "markdown",
      "metadata": {
        "id": "LnAwmwt3RRiB"
      },
      "source": [
        "**Confusion Matrix**  \n",
        "* Una matriz de confusión nos ayuda a describir el desempeño de un modelo de clasificación sobre un conjunto de datos de prueba para los cuales se conocen los valores verdaderos.   \n",
        "* Muestra cuántos casos se clasificaron correctamente (verdaderos positivos y verdaderos negativos) y ls que se clasificaron incorrectamente (falsos positivos y falsos negativos).   \n",
        "* Nos ayuda a evaluar la precisión y el rendimiento del modelo.\n",
        " [[Ref]](https://www.analyticsvidhya.com/blog/2020/04/confusion-matrix-machine-learning/#:~:text=A%20confusion%20matrix%20is%20a%20performance%20evaluation%20tool%20in%20machine,false%20positives%2C%20and%20false%20negatives.)"
      ]
    },
    {
      "cell_type": "markdown",
      "metadata": {
        "id": "MYFy5Y6iSQp3"
      },
      "source": [
        "![image.png](data:image/png;base64,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)"
      ]
    },
    {
      "cell_type": "code",
      "execution_count": null,
      "metadata": {
        "id": "W_6z74G92-qf"
      },
      "outputs": [],
      "source": [
        "from sklearn import metrics"
      ]
    },
    {
      "cell_type": "code",
      "execution_count": null,
      "metadata": {
        "id": "jwPgDQgPCspF"
      },
      "outputs": [],
      "source": [
        "cnf_matrix = metrics.confusion_matrix(y_test, y_pred)\n",
        "cnf_matrix"
      ]
    },
    {
      "cell_type": "code",
      "execution_count": null,
      "metadata": {
        "id": "mGt_Kt0FCtPc"
      },
      "outputs": [],
      "source": []
    },
    {
      "cell_type": "markdown",
      "metadata": {
        "id": "gnnMEIxGSU-B"
      },
      "source": [
        "**Reportes de Clasificación**\n",
        "\n"
      ]
    },
    {
      "cell_type": "markdown",
      "metadata": {
        "id": "BndS8zvBWl1M"
      },
      "source": [
        "El reporte de clasificación consiste en presentar métricas que evalúen el desempeño del modelo. Dichas métricas pueden ser:\n",
        "- Precisión\n",
        "- Sensibilidad\n",
        "- Especificidad\n",
        "- F1-Score\n",
        "- AUC - ROC\n",
        "- Error Cudrático Medio (MSE)\n",
        "- Coeficiente de Determinación (R^2)\n",
        "\n",
        "**Precisión :**  \n",
        "Mide la proporción de predicciones correctas sobre el total de predicciones.  \n",
        "Fórmula: Verdaderos Positivos / (Verdaderos Positivos + Falsos Positivos)\n"
      ]
    },
    {
      "cell_type": "markdown",
      "metadata": {
        "id": "Ea0bCytnk3_g"
      },
      "source": [
        "__Sensibilidad:__  \n",
        "\n",
        "\n"
      ]
    },
    {
      "cell_type": "markdown",
      "metadata": {
        "id": "97avX0Rfk_Pw"
      },
      "source": [
        "__F1-Score:__  \n"
      ]
    },
    {
      "cell_type": "markdown",
      "metadata": {
        "id": "xFqy0UwrlM3f"
      },
      "source": [
        "__AUC-ROC__\n",
        "\n"
      ]
    },
    {
      "cell_type": "markdown",
      "metadata": {
        "id": "6d3vFTVBSJ-e"
      },
      "source": []
    },
    {
      "cell_type": "markdown",
      "metadata": {
        "id": "SpOXmAptSJ4K"
      },
      "source": [
        "# Referencias"
      ]
    },
    {
      "cell_type": "markdown",
      "metadata": {
        "id": "PIfP_m83zqtD"
      },
      "source": [
        "Referencias:\n",
        "\n",
        "- https://www.elastic.co/es/what-is/machine-learning\n",
        "\n",
        "- https://www.geeksforgeeks.org/getting-started-machine-learning/?ref=lbp\n",
        "\n",
        "- https://www.youtube.com/watch?v=M_Cu7r9gik4&list=TLPQMDExMjIwMjMvG_hqJzTdLg&index=2\n",
        "\n",
        "- https://www.youtube.com/watch?v=NCgjcHLFNDg&t=540s\n",
        "\n",
        "- https://www.youtube.com/watch?v=sq5BYW4COwA\n",
        "\n",
        "- https://www.youtube.com/watch?v=v14ydtOuOr4"
      ]
    },
    {
      "cell_type": "markdown",
      "source": [
        "Guión\n",
        "\n",
        "-"
      ],
      "metadata": {
        "id": "UVwDviL9Ewkg"
      }
    }
  ],
  "metadata": {
    "colab": {
      "collapsed_sections": [
        "lUJPdC5hIj48"
      ],
      "provenance": []
    },
    "kernelspec": {
      "display_name": "Python 3",
      "name": "python3"
    },
    "language_info": {
      "name": "python"
    }
  },
  "nbformat": 4,
  "nbformat_minor": 0
}